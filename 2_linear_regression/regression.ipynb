{
 "cells": [
  {
   "cell_type": "code",
   "execution_count": 1,
   "metadata": {
    "collapsed": true
   },
   "outputs": [],
   "source": [
    "import numpy as np\n",
    "import pandas as pd\n"
   ]
  },
  {
   "cell_type": "markdown",
   "source": [
    "# Exploratory data analysis"
   ],
   "metadata": {
    "collapsed": false
   }
  },
  {
   "cell_type": "code",
   "execution_count": 2,
   "outputs": [],
   "source": [
    "df = pd.read_csv('../data/lesson2.csv')\n"
   ],
   "metadata": {
    "collapsed": false
   }
  },
  {
   "cell_type": "code",
   "execution_count": 3,
   "outputs": [
    {
     "data": {
      "text/plain": "  Make       Model  Year             Engine Fuel Type  Engine HP  \\\n0  BMW  1 Series M  2011  premium unleaded (required)      335.0   \n1  BMW    1 Series  2011  premium unleaded (required)      300.0   \n2  BMW    1 Series  2011  premium unleaded (required)      300.0   \n3  BMW    1 Series  2011  premium unleaded (required)      230.0   \n4  BMW    1 Series  2011  premium unleaded (required)      230.0   \n\n   Engine Cylinders Transmission Type     Driven_Wheels  Number of Doors  \\\n0               6.0            MANUAL  rear wheel drive              2.0   \n1               6.0            MANUAL  rear wheel drive              2.0   \n2               6.0            MANUAL  rear wheel drive              2.0   \n3               6.0            MANUAL  rear wheel drive              2.0   \n4               6.0            MANUAL  rear wheel drive              2.0   \n\n                         Market Category Vehicle Size Vehicle Style  \\\n0  Factory Tuner,Luxury,High-Performance      Compact         Coupe   \n1                     Luxury,Performance      Compact   Convertible   \n2                Luxury,High-Performance      Compact         Coupe   \n3                     Luxury,Performance      Compact         Coupe   \n4                                 Luxury      Compact   Convertible   \n\n   highway MPG  city mpg  Popularity   MSRP  \n0           26        19        3916  46135  \n1           28        19        3916  40650  \n2           28        20        3916  36350  \n3           28        18        3916  29450  \n4           28        18        3916  34500  ",
      "text/html": "<div>\n<style scoped>\n    .dataframe tbody tr th:only-of-type {\n        vertical-align: middle;\n    }\n\n    .dataframe tbody tr th {\n        vertical-align: top;\n    }\n\n    .dataframe thead th {\n        text-align: right;\n    }\n</style>\n<table border=\"1\" class=\"dataframe\">\n  <thead>\n    <tr style=\"text-align: right;\">\n      <th></th>\n      <th>Make</th>\n      <th>Model</th>\n      <th>Year</th>\n      <th>Engine Fuel Type</th>\n      <th>Engine HP</th>\n      <th>Engine Cylinders</th>\n      <th>Transmission Type</th>\n      <th>Driven_Wheels</th>\n      <th>Number of Doors</th>\n      <th>Market Category</th>\n      <th>Vehicle Size</th>\n      <th>Vehicle Style</th>\n      <th>highway MPG</th>\n      <th>city mpg</th>\n      <th>Popularity</th>\n      <th>MSRP</th>\n    </tr>\n  </thead>\n  <tbody>\n    <tr>\n      <th>0</th>\n      <td>BMW</td>\n      <td>1 Series M</td>\n      <td>2011</td>\n      <td>premium unleaded (required)</td>\n      <td>335.0</td>\n      <td>6.0</td>\n      <td>MANUAL</td>\n      <td>rear wheel drive</td>\n      <td>2.0</td>\n      <td>Factory Tuner,Luxury,High-Performance</td>\n      <td>Compact</td>\n      <td>Coupe</td>\n      <td>26</td>\n      <td>19</td>\n      <td>3916</td>\n      <td>46135</td>\n    </tr>\n    <tr>\n      <th>1</th>\n      <td>BMW</td>\n      <td>1 Series</td>\n      <td>2011</td>\n      <td>premium unleaded (required)</td>\n      <td>300.0</td>\n      <td>6.0</td>\n      <td>MANUAL</td>\n      <td>rear wheel drive</td>\n      <td>2.0</td>\n      <td>Luxury,Performance</td>\n      <td>Compact</td>\n      <td>Convertible</td>\n      <td>28</td>\n      <td>19</td>\n      <td>3916</td>\n      <td>40650</td>\n    </tr>\n    <tr>\n      <th>2</th>\n      <td>BMW</td>\n      <td>1 Series</td>\n      <td>2011</td>\n      <td>premium unleaded (required)</td>\n      <td>300.0</td>\n      <td>6.0</td>\n      <td>MANUAL</td>\n      <td>rear wheel drive</td>\n      <td>2.0</td>\n      <td>Luxury,High-Performance</td>\n      <td>Compact</td>\n      <td>Coupe</td>\n      <td>28</td>\n      <td>20</td>\n      <td>3916</td>\n      <td>36350</td>\n    </tr>\n    <tr>\n      <th>3</th>\n      <td>BMW</td>\n      <td>1 Series</td>\n      <td>2011</td>\n      <td>premium unleaded (required)</td>\n      <td>230.0</td>\n      <td>6.0</td>\n      <td>MANUAL</td>\n      <td>rear wheel drive</td>\n      <td>2.0</td>\n      <td>Luxury,Performance</td>\n      <td>Compact</td>\n      <td>Coupe</td>\n      <td>28</td>\n      <td>18</td>\n      <td>3916</td>\n      <td>29450</td>\n    </tr>\n    <tr>\n      <th>4</th>\n      <td>BMW</td>\n      <td>1 Series</td>\n      <td>2011</td>\n      <td>premium unleaded (required)</td>\n      <td>230.0</td>\n      <td>6.0</td>\n      <td>MANUAL</td>\n      <td>rear wheel drive</td>\n      <td>2.0</td>\n      <td>Luxury</td>\n      <td>Compact</td>\n      <td>Convertible</td>\n      <td>28</td>\n      <td>18</td>\n      <td>3916</td>\n      <td>34500</td>\n    </tr>\n  </tbody>\n</table>\n</div>"
     },
     "execution_count": 3,
     "metadata": {},
     "output_type": "execute_result"
    }
   ],
   "source": [
    "df.head()"
   ],
   "metadata": {
    "collapsed": false
   }
  },
  {
   "cell_type": "code",
   "execution_count": 4,
   "outputs": [],
   "source": [
    "df.columns = df.columns.str.lower().str.replace(' ','_')"
   ],
   "metadata": {
    "collapsed": false
   }
  },
  {
   "cell_type": "code",
   "execution_count": 5,
   "outputs": [
    {
     "data": {
      "text/plain": "          make       model  year                engine_fuel_type  engine_hp  \\\n0          BMW  1 Series M  2011     premium unleaded (required)      335.0   \n1          BMW    1 Series  2011     premium unleaded (required)      300.0   \n2          BMW    1 Series  2011     premium unleaded (required)      300.0   \n3          BMW    1 Series  2011     premium unleaded (required)      230.0   \n4          BMW    1 Series  2011     premium unleaded (required)      230.0   \n...        ...         ...   ...                             ...        ...   \n11909    Acura         ZDX  2012     premium unleaded (required)      300.0   \n11910    Acura         ZDX  2012     premium unleaded (required)      300.0   \n11911    Acura         ZDX  2012     premium unleaded (required)      300.0   \n11912    Acura         ZDX  2013  premium unleaded (recommended)      300.0   \n11913  Lincoln      Zephyr  2006                regular unleaded      221.0   \n\n       engine_cylinders transmission_type      driven_wheels  number_of_doors  \\\n0                   6.0            MANUAL   rear wheel drive              2.0   \n1                   6.0            MANUAL   rear wheel drive              2.0   \n2                   6.0            MANUAL   rear wheel drive              2.0   \n3                   6.0            MANUAL   rear wheel drive              2.0   \n4                   6.0            MANUAL   rear wheel drive              2.0   \n...                 ...               ...                ...              ...   \n11909               6.0         AUTOMATIC    all wheel drive              4.0   \n11910               6.0         AUTOMATIC    all wheel drive              4.0   \n11911               6.0         AUTOMATIC    all wheel drive              4.0   \n11912               6.0         AUTOMATIC    all wheel drive              4.0   \n11913               6.0         AUTOMATIC  front wheel drive              4.0   \n\n                             market_category vehicle_size  vehicle_style  \\\n0      Factory Tuner,Luxury,High-Performance      Compact          Coupe   \n1                         Luxury,Performance      Compact    Convertible   \n2                    Luxury,High-Performance      Compact          Coupe   \n3                         Luxury,Performance      Compact          Coupe   \n4                                     Luxury      Compact    Convertible   \n...                                      ...          ...            ...   \n11909             Crossover,Hatchback,Luxury      Midsize  4dr Hatchback   \n11910             Crossover,Hatchback,Luxury      Midsize  4dr Hatchback   \n11911             Crossover,Hatchback,Luxury      Midsize  4dr Hatchback   \n11912             Crossover,Hatchback,Luxury      Midsize  4dr Hatchback   \n11913                                 Luxury      Midsize          Sedan   \n\n       highway_mpg  city_mpg  popularity   msrp  \n0               26        19        3916  46135  \n1               28        19        3916  40650  \n2               28        20        3916  36350  \n3               28        18        3916  29450  \n4               28        18        3916  34500  \n...            ...       ...         ...    ...  \n11909           23        16         204  46120  \n11910           23        16         204  56670  \n11911           23        16         204  50620  \n11912           23        16         204  50920  \n11913           26        17          61  28995  \n\n[11914 rows x 16 columns]",
      "text/html": "<div>\n<style scoped>\n    .dataframe tbody tr th:only-of-type {\n        vertical-align: middle;\n    }\n\n    .dataframe tbody tr th {\n        vertical-align: top;\n    }\n\n    .dataframe thead th {\n        text-align: right;\n    }\n</style>\n<table border=\"1\" class=\"dataframe\">\n  <thead>\n    <tr style=\"text-align: right;\">\n      <th></th>\n      <th>make</th>\n      <th>model</th>\n      <th>year</th>\n      <th>engine_fuel_type</th>\n      <th>engine_hp</th>\n      <th>engine_cylinders</th>\n      <th>transmission_type</th>\n      <th>driven_wheels</th>\n      <th>number_of_doors</th>\n      <th>market_category</th>\n      <th>vehicle_size</th>\n      <th>vehicle_style</th>\n      <th>highway_mpg</th>\n      <th>city_mpg</th>\n      <th>popularity</th>\n      <th>msrp</th>\n    </tr>\n  </thead>\n  <tbody>\n    <tr>\n      <th>0</th>\n      <td>BMW</td>\n      <td>1 Series M</td>\n      <td>2011</td>\n      <td>premium unleaded (required)</td>\n      <td>335.0</td>\n      <td>6.0</td>\n      <td>MANUAL</td>\n      <td>rear wheel drive</td>\n      <td>2.0</td>\n      <td>Factory Tuner,Luxury,High-Performance</td>\n      <td>Compact</td>\n      <td>Coupe</td>\n      <td>26</td>\n      <td>19</td>\n      <td>3916</td>\n      <td>46135</td>\n    </tr>\n    <tr>\n      <th>1</th>\n      <td>BMW</td>\n      <td>1 Series</td>\n      <td>2011</td>\n      <td>premium unleaded (required)</td>\n      <td>300.0</td>\n      <td>6.0</td>\n      <td>MANUAL</td>\n      <td>rear wheel drive</td>\n      <td>2.0</td>\n      <td>Luxury,Performance</td>\n      <td>Compact</td>\n      <td>Convertible</td>\n      <td>28</td>\n      <td>19</td>\n      <td>3916</td>\n      <td>40650</td>\n    </tr>\n    <tr>\n      <th>2</th>\n      <td>BMW</td>\n      <td>1 Series</td>\n      <td>2011</td>\n      <td>premium unleaded (required)</td>\n      <td>300.0</td>\n      <td>6.0</td>\n      <td>MANUAL</td>\n      <td>rear wheel drive</td>\n      <td>2.0</td>\n      <td>Luxury,High-Performance</td>\n      <td>Compact</td>\n      <td>Coupe</td>\n      <td>28</td>\n      <td>20</td>\n      <td>3916</td>\n      <td>36350</td>\n    </tr>\n    <tr>\n      <th>3</th>\n      <td>BMW</td>\n      <td>1 Series</td>\n      <td>2011</td>\n      <td>premium unleaded (required)</td>\n      <td>230.0</td>\n      <td>6.0</td>\n      <td>MANUAL</td>\n      <td>rear wheel drive</td>\n      <td>2.0</td>\n      <td>Luxury,Performance</td>\n      <td>Compact</td>\n      <td>Coupe</td>\n      <td>28</td>\n      <td>18</td>\n      <td>3916</td>\n      <td>29450</td>\n    </tr>\n    <tr>\n      <th>4</th>\n      <td>BMW</td>\n      <td>1 Series</td>\n      <td>2011</td>\n      <td>premium unleaded (required)</td>\n      <td>230.0</td>\n      <td>6.0</td>\n      <td>MANUAL</td>\n      <td>rear wheel drive</td>\n      <td>2.0</td>\n      <td>Luxury</td>\n      <td>Compact</td>\n      <td>Convertible</td>\n      <td>28</td>\n      <td>18</td>\n      <td>3916</td>\n      <td>34500</td>\n    </tr>\n    <tr>\n      <th>...</th>\n      <td>...</td>\n      <td>...</td>\n      <td>...</td>\n      <td>...</td>\n      <td>...</td>\n      <td>...</td>\n      <td>...</td>\n      <td>...</td>\n      <td>...</td>\n      <td>...</td>\n      <td>...</td>\n      <td>...</td>\n      <td>...</td>\n      <td>...</td>\n      <td>...</td>\n      <td>...</td>\n    </tr>\n    <tr>\n      <th>11909</th>\n      <td>Acura</td>\n      <td>ZDX</td>\n      <td>2012</td>\n      <td>premium unleaded (required)</td>\n      <td>300.0</td>\n      <td>6.0</td>\n      <td>AUTOMATIC</td>\n      <td>all wheel drive</td>\n      <td>4.0</td>\n      <td>Crossover,Hatchback,Luxury</td>\n      <td>Midsize</td>\n      <td>4dr Hatchback</td>\n      <td>23</td>\n      <td>16</td>\n      <td>204</td>\n      <td>46120</td>\n    </tr>\n    <tr>\n      <th>11910</th>\n      <td>Acura</td>\n      <td>ZDX</td>\n      <td>2012</td>\n      <td>premium unleaded (required)</td>\n      <td>300.0</td>\n      <td>6.0</td>\n      <td>AUTOMATIC</td>\n      <td>all wheel drive</td>\n      <td>4.0</td>\n      <td>Crossover,Hatchback,Luxury</td>\n      <td>Midsize</td>\n      <td>4dr Hatchback</td>\n      <td>23</td>\n      <td>16</td>\n      <td>204</td>\n      <td>56670</td>\n    </tr>\n    <tr>\n      <th>11911</th>\n      <td>Acura</td>\n      <td>ZDX</td>\n      <td>2012</td>\n      <td>premium unleaded (required)</td>\n      <td>300.0</td>\n      <td>6.0</td>\n      <td>AUTOMATIC</td>\n      <td>all wheel drive</td>\n      <td>4.0</td>\n      <td>Crossover,Hatchback,Luxury</td>\n      <td>Midsize</td>\n      <td>4dr Hatchback</td>\n      <td>23</td>\n      <td>16</td>\n      <td>204</td>\n      <td>50620</td>\n    </tr>\n    <tr>\n      <th>11912</th>\n      <td>Acura</td>\n      <td>ZDX</td>\n      <td>2013</td>\n      <td>premium unleaded (recommended)</td>\n      <td>300.0</td>\n      <td>6.0</td>\n      <td>AUTOMATIC</td>\n      <td>all wheel drive</td>\n      <td>4.0</td>\n      <td>Crossover,Hatchback,Luxury</td>\n      <td>Midsize</td>\n      <td>4dr Hatchback</td>\n      <td>23</td>\n      <td>16</td>\n      <td>204</td>\n      <td>50920</td>\n    </tr>\n    <tr>\n      <th>11913</th>\n      <td>Lincoln</td>\n      <td>Zephyr</td>\n      <td>2006</td>\n      <td>regular unleaded</td>\n      <td>221.0</td>\n      <td>6.0</td>\n      <td>AUTOMATIC</td>\n      <td>front wheel drive</td>\n      <td>4.0</td>\n      <td>Luxury</td>\n      <td>Midsize</td>\n      <td>Sedan</td>\n      <td>26</td>\n      <td>17</td>\n      <td>61</td>\n      <td>28995</td>\n    </tr>\n  </tbody>\n</table>\n<p>11914 rows × 16 columns</p>\n</div>"
     },
     "execution_count": 5,
     "metadata": {},
     "output_type": "execute_result"
    }
   ],
   "source": [
    "df\n"
   ],
   "metadata": {
    "collapsed": false
   }
  },
  {
   "cell_type": "code",
   "execution_count": 6,
   "outputs": [
    {
     "data": {
      "text/plain": "          make       model  year                engine_fuel_type  engine_hp  \\\n0          bmw  1_series_m  2011     premium_unleaded_(required)      335.0   \n1          bmw    1_series  2011     premium_unleaded_(required)      300.0   \n2          bmw    1_series  2011     premium_unleaded_(required)      300.0   \n3          bmw    1_series  2011     premium_unleaded_(required)      230.0   \n4          bmw    1_series  2011     premium_unleaded_(required)      230.0   \n...        ...         ...   ...                             ...        ...   \n11909    acura         zdx  2012     premium_unleaded_(required)      300.0   \n11910    acura         zdx  2012     premium_unleaded_(required)      300.0   \n11911    acura         zdx  2012     premium_unleaded_(required)      300.0   \n11912    acura         zdx  2013  premium_unleaded_(recommended)      300.0   \n11913  lincoln      zephyr  2006                regular_unleaded      221.0   \n\n       engine_cylinders transmission_type      driven_wheels  number_of_doors  \\\n0                   6.0            manual   rear_wheel_drive              2.0   \n1                   6.0            manual   rear_wheel_drive              2.0   \n2                   6.0            manual   rear_wheel_drive              2.0   \n3                   6.0            manual   rear_wheel_drive              2.0   \n4                   6.0            manual   rear_wheel_drive              2.0   \n...                 ...               ...                ...              ...   \n11909               6.0         automatic    all_wheel_drive              4.0   \n11910               6.0         automatic    all_wheel_drive              4.0   \n11911               6.0         automatic    all_wheel_drive              4.0   \n11912               6.0         automatic    all_wheel_drive              4.0   \n11913               6.0         automatic  front_wheel_drive              4.0   \n\n                             market_category vehicle_size  vehicle_style  \\\n0      factory_tuner,luxury,high-performance      compact          coupe   \n1                         luxury,performance      compact    convertible   \n2                    luxury,high-performance      compact          coupe   \n3                         luxury,performance      compact          coupe   \n4                                     luxury      compact    convertible   \n...                                      ...          ...            ...   \n11909             crossover,hatchback,luxury      midsize  4dr_hatchback   \n11910             crossover,hatchback,luxury      midsize  4dr_hatchback   \n11911             crossover,hatchback,luxury      midsize  4dr_hatchback   \n11912             crossover,hatchback,luxury      midsize  4dr_hatchback   \n11913                                 luxury      midsize          sedan   \n\n       highway_mpg  city_mpg  popularity   msrp  \n0               26        19        3916  46135  \n1               28        19        3916  40650  \n2               28        20        3916  36350  \n3               28        18        3916  29450  \n4               28        18        3916  34500  \n...            ...       ...         ...    ...  \n11909           23        16         204  46120  \n11910           23        16         204  56670  \n11911           23        16         204  50620  \n11912           23        16         204  50920  \n11913           26        17          61  28995  \n\n[11914 rows x 16 columns]",
      "text/html": "<div>\n<style scoped>\n    .dataframe tbody tr th:only-of-type {\n        vertical-align: middle;\n    }\n\n    .dataframe tbody tr th {\n        vertical-align: top;\n    }\n\n    .dataframe thead th {\n        text-align: right;\n    }\n</style>\n<table border=\"1\" class=\"dataframe\">\n  <thead>\n    <tr style=\"text-align: right;\">\n      <th></th>\n      <th>make</th>\n      <th>model</th>\n      <th>year</th>\n      <th>engine_fuel_type</th>\n      <th>engine_hp</th>\n      <th>engine_cylinders</th>\n      <th>transmission_type</th>\n      <th>driven_wheels</th>\n      <th>number_of_doors</th>\n      <th>market_category</th>\n      <th>vehicle_size</th>\n      <th>vehicle_style</th>\n      <th>highway_mpg</th>\n      <th>city_mpg</th>\n      <th>popularity</th>\n      <th>msrp</th>\n    </tr>\n  </thead>\n  <tbody>\n    <tr>\n      <th>0</th>\n      <td>bmw</td>\n      <td>1_series_m</td>\n      <td>2011</td>\n      <td>premium_unleaded_(required)</td>\n      <td>335.0</td>\n      <td>6.0</td>\n      <td>manual</td>\n      <td>rear_wheel_drive</td>\n      <td>2.0</td>\n      <td>factory_tuner,luxury,high-performance</td>\n      <td>compact</td>\n      <td>coupe</td>\n      <td>26</td>\n      <td>19</td>\n      <td>3916</td>\n      <td>46135</td>\n    </tr>\n    <tr>\n      <th>1</th>\n      <td>bmw</td>\n      <td>1_series</td>\n      <td>2011</td>\n      <td>premium_unleaded_(required)</td>\n      <td>300.0</td>\n      <td>6.0</td>\n      <td>manual</td>\n      <td>rear_wheel_drive</td>\n      <td>2.0</td>\n      <td>luxury,performance</td>\n      <td>compact</td>\n      <td>convertible</td>\n      <td>28</td>\n      <td>19</td>\n      <td>3916</td>\n      <td>40650</td>\n    </tr>\n    <tr>\n      <th>2</th>\n      <td>bmw</td>\n      <td>1_series</td>\n      <td>2011</td>\n      <td>premium_unleaded_(required)</td>\n      <td>300.0</td>\n      <td>6.0</td>\n      <td>manual</td>\n      <td>rear_wheel_drive</td>\n      <td>2.0</td>\n      <td>luxury,high-performance</td>\n      <td>compact</td>\n      <td>coupe</td>\n      <td>28</td>\n      <td>20</td>\n      <td>3916</td>\n      <td>36350</td>\n    </tr>\n    <tr>\n      <th>3</th>\n      <td>bmw</td>\n      <td>1_series</td>\n      <td>2011</td>\n      <td>premium_unleaded_(required)</td>\n      <td>230.0</td>\n      <td>6.0</td>\n      <td>manual</td>\n      <td>rear_wheel_drive</td>\n      <td>2.0</td>\n      <td>luxury,performance</td>\n      <td>compact</td>\n      <td>coupe</td>\n      <td>28</td>\n      <td>18</td>\n      <td>3916</td>\n      <td>29450</td>\n    </tr>\n    <tr>\n      <th>4</th>\n      <td>bmw</td>\n      <td>1_series</td>\n      <td>2011</td>\n      <td>premium_unleaded_(required)</td>\n      <td>230.0</td>\n      <td>6.0</td>\n      <td>manual</td>\n      <td>rear_wheel_drive</td>\n      <td>2.0</td>\n      <td>luxury</td>\n      <td>compact</td>\n      <td>convertible</td>\n      <td>28</td>\n      <td>18</td>\n      <td>3916</td>\n      <td>34500</td>\n    </tr>\n    <tr>\n      <th>...</th>\n      <td>...</td>\n      <td>...</td>\n      <td>...</td>\n      <td>...</td>\n      <td>...</td>\n      <td>...</td>\n      <td>...</td>\n      <td>...</td>\n      <td>...</td>\n      <td>...</td>\n      <td>...</td>\n      <td>...</td>\n      <td>...</td>\n      <td>...</td>\n      <td>...</td>\n      <td>...</td>\n    </tr>\n    <tr>\n      <th>11909</th>\n      <td>acura</td>\n      <td>zdx</td>\n      <td>2012</td>\n      <td>premium_unleaded_(required)</td>\n      <td>300.0</td>\n      <td>6.0</td>\n      <td>automatic</td>\n      <td>all_wheel_drive</td>\n      <td>4.0</td>\n      <td>crossover,hatchback,luxury</td>\n      <td>midsize</td>\n      <td>4dr_hatchback</td>\n      <td>23</td>\n      <td>16</td>\n      <td>204</td>\n      <td>46120</td>\n    </tr>\n    <tr>\n      <th>11910</th>\n      <td>acura</td>\n      <td>zdx</td>\n      <td>2012</td>\n      <td>premium_unleaded_(required)</td>\n      <td>300.0</td>\n      <td>6.0</td>\n      <td>automatic</td>\n      <td>all_wheel_drive</td>\n      <td>4.0</td>\n      <td>crossover,hatchback,luxury</td>\n      <td>midsize</td>\n      <td>4dr_hatchback</td>\n      <td>23</td>\n      <td>16</td>\n      <td>204</td>\n      <td>56670</td>\n    </tr>\n    <tr>\n      <th>11911</th>\n      <td>acura</td>\n      <td>zdx</td>\n      <td>2012</td>\n      <td>premium_unleaded_(required)</td>\n      <td>300.0</td>\n      <td>6.0</td>\n      <td>automatic</td>\n      <td>all_wheel_drive</td>\n      <td>4.0</td>\n      <td>crossover,hatchback,luxury</td>\n      <td>midsize</td>\n      <td>4dr_hatchback</td>\n      <td>23</td>\n      <td>16</td>\n      <td>204</td>\n      <td>50620</td>\n    </tr>\n    <tr>\n      <th>11912</th>\n      <td>acura</td>\n      <td>zdx</td>\n      <td>2013</td>\n      <td>premium_unleaded_(recommended)</td>\n      <td>300.0</td>\n      <td>6.0</td>\n      <td>automatic</td>\n      <td>all_wheel_drive</td>\n      <td>4.0</td>\n      <td>crossover,hatchback,luxury</td>\n      <td>midsize</td>\n      <td>4dr_hatchback</td>\n      <td>23</td>\n      <td>16</td>\n      <td>204</td>\n      <td>50920</td>\n    </tr>\n    <tr>\n      <th>11913</th>\n      <td>lincoln</td>\n      <td>zephyr</td>\n      <td>2006</td>\n      <td>regular_unleaded</td>\n      <td>221.0</td>\n      <td>6.0</td>\n      <td>automatic</td>\n      <td>front_wheel_drive</td>\n      <td>4.0</td>\n      <td>luxury</td>\n      <td>midsize</td>\n      <td>sedan</td>\n      <td>26</td>\n      <td>17</td>\n      <td>61</td>\n      <td>28995</td>\n    </tr>\n  </tbody>\n</table>\n<p>11914 rows × 16 columns</p>\n</div>"
     },
     "execution_count": 6,
     "metadata": {},
     "output_type": "execute_result"
    }
   ],
   "source": [
    "strings = list(df.dtypes[df.dtypes == 'object'].index)\n",
    "\n",
    "for col in strings:\n",
    "  df[col] = df[col].str.lower().str.replace(' ', '_')\n",
    "\n",
    "df\n"
   ],
   "metadata": {
    "collapsed": false
   }
  },
  {
   "cell_type": "code",
   "execution_count": 7,
   "outputs": [
    {
     "name": "stdout",
     "output_type": "stream",
     "text": [
      "make\n",
      "['bmw' 'audi' 'fiat' 'mercedes-benz' 'chrysler']\n",
      "48\n",
      "\n",
      "model\n",
      "['1_series_m' '1_series' '100' '124_spider' '190-class']\n",
      "914\n",
      "\n",
      "year\n",
      "[2011 2012 2013 1992 1993]\n",
      "28\n",
      "\n",
      "engine_fuel_type\n",
      "['premium_unleaded_(required)' 'regular_unleaded'\n",
      " 'premium_unleaded_(recommended)' 'flex-fuel_(unleaded/e85)' 'diesel']\n",
      "10\n",
      "\n",
      "engine_hp\n",
      "[335. 300. 230. 320. 172.]\n",
      "356\n",
      "\n",
      "engine_cylinders\n",
      "[ 6.  4.  5.  8. 12.]\n",
      "9\n",
      "\n",
      "transmission_type\n",
      "['manual' 'automatic' 'automated_manual' 'direct_drive' 'unknown']\n",
      "5\n",
      "\n",
      "driven_wheels\n",
      "['rear_wheel_drive' 'front_wheel_drive' 'all_wheel_drive'\n",
      " 'four_wheel_drive']\n",
      "4\n",
      "\n",
      "number_of_doors\n",
      "[ 2.  4.  3. nan]\n",
      "3\n",
      "\n",
      "market_category\n",
      "['factory_tuner,luxury,high-performance' 'luxury,performance'\n",
      " 'luxury,high-performance' 'luxury' 'performance']\n",
      "71\n",
      "\n",
      "vehicle_size\n",
      "['compact' 'midsize' 'large']\n",
      "3\n",
      "\n",
      "vehicle_style\n",
      "['coupe' 'convertible' 'sedan' 'wagon' '4dr_hatchback']\n",
      "16\n",
      "\n",
      "highway_mpg\n",
      "[26 28 27 25 24]\n",
      "59\n",
      "\n",
      "city_mpg\n",
      "[19 20 18 17 16]\n",
      "69\n",
      "\n",
      "popularity\n",
      "[3916 3105  819  617 1013]\n",
      "48\n",
      "\n",
      "msrp\n",
      "[46135 40650 36350 29450 34500]\n",
      "6049\n",
      "\n"
     ]
    }
   ],
   "source": [
    "for col in df.columns:\n",
    "  print(col)\n",
    "  print(df[col].unique()[:5])\n",
    "  print(df[col].nunique())\n",
    "  print()\n"
   ],
   "metadata": {
    "collapsed": false
   }
  },
  {
   "cell_type": "code",
   "execution_count": 8,
   "outputs": [],
   "source": [
    "import matplotlib.pyplot as plt\n",
    "import seaborn as sns\n",
    "\n",
    "%matplotlib inline\n"
   ],
   "metadata": {
    "collapsed": false
   }
  },
  {
   "cell_type": "code",
   "execution_count": 9,
   "outputs": [
    {
     "data": {
      "text/plain": "<AxesSubplot: xlabel='msrp', ylabel='Count'>"
     },
     "execution_count": 9,
     "metadata": {},
     "output_type": "execute_result"
    },
    {
     "data": {
      "text/plain": "<Figure size 640x480 with 1 Axes>",
      "image/png": "[encoded data removed]"
     },
     "metadata": {},
     "output_type": "display_data"
    }
   ],
   "source": [
    "sns.histplot(df.msrp[df.msrp < 100000], bins = 50)\n"
   ],
   "metadata": {
    "collapsed": false
   }
  },
  {
   "cell_type": "code",
   "execution_count": 10,
   "outputs": [
    {
     "data": {
      "text/plain": "0        10.739349\n1        10.612779\n2        10.500977\n3        10.290483\n4        10.448744\n           ...    \n11909    10.739024\n11910    10.945018\n11911    10.832122\n11912    10.838031\n11913    10.274913\nName: msrp, Length: 11914, dtype: float64"
     },
     "execution_count": 10,
     "metadata": {},
     "output_type": "execute_result"
    }
   ],
   "source": [
    "price_logs = np.log1p(df.msrp)\n",
    "price_logs\n"
   ],
   "metadata": {
    "collapsed": false
   }
  },
  {
   "cell_type": "code",
   "execution_count": 11,
   "outputs": [
    {
     "data": {
      "text/plain": "<AxesSubplot: xlabel='msrp', ylabel='Count'>"
     },
     "execution_count": 11,
     "metadata": {},
     "output_type": "execute_result"
    },
    {
     "data": {
      "text/plain": "<Figure size 640x480 with 1 Axes>",
      "image/png": "[encoded data removed]"
     },
     "metadata": {},
     "output_type": "display_data"
    }
   ],
   "source": [
    "sns.histplot(price_logs, bins = 50)\n"
   ],
   "metadata": {
    "collapsed": false
   }
  },
  {
   "cell_type": "code",
   "execution_count": 12,
   "outputs": [
    {
     "data": {
      "text/plain": "make                    0\nmodel                   0\nyear                    0\nengine_fuel_type        3\nengine_hp              69\nengine_cylinders       30\ntransmission_type       0\ndriven_wheels           0\nnumber_of_doors         6\nmarket_category      3742\nvehicle_size            0\nvehicle_style           0\nhighway_mpg             0\ncity_mpg                0\npopularity              0\nmsrp                    0\ndtype: int64"
     },
     "execution_count": 12,
     "metadata": {},
     "output_type": "execute_result"
    }
   ],
   "source": [
    "df.isnull().sum()"
   ],
   "metadata": {
    "collapsed": false
   }
  },
  {
   "cell_type": "markdown",
   "source": [
    "# Validation framework"
   ],
   "metadata": {
    "collapsed": false
   }
  },
  {
   "cell_type": "code",
   "execution_count": 13,
   "outputs": [
    {
     "data": {
      "text/plain": "(2382, 2382, 7150)"
     },
     "execution_count": 13,
     "metadata": {},
     "output_type": "execute_result"
    }
   ],
   "source": [
    "n = len(df)\n",
    "\n",
    "n_val = int(n * 0.2)\n",
    "n_test = int(n * 0.2)\n",
    "n_train = n - n_val - n_test\n",
    "\n",
    "n_val, n_test, n_train"
   ],
   "metadata": {
    "collapsed": false
   }
  },
  {
   "cell_type": "code",
   "execution_count": 14,
   "outputs": [],
   "source": [
    "idx = np.arange(n)"
   ],
   "metadata": {
    "collapsed": false
   }
  },
  {
   "cell_type": "code",
   "execution_count": 15,
   "outputs": [],
   "source": [
    "np.random.seed(2)\n",
    "np.random.shuffle(idx)"
   ],
   "metadata": {
    "collapsed": false
   }
  },
  {
   "cell_type": "code",
   "execution_count": 16,
   "outputs": [],
   "source": [
    "df_train = df.iloc[idx[:n_train]]\n",
    "df_val = df.iloc[idx[n_train:n_train+n_val]]\n",
    "df_test = df.iloc[idx[n_train + n_val:]]\n"
   ],
   "metadata": {
    "collapsed": false
   }
  },
  {
   "cell_type": "code",
   "execution_count": 17,
   "outputs": [
    {
     "data": {
      "text/plain": "             make    model  year          engine_fuel_type  engine_hp  \\\n2735    chevrolet   cobalt  2008          regular_unleaded      148.0   \n6720       toyota   matrix  2012          regular_unleaded      132.0   \n5878       subaru  impreza  2016          regular_unleaded      148.0   \n11190  volkswagen  vanagon  1991          regular_unleaded       90.0   \n4554         ford    f-150  2017  flex-fuel_(unleaded/e85)      385.0   \n\n       engine_cylinders transmission_type      driven_wheels  number_of_doors  \\\n2735                4.0            manual  front_wheel_drive              2.0   \n6720                4.0         automatic  front_wheel_drive              4.0   \n5878                4.0         automatic    all_wheel_drive              4.0   \n11190               4.0            manual   rear_wheel_drive              3.0   \n4554                8.0         automatic   four_wheel_drive              4.0   \n\n      market_category vehicle_size      vehicle_style  highway_mpg  city_mpg  \\\n2735              NaN      compact              coupe           33        24   \n6720        hatchback      compact      4dr_hatchback           32        25   \n5878        hatchback      compact      4dr_hatchback           37        28   \n11190             NaN        large  passenger_minivan           18        16   \n4554        flex_fuel        large    crew_cab_pickup           21        15   \n\n       popularity   msrp  \n2735         1385  14410  \n6720         2031  19685  \n5878          640  19795  \n11190         873   2000  \n4554         5657  56260  ",
      "text/html": "<div>\n<style scoped>\n    .dataframe tbody tr th:only-of-type {\n        vertical-align: middle;\n    }\n\n    .dataframe tbody tr th {\n        vertical-align: top;\n    }\n\n    .dataframe thead th {\n        text-align: right;\n    }\n</style>\n<table border=\"1\" class=\"dataframe\">\n  <thead>\n    <tr style=\"text-align: right;\">\n      <th></th>\n      <th>make</th>\n      <th>model</th>\n      <th>year</th>\n      <th>engine_fuel_type</th>\n      <th>engine_hp</th>\n      <th>engine_cylinders</th>\n      <th>transmission_type</th>\n      <th>driven_wheels</th>\n      <th>number_of_doors</th>\n      <th>market_category</th>\n      <th>vehicle_size</th>\n      <th>vehicle_style</th>\n      <th>highway_mpg</th>\n      <th>city_mpg</th>\n      <th>popularity</th>\n      <th>msrp</th>\n    </tr>\n  </thead>\n  <tbody>\n    <tr>\n      <th>2735</th>\n      <td>chevrolet</td>\n      <td>cobalt</td>\n      <td>2008</td>\n      <td>regular_unleaded</td>\n      <td>148.0</td>\n      <td>4.0</td>\n      <td>manual</td>\n      <td>front_wheel_drive</td>\n      <td>2.0</td>\n      <td>NaN</td>\n      <td>compact</td>\n      <td>coupe</td>\n      <td>33</td>\n      <td>24</td>\n      <td>1385</td>\n      <td>14410</td>\n    </tr>\n    <tr>\n      <th>6720</th>\n      <td>toyota</td>\n      <td>matrix</td>\n      <td>2012</td>\n      <td>regular_unleaded</td>\n      <td>132.0</td>\n      <td>4.0</td>\n      <td>automatic</td>\n      <td>front_wheel_drive</td>\n      <td>4.0</td>\n      <td>hatchback</td>\n      <td>compact</td>\n      <td>4dr_hatchback</td>\n      <td>32</td>\n      <td>25</td>\n      <td>2031</td>\n      <td>19685</td>\n    </tr>\n    <tr>\n      <th>5878</th>\n      <td>subaru</td>\n      <td>impreza</td>\n      <td>2016</td>\n      <td>regular_unleaded</td>\n      <td>148.0</td>\n      <td>4.0</td>\n      <td>automatic</td>\n      <td>all_wheel_drive</td>\n      <td>4.0</td>\n      <td>hatchback</td>\n      <td>compact</td>\n      <td>4dr_hatchback</td>\n      <td>37</td>\n      <td>28</td>\n      <td>640</td>\n      <td>19795</td>\n    </tr>\n    <tr>\n      <th>11190</th>\n      <td>volkswagen</td>\n      <td>vanagon</td>\n      <td>1991</td>\n      <td>regular_unleaded</td>\n      <td>90.0</td>\n      <td>4.0</td>\n      <td>manual</td>\n      <td>rear_wheel_drive</td>\n      <td>3.0</td>\n      <td>NaN</td>\n      <td>large</td>\n      <td>passenger_minivan</td>\n      <td>18</td>\n      <td>16</td>\n      <td>873</td>\n      <td>2000</td>\n    </tr>\n    <tr>\n      <th>4554</th>\n      <td>ford</td>\n      <td>f-150</td>\n      <td>2017</td>\n      <td>flex-fuel_(unleaded/e85)</td>\n      <td>385.0</td>\n      <td>8.0</td>\n      <td>automatic</td>\n      <td>four_wheel_drive</td>\n      <td>4.0</td>\n      <td>flex_fuel</td>\n      <td>large</td>\n      <td>crew_cab_pickup</td>\n      <td>21</td>\n      <td>15</td>\n      <td>5657</td>\n      <td>56260</td>\n    </tr>\n  </tbody>\n</table>\n</div>"
     },
     "execution_count": 17,
     "metadata": {},
     "output_type": "execute_result"
    }
   ],
   "source": [
    "df_train.head()"
   ],
   "metadata": {
    "collapsed": false
   }
  },
  {
   "cell_type": "code",
   "execution_count": 18,
   "outputs": [
    {
     "data": {
      "text/plain": "(7150, 2382, 2382)"
     },
     "execution_count": 18,
     "metadata": {},
     "output_type": "execute_result"
    }
   ],
   "source": [
    "len(df_train),len(df_test), len(df_val)\n"
   ],
   "metadata": {
    "collapsed": false
   }
  },
  {
   "cell_type": "code",
   "execution_count": 19,
   "outputs": [],
   "source": [
    "df_train = df_train.reset_index(drop=True)\n",
    "df_val = df_val.reset_index(drop=True)\n",
    "df_test = df_test.reset_index(drop=True)\n"
   ],
   "metadata": {
    "collapsed": false
   }
  },
  {
   "cell_type": "code",
   "execution_count": 20,
   "outputs": [],
   "source": [
    "y_train = np.log1p(df_train.msrp.values)\n",
    "y_val = np.log1p(df_val.msrp.values)\n",
    "y_test = np.log1p(df_test.msrp.values)\n"
   ],
   "metadata": {
    "collapsed": false
   }
  },
  {
   "cell_type": "code",
   "execution_count": 21,
   "outputs": [],
   "source": [
    "del df_train['msrp']\n",
    "del df_val['msrp']\n",
    "del df_test['msrp']\n"
   ],
   "metadata": {
    "collapsed": false
   }
  },
  {
   "cell_type": "markdown",
   "source": [
    "# Linear regression"
   ],
   "metadata": {
    "collapsed": false
   }
  },
  {
   "cell_type": "code",
   "execution_count": 22,
   "outputs": [
    {
     "data": {
      "text/plain": "make                                 rolls-royce\nmodel                     phantom_drophead_coupe\nyear                                        2015\nengine_fuel_type     premium_unleaded_(required)\nengine_hp                                  453.0\nengine_cylinders                            12.0\ntransmission_type                      automatic\ndriven_wheels                   rear_wheel_drive\nnumber_of_doors                              2.0\nmarket_category        exotic,luxury,performance\nvehicle_size                               large\nvehicle_style                        convertible\nhighway_mpg                                   19\ncity_mpg                                      11\npopularity                                    86\nName: 10, dtype: object"
     },
     "execution_count": 22,
     "metadata": {},
     "output_type": "execute_result"
    }
   ],
   "source": [
    "df_train.iloc[10]\n"
   ],
   "metadata": {
    "collapsed": false
   }
  },
  {
   "cell_type": "code",
   "execution_count": 23,
   "outputs": [],
   "source": [
    "xi = [453, 11, 86]\n",
    "w0 = 7.17\n",
    "w = [0.01, 0.04, 0.002]\n"
   ],
   "metadata": {
    "collapsed": false
   }
  },
  {
   "cell_type": "code",
   "execution_count": 24,
   "outputs": [],
   "source": [
    "def linear_regression(xs):\n",
    "  n = len(xs)\n",
    "  pred = w0\n",
    "  for j in range(n):\n",
    "    pred = pred + w[j] * xs[j]\n",
    "\n",
    "  return pred\n"
   ],
   "metadata": {
    "collapsed": false
   }
  },
  {
   "cell_type": "code",
   "execution_count": 25,
   "outputs": [
    {
     "data": {
      "text/plain": "12.312"
     },
     "execution_count": 25,
     "metadata": {},
     "output_type": "execute_result"
    }
   ],
   "source": [
    "linear_regression(xi)\n"
   ],
   "metadata": {
    "collapsed": false
   }
  },
  {
   "cell_type": "code",
   "execution_count": 26,
   "outputs": [
    {
     "data": {
      "text/plain": "222347.2221101062"
     },
     "execution_count": 26,
     "metadata": {},
     "output_type": "execute_result"
    }
   ],
   "source": [
    "np.expm1(12.312)\n"
   ],
   "metadata": {
    "collapsed": false
   }
  },
  {
   "cell_type": "markdown",
   "source": [
    "## Linear regression vector form"
   ],
   "metadata": {
    "collapsed": false
   }
  },
  {
   "cell_type": "code",
   "execution_count": 27,
   "outputs": [
    {
     "data": {
      "text/plain": "12.312"
     },
     "execution_count": 27,
     "metadata": {},
     "output_type": "execute_result"
    }
   ],
   "source": [
    "def dot(xs, w):\n",
    "    n = len(xs)\n",
    "    res = 0.0\n",
    "    for j in range(n):\n",
    "        res = res + w[j] * xs[j]\n",
    "\n",
    "    return res\n",
    "\n",
    "def linear_regression_vector(xs):\n",
    "  return dot([1] + xs, [w0] + w)\n",
    "\n",
    "\n",
    "linear_regression_vector(xi)\n",
    "\n"
   ],
   "metadata": {
    "collapsed": false
   }
  },
  {
   "cell_type": "code",
   "execution_count": 28,
   "outputs": [
    {
     "data": {
      "text/plain": "array([12.38 , 13.552, 12.312])"
     },
     "execution_count": 28,
     "metadata": {},
     "output_type": "execute_result"
    }
   ],
   "source": [
    "w0 = 7.17\n",
    "w = [0.01, 0.04, 0.002]\n",
    "\n",
    "x1 = [1, 148, 24, 1385]\n",
    "x2 = [1, 132, 25, 2031]\n",
    "x10 = [1, 453, 11, 86]\n",
    "X = np.array([x1, x2, x10])\n",
    "w_new = [w0] + w\n",
    "\n",
    "def linear_regression_vector(X):\n",
    "  return X.dot(w_new)\n",
    "\n",
    "linear_regression_vector(X)\n"
   ],
   "metadata": {
    "collapsed": false
   }
  },
  {
   "cell_type": "markdown",
   "source": [
    "## Training a linear regression model"
   ],
   "metadata": {
    "collapsed": false
   }
  },
  {
   "cell_type": "code",
   "execution_count": 29,
   "outputs": [],
   "source": [
    "def train_linear_regression(X, y):\n",
    "  pass"
   ],
   "metadata": {
    "collapsed": false
   }
  },
  {
   "cell_type": "code",
   "execution_count": 30,
   "outputs": [],
   "source": [
    "y = [10000,20000,15000,20050,10000,20000,15000,25000,12000]"
   ],
   "metadata": {
    "collapsed": false
   }
  },
  {
   "cell_type": "code",
   "execution_count": 31,
   "outputs": [
    {
     "data": {
      "text/plain": "array([[ 148,   24, 1385],\n       [ 132,   25, 2031],\n       [ 453,   11,   86],\n       [ 158,   24,  185],\n       [ 172,   25,  201],\n       [ 413,   11,   86],\n       [  38,   54,  185],\n       [ 142,   25,  431],\n       [ 453,   31,   86]])"
     },
     "execution_count": 31,
     "metadata": {},
     "output_type": "execute_result"
    }
   ],
   "source": [
    "X1 = [\n",
    "  [148, 24,1385],\n",
    "  [132, 25,2031],\n",
    "  [453, 11, 86],\n",
    "  [158, 24,185],\n",
    "  [172, 25,201],\n",
    "  [413, 11, 86],\n",
    "  [38, 54,185],\n",
    "  [142, 25,431],\n",
    "  [453, 31,86],\n",
    "]\n",
    "\n",
    "X1 = np.array(X1)\n",
    "X1"
   ],
   "metadata": {
    "collapsed": false
   }
  },
  {
   "cell_type": "code",
   "execution_count": 32,
   "outputs": [
    {
     "data": {
      "text/plain": "array([1., 1., 1., 1., 1., 1., 1., 1., 1.])"
     },
     "execution_count": 32,
     "metadata": {},
     "output_type": "execute_result"
    }
   ],
   "source": [
    "ones = np.ones(X1.shape[0])\n",
    "ones"
   ],
   "metadata": {
    "collapsed": false
   }
  },
  {
   "cell_type": "code",
   "execution_count": 33,
   "outputs": [],
   "source": [
    "X = np.column_stack([ones, X1])"
   ],
   "metadata": {
    "collapsed": false
   }
  },
  {
   "cell_type": "code",
   "execution_count": 34,
   "outputs": [],
   "source": [
    "XTX = X.T.dot(X)"
   ],
   "metadata": {
    "collapsed": false
   }
  },
  {
   "cell_type": "code",
   "execution_count": 35,
   "outputs": [],
   "source": [
    "XTX_inv = np.linalg.inv(XTX)"
   ],
   "metadata": {
    "collapsed": false
   }
  },
  {
   "cell_type": "code",
   "execution_count": 36,
   "outputs": [
    {
     "data": {
      "text/plain": "array([ 2.58447541e+04, -1.60890647e+01, -1.99472549e+02, -1.22802883e+00])"
     },
     "execution_count": 36,
     "metadata": {},
     "output_type": "execute_result"
    }
   ],
   "source": [
    "w_full = XTX_inv.dot(X.T).dot(y)\n",
    "w_full"
   ],
   "metadata": {
    "collapsed": false
   }
  },
  {
   "cell_type": "code",
   "execution_count": 37,
   "outputs": [
    {
     "data": {
      "text/plain": "(25844.754055766785, array([ -16.08906468, -199.47254894,   -1.22802883]))"
     },
     "execution_count": 37,
     "metadata": {},
     "output_type": "execute_result"
    }
   ],
   "source": [
    "w0 = w_full[0]\n",
    "w = w_full[1:]\n",
    "w0, w\n"
   ],
   "metadata": {
    "collapsed": false
   }
  },
  {
   "cell_type": "code",
   "execution_count": 38,
   "outputs": [],
   "source": [
    "def train_linear_regression(X, y):\n",
    "    ones = np.ones(X.shape[0])\n",
    "    X = np.column_stack([ones, X])\n",
    "    XTX = X.T.dot(X)\n",
    "    XTX_inv = np.linalg.inv(XTX)\n",
    "    w_full = XTX_inv.dot(X.T).dot(y)\n",
    "\n",
    "    return w_full[0], w_full[1:]"
   ],
   "metadata": {
    "collapsed": false
   }
  },
  {
   "cell_type": "code",
   "execution_count": 39,
   "outputs": [
    {
     "data": {
      "text/plain": "(25844.754055766785, array([ -16.08906468, -199.47254894,   -1.22802883]))"
     },
     "execution_count": 39,
     "metadata": {},
     "output_type": "execute_result"
    }
   ],
   "source": [
    "train_linear_regression(X1, y)\n"
   ],
   "metadata": {
    "collapsed": false
   }
  },
  {
   "cell_type": "markdown",
   "source": [
    "## Car price baseline model"
   ],
   "metadata": {
    "collapsed": false
   }
  },
  {
   "cell_type": "code",
   "execution_count": 40,
   "outputs": [
    {
     "data": {
      "text/plain": "Index(['make', 'model', 'year', 'engine_fuel_type', 'engine_hp',\n       'engine_cylinders', 'transmission_type', 'driven_wheels',\n       'number_of_doors', 'market_category', 'vehicle_size', 'vehicle_style',\n       'highway_mpg', 'city_mpg', 'popularity'],\n      dtype='object')"
     },
     "execution_count": 40,
     "metadata": {},
     "output_type": "execute_result"
    }
   ],
   "source": [
    "df_train.columns\n"
   ],
   "metadata": {
    "collapsed": false
   }
  },
  {
   "cell_type": "code",
   "execution_count": 41,
   "outputs": [],
   "source": [
    "base = ['engine_hp', 'engine_cylinders', 'highway_mpg', 'city_mpg', 'popularity']"
   ],
   "metadata": {
    "collapsed": false
   }
  },
  {
   "cell_type": "code",
   "execution_count": 42,
   "outputs": [],
   "source": [
    "# Create X filling empty values\n",
    "X_train = df_train[base].fillna(0).values"
   ],
   "metadata": {
    "collapsed": false
   }
  },
  {
   "cell_type": "code",
   "execution_count": 43,
   "outputs": [],
   "source": [
    "w0, w = train_linear_regression(X_train, y_train)"
   ],
   "metadata": {
    "collapsed": false
   }
  },
  {
   "cell_type": "code",
   "execution_count": 44,
   "outputs": [],
   "source": [
    "y_pred = w0 + X_train.dot(w)\n"
   ],
   "metadata": {
    "collapsed": false
   }
  },
  {
   "cell_type": "code",
   "execution_count": 45,
   "outputs": [
    {
     "data": {
      "text/plain": "<AxesSubplot: ylabel='Count'>"
     },
     "execution_count": 45,
     "metadata": {},
     "output_type": "execute_result"
    },
    {
     "data": {
      "text/plain": "<Figure size 640x480 with 1 Axes>",
      "image/png": "[encoded data removed]"
     },
     "metadata": {},
     "output_type": "display_data"
    }
   ],
   "source": [
    "sns.histplot(y_pred, color='red', bins=50)\n",
    "sns.histplot(y_train, color='blue', bins=50)\n"
   ],
   "metadata": {
    "collapsed": false
   }
  },
  {
   "cell_type": "markdown",
   "source": [
    "## RMSE"
   ],
   "metadata": {
    "collapsed": false
   }
  },
  {
   "cell_type": "code",
   "execution_count": 46,
   "outputs": [],
   "source": [
    "def rmse(y, y_pred):\n",
    "  se = (y - y_pred) ** 2\n",
    "  mse = se.mean()\n",
    "  return np.sqrt(mse)\n"
   ],
   "metadata": {
    "collapsed": false
   }
  },
  {
   "cell_type": "code",
   "execution_count": 47,
   "outputs": [
    {
     "data": {
      "text/plain": "0.7554192603920132"
     },
     "execution_count": 47,
     "metadata": {},
     "output_type": "execute_result"
    }
   ],
   "source": [
    "rmse(y_train, y_pred)\n"
   ],
   "metadata": {
    "collapsed": false
   }
  },
  {
   "cell_type": "markdown",
   "source": [
    "## Validating the model"
   ],
   "metadata": {
    "collapsed": false
   }
  },
  {
   "cell_type": "code",
   "execution_count": 48,
   "outputs": [],
   "source": [
    "base = ['engine_hp', 'engine_cylinders', 'highway_mpg', 'city_mpg', 'popularity']\n",
    "\n",
    "def prepare_X(df):\n",
    "  df_num = df[base]\n",
    "  df_num = df_num.fillna(0)\n",
    "  X = df_num.values\n",
    "  return X\n"
   ],
   "metadata": {
    "collapsed": false
   }
  },
  {
   "cell_type": "code",
   "execution_count": 49,
   "outputs": [
    {
     "data": {
      "text/plain": "0.7616530991301608"
     },
     "execution_count": 49,
     "metadata": {},
     "output_type": "execute_result"
    }
   ],
   "source": [
    "X_train = prepare_X(df_train)\n",
    "w0, w = train_linear_regression(X_train, y_train)\n",
    "\n",
    "# Validation\n",
    "X_val = prepare_X(df_val)\n",
    "\n",
    "y_pred = w0 + X_val.dot(w)\n",
    "\n",
    "rmse(y_val, y_pred)\n"
   ],
   "metadata": {
    "collapsed": false
   }
  },
  {
   "cell_type": "markdown",
   "source": [
    "## Simple feature engineering"
   ],
   "metadata": {
    "collapsed": false
   }
  },
  {
   "cell_type": "code",
   "execution_count": 50,
   "outputs": [
    {
     "data": {
      "text/plain": "0        9\n1        5\n2        1\n3       26\n4        0\n        ..\n7145     2\n7146     2\n7147     2\n7148     3\n7149     0\nName: year, Length: 7150, dtype: int64"
     },
     "execution_count": 50,
     "metadata": {},
     "output_type": "execute_result"
    }
   ],
   "source": [
    "2017 - df_train.year\n"
   ],
   "metadata": {
    "collapsed": false
   }
  },
  {
   "cell_type": "code",
   "execution_count": 51,
   "outputs": [],
   "source": [
    "def prepare_X(df):\n",
    "    df = df.copy()\n",
    "\n",
    "    df['age'] = 2017 - df.year\n",
    "    features = base + ['age']\n",
    "\n",
    "    df_num = df[features]\n",
    "    df_num = df_num.fillna(0)\n",
    "    X = df_num.values\n",
    "    return X\n"
   ],
   "metadata": {
    "collapsed": false
   }
  },
  {
   "cell_type": "code",
   "execution_count": 52,
   "outputs": [
    {
     "data": {
      "text/plain": "array([[1.480e+02, 4.000e+00, 3.300e+01, 2.400e+01, 1.385e+03, 9.000e+00],\n       [1.320e+02, 4.000e+00, 3.200e+01, 2.500e+01, 2.031e+03, 5.000e+00],\n       [1.480e+02, 4.000e+00, 3.700e+01, 2.800e+01, 6.400e+02, 1.000e+00],\n       ...,\n       [2.850e+02, 6.000e+00, 2.200e+01, 1.700e+01, 5.490e+02, 2.000e+00],\n       [5.630e+02, 1.200e+01, 2.100e+01, 1.300e+01, 8.600e+01, 3.000e+00],\n       [2.000e+02, 4.000e+00, 3.100e+01, 2.200e+01, 8.730e+02, 0.000e+00]])"
     },
     "execution_count": 52,
     "metadata": {},
     "output_type": "execute_result"
    }
   ],
   "source": [
    "X_train = prepare_X(df_train)\n",
    "X_train\n"
   ],
   "metadata": {
    "collapsed": false
   }
  },
  {
   "cell_type": "code",
   "execution_count": 53,
   "outputs": [
    {
     "data": {
      "text/plain": "0.5172055461058325"
     },
     "execution_count": 53,
     "metadata": {},
     "output_type": "execute_result"
    }
   ],
   "source": [
    "X_train = prepare_X(df_train)\n",
    "w0, w = train_linear_regression(X_train, y_train)\n",
    "\n",
    "# Validation\n",
    "X_val = prepare_X(df_val)\n",
    "\n",
    "y_pred = w0 + X_val.dot(w)\n",
    "\n",
    "rmse(y_val, y_pred)\n"
   ],
   "metadata": {
    "collapsed": false
   }
  },
  {
   "cell_type": "code",
   "execution_count": 54,
   "outputs": [
    {
     "data": {
      "text/plain": "<AxesSubplot: ylabel='Count'>"
     },
     "execution_count": 54,
     "metadata": {},
     "output_type": "execute_result"
    },
    {
     "data": {
      "text/plain": "<Figure size 640x480 with 1 Axes>",
      "image/png": "[encoded data removed]"
     },
     "metadata": {},
     "output_type": "display_data"
    }
   ],
   "source": [
    "sns.histplot(y_pred, color='red', bins=50)\n",
    "sns.histplot(y_train, color='blue', bins=50)\n"
   ],
   "metadata": {
    "collapsed": false
   }
  },
  {
   "cell_type": "markdown",
   "source": [
    "## Categorical variables"
   ],
   "metadata": {
    "collapsed": false
   }
  },
  {
   "cell_type": "code",
   "execution_count": 55,
   "outputs": [],
   "source": [
    "def prepare_X(df):\n",
    "    df = df.copy()\n",
    "    features = base.copy()\n",
    "\n",
    "    df['age'] = 2017 - df.year\n",
    "    features.append('age')\n",
    "\n",
    "    for v in [2,3,4]:\n",
    "      column = 'num_doors_%s' % v\n",
    "      df[column] = (df.number_of_doors == v).astype('int')\n",
    "      features.append(column)\n",
    "\n",
    "    df_num = df[features]\n",
    "    df_num = df_num.fillna(0)\n",
    "    X = df_num.values\n",
    "    return X"
   ],
   "metadata": {
    "collapsed": false
   }
  },
  {
   "cell_type": "code",
   "execution_count": 56,
   "outputs": [
    {
     "data": {
      "text/plain": "0.5157995641502642"
     },
     "execution_count": 56,
     "metadata": {},
     "output_type": "execute_result"
    }
   ],
   "source": [
    "X_train = prepare_X(df_train)\n",
    "w0, w = train_linear_regression(X_train, y_train)\n",
    "\n",
    "# Validation\n",
    "X_val = prepare_X(df_val)\n",
    "\n",
    "y_pred = w0 + X_val.dot(w)\n",
    "\n",
    "rmse(y_val, y_pred)\n"
   ],
   "metadata": {
    "collapsed": false
   }
  },
  {
   "cell_type": "code",
   "execution_count": 57,
   "outputs": [],
   "source": [
    "car_makes = list(df.make.value_counts().head().index)\n"
   ],
   "metadata": {
    "collapsed": false
   }
  },
  {
   "cell_type": "code",
   "execution_count": 58,
   "outputs": [],
   "source": [
    "def prepare_X(df):\n",
    "    df = df.copy()\n",
    "    features = base.copy()\n",
    "\n",
    "    df['age'] = 2017 - df.year\n",
    "    features.append('age')\n",
    "\n",
    "    for v in [2,3,4]:\n",
    "        column = 'num_doors_%s' % v\n",
    "        df[column] = (df.number_of_doors == v).astype('int')\n",
    "        features.append(column)\n",
    "\n",
    "    for v in car_makes:\n",
    "        column = 'make_%s' % v\n",
    "        df[column] = (df.make == v).astype('int')\n",
    "        features.append(column)\n",
    "\n",
    "    df_num = df[features]\n",
    "    df_num = df_num.fillna(0)\n",
    "    X = df_num.values\n",
    "    return X\n"
   ],
   "metadata": {
    "collapsed": false
   }
  },
  {
   "cell_type": "code",
   "execution_count": 59,
   "outputs": [
    {
     "data": {
      "text/plain": "0.5076038849556065"
     },
     "execution_count": 59,
     "metadata": {},
     "output_type": "execute_result"
    }
   ],
   "source": [
    "X_train = prepare_X(df_train)\n",
    "w0, w = train_linear_regression(X_train, y_train)\n",
    "\n",
    "# Validation\n",
    "X_val = prepare_X(df_val)\n",
    "\n",
    "y_pred = w0 + X_val.dot(w)\n",
    "\n",
    "rmse(y_val, y_pred)\n"
   ],
   "metadata": {
    "collapsed": false
   }
  },
  {
   "cell_type": "code",
   "execution_count": 60,
   "outputs": [],
   "source": [
    "categories = ['make', 'engine_fuel_type','transmission_type', 'driven_wheels','market_category','vehicle_size','vehicle_style']\n"
   ],
   "metadata": {
    "collapsed": false
   }
  },
  {
   "cell_type": "code",
   "execution_count": 61,
   "outputs": [
    {
     "data": {
      "text/plain": "{'make': ['chevrolet', 'ford', 'volkswagen', 'toyota', 'dodge'],\n 'engine_fuel_type': ['regular_unleaded',\n  'premium_unleaded_(required)',\n  'premium_unleaded_(recommended)',\n  'flex-fuel_(unleaded/e85)',\n  'diesel'],\n 'transmission_type': ['automatic',\n  'manual',\n  'automated_manual',\n  'direct_drive',\n  'unknown'],\n 'driven_wheels': ['front_wheel_drive',\n  'rear_wheel_drive',\n  'all_wheel_drive',\n  'four_wheel_drive'],\n 'market_category': ['crossover',\n  'flex_fuel',\n  'luxury',\n  'luxury,performance',\n  'hatchback'],\n 'vehicle_size': ['compact', 'midsize', 'large'],\n 'vehicle_style': ['sedan',\n  '4dr_suv',\n  'coupe',\n  'convertible',\n  '4dr_hatchback']}"
     },
     "execution_count": 61,
     "metadata": {},
     "output_type": "execute_result"
    }
   ],
   "source": [
    "categories_dict = {}\n",
    "\n",
    "for c in categories:\n",
    "  categories_dict[c] = list(df[c].value_counts().head().index)\n",
    "\n",
    "categories_dict\n"
   ],
   "metadata": {
    "collapsed": false
   }
  },
  {
   "cell_type": "code",
   "execution_count": 62,
   "outputs": [],
   "source": [
    "def prepare_X(df):\n",
    "    df = df.copy()\n",
    "    features = base.copy()\n",
    "\n",
    "    df['age'] = 2017 - df.year\n",
    "    features.append('age')\n",
    "\n",
    "    for v in [2,3,4]:\n",
    "        column = 'num_doors_%s' % v\n",
    "    df[column] = (df.number_of_doors == v).astype('int')\n",
    "    features.append(column)\n",
    "\n",
    "    for c, values in categories_dict.items():\n",
    "      for v in values:\n",
    "          column = '%s_%s' % (c, v)\n",
    "          df[column] = (df[c] == v).astype('int')\n",
    "          features.append(column)\n",
    "\n",
    "    df_num = df[features]\n",
    "    df_num = df_num.fillna(0)\n",
    "    X = df_num.values\n",
    "    return X\n"
   ],
   "metadata": {
    "collapsed": false
   }
  },
  {
   "cell_type": "code",
   "execution_count": 63,
   "outputs": [
    {
     "data": {
      "text/plain": "31.4725530040158"
     },
     "execution_count": 63,
     "metadata": {},
     "output_type": "execute_result"
    }
   ],
   "source": [
    "X_train = prepare_X(df_train)\n",
    "w0, w = train_linear_regression(X_train, y_train)\n",
    "\n",
    "# Validation\n",
    "X_val = prepare_X(df_val)\n",
    "\n",
    "y_pred = w0 + X_val.dot(w)\n",
    "\n",
    "rmse(y_val, y_pred)\n",
    "\n",
    "# We made it worse adding more variables"
   ],
   "metadata": {
    "collapsed": false
   }
  },
  {
   "cell_type": "markdown",
   "source": [
    "## Regularization"
   ],
   "metadata": {
    "collapsed": false
   }
  },
  {
   "cell_type": "code",
   "execution_count": 64,
   "outputs": [],
   "source": [
    "def train_linear_regression_reg(X, y, r=0.001):\n",
    "    ones = np.ones(X.shape[0])\n",
    "    X = np.column_stack([ones, X])\n",
    "\n",
    "\n",
    "    XTX = X.T.dot(X)\n",
    "    XTX = XTX + r * np.eye(XTX.shape[0])\n",
    "\n",
    "    XTX_inv = np.linalg.inv(XTX)\n",
    "    w_full = XTX_inv.dot(X.T).dot(y)\n",
    "\n",
    "    return w_full[0], w_full[1:]"
   ],
   "metadata": {
    "collapsed": false
   }
  },
  {
   "cell_type": "code",
   "execution_count": 65,
   "outputs": [
    {
     "data": {
      "text/plain": "0.45671970784167054"
     },
     "execution_count": 65,
     "metadata": {},
     "output_type": "execute_result"
    }
   ],
   "source": [
    "X_train = prepare_X(df_train)\n",
    "w0, w = train_linear_regression_reg(X_train, y_train, r=0.01)\n",
    "\n",
    "# Validation\n",
    "X_val = prepare_X(df_val)\n",
    "\n",
    "y_pred = w0 + X_val.dot(w)\n",
    "\n",
    "rmse(y_val, y_pred)\n"
   ],
   "metadata": {
    "collapsed": false
   }
  },
  {
   "cell_type": "markdown",
   "source": [
    "## Tuning the model"
   ],
   "metadata": {
    "collapsed": false
   }
  },
  {
   "cell_type": "code",
   "execution_count": 66,
   "outputs": [
    {
     "name": "stdout",
     "output_type": "stream",
     "text": [
      "0.0 31.4725530040158\n",
      "1e-05 0.45671653018963343\n",
      "0.0001 0.45671655948993295\n",
      "0.001 0.4567168415935291\n",
      "0.1 0.456751637340407\n",
      "1 0.45735375321485067\n",
      "10 0.47253653030829296\n"
     ]
    }
   ],
   "source": [
    "for r in [0.0, 0.00001, 0.0001, 0.001, 0.1, 1, 10]:\n",
    "    X_train = prepare_X(df_train)\n",
    "    w0, w = train_linear_regression_reg(X_train, y_train, r)\n",
    "\n",
    "    # Validation\n",
    "    X_val = prepare_X(df_val)\n",
    "\n",
    "    y_pred = w0 + X_val.dot(w)\n",
    "\n",
    "    score = rmse(y_val, y_pred)\n",
    "\n",
    "    print(r, score)\n"
   ],
   "metadata": {
    "collapsed": false
   }
  },
  {
   "cell_type": "code",
   "execution_count": 67,
   "outputs": [
    {
     "name": "stdout",
     "output_type": "stream",
     "text": [
      "0.001 0.4567168415935291\n"
     ]
    }
   ],
   "source": [
    "r = 0.001\n",
    "X_train = prepare_X(df_train)\n",
    "w0, w = train_linear_regression_reg(X_train, y_train, r)\n",
    "\n",
    "# Validation\n",
    "X_val = prepare_X(df_val)\n",
    "\n",
    "y_pred = w0 + X_val.dot(w)\n",
    "\n",
    "score = rmse(y_val, y_pred)\n",
    "\n",
    "print(r, score)\n"
   ],
   "metadata": {
    "collapsed": false
   }
  },
  {
   "cell_type": "markdown",
   "source": [
    "## Using the model"
   ],
   "metadata": {
    "collapsed": false
   }
  },
  {
   "cell_type": "code",
   "execution_count": 68,
   "outputs": [
    {
     "data": {
      "text/plain": "            make                    model  year             engine_fuel_type  \\\n0      chevrolet                   cobalt  2008             regular_unleaded   \n1         toyota                   matrix  2012             regular_unleaded   \n2         subaru                  impreza  2016             regular_unleaded   \n3     volkswagen                  vanagon  1991             regular_unleaded   \n4           ford                    f-150  2017     flex-fuel_(unleaded/e85)   \n...          ...                      ...   ...                          ...   \n9527       volvo                      v60  2015             regular_unleaded   \n9528    maserati  granturismo_convertible  2015  premium_unleaded_(required)   \n9529    cadillac          escalade_hybrid  2013             regular_unleaded   \n9530  mitsubishi                   lancer  2016             regular_unleaded   \n9531         kia                  sorento  2015             regular_unleaded   \n\n      engine_hp  engine_cylinders transmission_type      driven_wheels  \\\n0         148.0               4.0            manual  front_wheel_drive   \n1         132.0               4.0         automatic  front_wheel_drive   \n2         148.0               4.0         automatic    all_wheel_drive   \n3          90.0               4.0            manual   rear_wheel_drive   \n4         385.0               8.0         automatic   four_wheel_drive   \n...         ...               ...               ...                ...   \n9527      240.0               4.0         automatic  front_wheel_drive   \n9528      444.0               8.0         automatic   rear_wheel_drive   \n9529      332.0               8.0         automatic   rear_wheel_drive   \n9530      148.0               4.0            manual  front_wheel_drive   \n9531      290.0               6.0         automatic  front_wheel_drive   \n\n      number_of_doors                 market_category vehicle_size  \\\n0                 2.0                             NaN      compact   \n1                 4.0                       hatchback      compact   \n2                 4.0                       hatchback      compact   \n3                 3.0                             NaN        large   \n4                 4.0                       flex_fuel        large   \n...               ...                             ...          ...   \n9527              4.0                          luxury      midsize   \n9528              2.0  exotic,luxury,high-performance      midsize   \n9529              4.0                   luxury,hybrid        large   \n9530              4.0                             NaN      compact   \n9531              4.0                       crossover      midsize   \n\n          vehicle_style  highway_mpg  city_mpg  popularity  \n0                 coupe           33        24        1385  \n1         4dr_hatchback           32        25        2031  \n2         4dr_hatchback           37        28         640  \n3     passenger_minivan           18        16         873  \n4       crew_cab_pickup           21        15        5657  \n...                 ...          ...       ...         ...  \n9527              wagon           37        25         870  \n9528        convertible           20        13         238  \n9529            4dr_suv           23        20        1624  \n9530              sedan           34        24         436  \n9531            4dr_suv           25        18        1720  \n\n[9532 rows x 15 columns]",
      "text/html": "<div>\n<style scoped>\n    .dataframe tbody tr th:only-of-type {\n        vertical-align: middle;\n    }\n\n    .dataframe tbody tr th {\n        vertical-align: top;\n    }\n\n    .dataframe thead th {\n        text-align: right;\n    }\n</style>\n<table border=\"1\" class=\"dataframe\">\n  <thead>\n    <tr style=\"text-align: right;\">\n      <th></th>\n      <th>make</th>\n      <th>model</th>\n      <th>year</th>\n      <th>engine_fuel_type</th>\n      <th>engine_hp</th>\n      <th>engine_cylinders</th>\n      <th>transmission_type</th>\n      <th>driven_wheels</th>\n      <th>number_of_doors</th>\n      <th>market_category</th>\n      <th>vehicle_size</th>\n      <th>vehicle_style</th>\n      <th>highway_mpg</th>\n      <th>city_mpg</th>\n      <th>popularity</th>\n    </tr>\n  </thead>\n  <tbody>\n    <tr>\n      <th>0</th>\n      <td>chevrolet</td>\n      <td>cobalt</td>\n      <td>2008</td>\n      <td>regular_unleaded</td>\n      <td>148.0</td>\n      <td>4.0</td>\n      <td>manual</td>\n      <td>front_wheel_drive</td>\n      <td>2.0</td>\n      <td>NaN</td>\n      <td>compact</td>\n      <td>coupe</td>\n      <td>33</td>\n      <td>24</td>\n      <td>1385</td>\n    </tr>\n    <tr>\n      <th>1</th>\n      <td>toyota</td>\n      <td>matrix</td>\n      <td>2012</td>\n      <td>regular_unleaded</td>\n      <td>132.0</td>\n      <td>4.0</td>\n      <td>automatic</td>\n      <td>front_wheel_drive</td>\n      <td>4.0</td>\n      <td>hatchback</td>\n      <td>compact</td>\n      <td>4dr_hatchback</td>\n      <td>32</td>\n      <td>25</td>\n      <td>2031</td>\n    </tr>\n    <tr>\n      <th>2</th>\n      <td>subaru</td>\n      <td>impreza</td>\n      <td>2016</td>\n      <td>regular_unleaded</td>\n      <td>148.0</td>\n      <td>4.0</td>\n      <td>automatic</td>\n      <td>all_wheel_drive</td>\n      <td>4.0</td>\n      <td>hatchback</td>\n      <td>compact</td>\n      <td>4dr_hatchback</td>\n      <td>37</td>\n      <td>28</td>\n      <td>640</td>\n    </tr>\n    <tr>\n      <th>3</th>\n      <td>volkswagen</td>\n      <td>vanagon</td>\n      <td>1991</td>\n      <td>regular_unleaded</td>\n      <td>90.0</td>\n      <td>4.0</td>\n      <td>manual</td>\n      <td>rear_wheel_drive</td>\n      <td>3.0</td>\n      <td>NaN</td>\n      <td>large</td>\n      <td>passenger_minivan</td>\n      <td>18</td>\n      <td>16</td>\n      <td>873</td>\n    </tr>\n    <tr>\n      <th>4</th>\n      <td>ford</td>\n      <td>f-150</td>\n      <td>2017</td>\n      <td>flex-fuel_(unleaded/e85)</td>\n      <td>385.0</td>\n      <td>8.0</td>\n      <td>automatic</td>\n      <td>four_wheel_drive</td>\n      <td>4.0</td>\n      <td>flex_fuel</td>\n      <td>large</td>\n      <td>crew_cab_pickup</td>\n      <td>21</td>\n      <td>15</td>\n      <td>5657</td>\n    </tr>\n    <tr>\n      <th>...</th>\n      <td>...</td>\n      <td>...</td>\n      <td>...</td>\n      <td>...</td>\n      <td>...</td>\n      <td>...</td>\n      <td>...</td>\n      <td>...</td>\n      <td>...</td>\n      <td>...</td>\n      <td>...</td>\n      <td>...</td>\n      <td>...</td>\n      <td>...</td>\n      <td>...</td>\n    </tr>\n    <tr>\n      <th>9527</th>\n      <td>volvo</td>\n      <td>v60</td>\n      <td>2015</td>\n      <td>regular_unleaded</td>\n      <td>240.0</td>\n      <td>4.0</td>\n      <td>automatic</td>\n      <td>front_wheel_drive</td>\n      <td>4.0</td>\n      <td>luxury</td>\n      <td>midsize</td>\n      <td>wagon</td>\n      <td>37</td>\n      <td>25</td>\n      <td>870</td>\n    </tr>\n    <tr>\n      <th>9528</th>\n      <td>maserati</td>\n      <td>granturismo_convertible</td>\n      <td>2015</td>\n      <td>premium_unleaded_(required)</td>\n      <td>444.0</td>\n      <td>8.0</td>\n      <td>automatic</td>\n      <td>rear_wheel_drive</td>\n      <td>2.0</td>\n      <td>exotic,luxury,high-performance</td>\n      <td>midsize</td>\n      <td>convertible</td>\n      <td>20</td>\n      <td>13</td>\n      <td>238</td>\n    </tr>\n    <tr>\n      <th>9529</th>\n      <td>cadillac</td>\n      <td>escalade_hybrid</td>\n      <td>2013</td>\n      <td>regular_unleaded</td>\n      <td>332.0</td>\n      <td>8.0</td>\n      <td>automatic</td>\n      <td>rear_wheel_drive</td>\n      <td>4.0</td>\n      <td>luxury,hybrid</td>\n      <td>large</td>\n      <td>4dr_suv</td>\n      <td>23</td>\n      <td>20</td>\n      <td>1624</td>\n    </tr>\n    <tr>\n      <th>9530</th>\n      <td>mitsubishi</td>\n      <td>lancer</td>\n      <td>2016</td>\n      <td>regular_unleaded</td>\n      <td>148.0</td>\n      <td>4.0</td>\n      <td>manual</td>\n      <td>front_wheel_drive</td>\n      <td>4.0</td>\n      <td>NaN</td>\n      <td>compact</td>\n      <td>sedan</td>\n      <td>34</td>\n      <td>24</td>\n      <td>436</td>\n    </tr>\n    <tr>\n      <th>9531</th>\n      <td>kia</td>\n      <td>sorento</td>\n      <td>2015</td>\n      <td>regular_unleaded</td>\n      <td>290.0</td>\n      <td>6.0</td>\n      <td>automatic</td>\n      <td>front_wheel_drive</td>\n      <td>4.0</td>\n      <td>crossover</td>\n      <td>midsize</td>\n      <td>4dr_suv</td>\n      <td>25</td>\n      <td>18</td>\n      <td>1720</td>\n    </tr>\n  </tbody>\n</table>\n<p>9532 rows × 15 columns</p>\n</div>"
     },
     "execution_count": 68,
     "metadata": {},
     "output_type": "execute_result"
    }
   ],
   "source": [
    "df_full_train = pd.concat([df_train, df_val])\n",
    "df_full_train = df_full_train.reset_index(drop=True)\n",
    "df_full_train"
   ],
   "metadata": {
    "collapsed": false
   }
  },
  {
   "cell_type": "code",
   "execution_count": 69,
   "outputs": [
    {
     "data": {
      "text/plain": "array([[148.,   4.,  33., ...,   1.,   0.,   0.],\n       [132.,   4.,  32., ...,   0.,   0.,   1.],\n       [148.,   4.,  37., ...,   0.,   0.,   1.],\n       ...,\n       [332.,   8.,  23., ...,   0.,   0.,   0.],\n       [148.,   4.,  34., ...,   0.,   0.,   0.],\n       [290.,   6.,  25., ...,   0.,   0.,   0.]])"
     },
     "execution_count": 69,
     "metadata": {},
     "output_type": "execute_result"
    }
   ],
   "source": [
    "X_full_train = prepare_X(df_full_train)\n",
    "X_full_train\n"
   ],
   "metadata": {
    "collapsed": false
   }
  },
  {
   "cell_type": "code",
   "execution_count": 70,
   "outputs": [
    {
     "data": {
      "text/plain": "array([ 9.57574708,  9.887663  ,  9.89323518, ..., 11.21756062,\n        9.77542688, 10.1924563 ])"
     },
     "execution_count": 70,
     "metadata": {},
     "output_type": "execute_result"
    }
   ],
   "source": [
    "y_full_train = np.concatenate([y_train, y_val])\n",
    "y_full_train\n"
   ],
   "metadata": {
    "collapsed": false
   }
  },
  {
   "cell_type": "code",
   "execution_count": 71,
   "outputs": [],
   "source": [
    "w0, w = train_linear_regression_reg(X_full_train, y_full_train, 0.001)\n"
   ],
   "metadata": {
    "collapsed": false
   }
  },
  {
   "cell_type": "code",
   "execution_count": 72,
   "outputs": [
    {
     "data": {
      "text/plain": "0.45261877861056243"
     },
     "execution_count": 72,
     "metadata": {},
     "output_type": "execute_result"
    }
   ],
   "source": [
    "X_test = prepare_X(df_test)\n",
    "y_pred = w0 + X_test.dot(w)\n",
    "\n",
    "score = rmse(y_test, y_pred)\n",
    "score\n",
    "# The score of the model applied to the test dataset is similar to the one applied to the validation dataset.\n"
   ],
   "metadata": {
    "collapsed": false
   }
  },
  {
   "cell_type": "code",
   "execution_count": 73,
   "outputs": [
    {
     "data": {
      "text/plain": "     make   model  year  engine_fuel_type  engine_hp  engine_cylinders  \\\n0  toyota  sienna  2015  regular_unleaded      266.0               6.0   \n\n  transmission_type      driven_wheels  number_of_doors  market_category  \\\n0         automatic  front_wheel_drive              4.0              NaN   \n\n  vehicle_size      vehicle_style  highway_mpg  city_mpg  popularity  \n0        large  passenger_minivan           25        18        2031  ",
      "text/html": "<div>\n<style scoped>\n    .dataframe tbody tr th:only-of-type {\n        vertical-align: middle;\n    }\n\n    .dataframe tbody tr th {\n        vertical-align: top;\n    }\n\n    .dataframe thead th {\n        text-align: right;\n    }\n</style>\n<table border=\"1\" class=\"dataframe\">\n  <thead>\n    <tr style=\"text-align: right;\">\n      <th></th>\n      <th>make</th>\n      <th>model</th>\n      <th>year</th>\n      <th>engine_fuel_type</th>\n      <th>engine_hp</th>\n      <th>engine_cylinders</th>\n      <th>transmission_type</th>\n      <th>driven_wheels</th>\n      <th>number_of_doors</th>\n      <th>market_category</th>\n      <th>vehicle_size</th>\n      <th>vehicle_style</th>\n      <th>highway_mpg</th>\n      <th>city_mpg</th>\n      <th>popularity</th>\n    </tr>\n  </thead>\n  <tbody>\n    <tr>\n      <th>0</th>\n      <td>toyota</td>\n      <td>sienna</td>\n      <td>2015</td>\n      <td>regular_unleaded</td>\n      <td>266.0</td>\n      <td>6.0</td>\n      <td>automatic</td>\n      <td>front_wheel_drive</td>\n      <td>4.0</td>\n      <td>NaN</td>\n      <td>large</td>\n      <td>passenger_minivan</td>\n      <td>25</td>\n      <td>18</td>\n      <td>2031</td>\n    </tr>\n  </tbody>\n</table>\n</div>"
     },
     "execution_count": 73,
     "metadata": {},
     "output_type": "execute_result"
    }
   ],
   "source": [
    "df_small = pd.DataFrame([df_test.iloc[20].to_dict()])\n",
    "df_small\n"
   ],
   "metadata": {
    "collapsed": false
   }
  },
  {
   "cell_type": "code",
   "execution_count": 74,
   "outputs": [
    {
     "data": {
      "text/plain": "10.46536527707168"
     },
     "execution_count": 74,
     "metadata": {},
     "output_type": "execute_result"
    }
   ],
   "source": [
    "X_small = prepare_X(df_small)\n",
    "y_pred = w0 + X_small.dot(w)\n",
    "y_pred[0]\n"
   ],
   "metadata": {
    "collapsed": false
   }
  },
  {
   "cell_type": "code",
   "execution_count": 75,
   "outputs": [
    {
     "data": {
      "text/plain": "35078.257384801844"
     },
     "execution_count": 75,
     "metadata": {},
     "output_type": "execute_result"
    }
   ],
   "source": [
    "np.expm1(y_pred[0])"
   ],
   "metadata": {
    "collapsed": false
   }
  },
  {
   "cell_type": "code",
   "execution_count": 76,
   "outputs": [
    {
     "data": {
      "text/plain": "35000.00000000001"
     },
     "execution_count": 76,
     "metadata": {},
     "output_type": "execute_result"
    }
   ],
   "source": [
    "np.expm1(y_test[20])\n"
   ],
   "metadata": {
    "collapsed": false
   }
  },
  {
   "cell_type": "markdown",
   "source": [
    "## Next steps"
   ],
   "metadata": {
    "collapsed": false
   }
  },
  {
   "cell_type": "code",
   "execution_count": 77,
   "outputs": [],
   "source": [
    "categories = ['make', 'engine_fuel_type', 'transmission_type', 'driven_wheels', 'market_category',\n",
    "              'vehicle_size', 'vehicle_style', 'highway_mpg']\n",
    "\n",
    "categories_dict = {}\n",
    "\n",
    "for c in categories:\n",
    "    categories_dict[c] = list(df[c].value_counts().head().index)\n",
    "\n",
    "\n",
    "def prepare_X(df):\n",
    "    df = df.copy()\n",
    "    features = base.copy()\n",
    "\n",
    "    df['age'] = 2017 - df.year\n",
    "    features.append('age')\n",
    "\n",
    "    for v in [2, 3, 4]:\n",
    "        column = 'num_doors_%s' % v\n",
    "        df[column] = (df.number_of_doors == v).astype('int')\n",
    "        features.append(column)\n",
    "\n",
    "    for v in [4, 6, 8, 5, 12, 10]:\n",
    "        column = 'cylinders_%s' % v\n",
    "        df[column] = (df.engine_cylinders == v).astype('int')\n",
    "        features.append(column)\n",
    "\n",
    "    for c, values in categories_dict.items():\n",
    "        for v in values:\n",
    "            column = '%s_%s' % (c, v)\n",
    "            df[column] = (df[c] == v).astype('int')\n",
    "            features.append(column)\n",
    "\n",
    "    df_num = df[features]\n",
    "    df_num = df_num.fillna(0)\n",
    "    X = df_num.values\n",
    "    return X"
   ],
   "metadata": {
    "collapsed": false
   }
  },
  {
   "cell_type": "code",
   "execution_count": 78,
   "outputs": [
    {
     "name": "stdout",
     "output_type": "stream",
     "text": [
      "0.001 0.44812163328092947\n"
     ]
    }
   ],
   "source": [
    "r = 0.001\n",
    "X_train = prepare_X(df_train)\n",
    "w0, w = train_linear_regression_reg(X_train, y_train, r)\n",
    "\n",
    "# Validation\n",
    "X_val = prepare_X(df_val)\n",
    "\n",
    "y_pred = w0 + X_val.dot(w)\n",
    "\n",
    "score = rmse(y_val, y_pred)\n",
    "\n",
    "print(r, score)\n"
   ],
   "metadata": {
    "collapsed": false
   }
  }
 ],
 "metadata": {
  "kernelspec": {
   "display_name": "Python 3",
   "language": "python",
   "name": "python3"
  },
  "language_info": {
   "codemirror_mode": {
    "name": "ipython",
    "version": 2
   },
   "file_extension": ".py",
   "mimetype": "text/x-python",
   "name": "python",
   "nbconvert_exporter": "python",
   "pygments_lexer": "ipython2",
   "version": "2.7.6"
  }
 },
 "nbformat": 4,
 "nbformat_minor": 0
}
