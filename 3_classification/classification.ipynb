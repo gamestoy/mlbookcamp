{
 "cells": [
  {
   "cell_type": "code",
   "execution_count": 1,
   "metadata": {
    "collapsed": true
   },
   "outputs": [],
   "source": [
    "import numpy as np\n",
    "import pandas as pd\n",
    "import matplotlib.pyplot as plt\n",
    "import seaborn as sns\n",
    "\n",
    "%matplotlib inline\n"
   ]
  },
  {
   "cell_type": "markdown",
   "source": [
    "# 3.2 Data preparation\n",
    "* Download the data, read it with pandas\n",
    "* Look at the data\n",
    "* Make column names and values look uniform\n",
    "* Check if all the columns read correctly\n",
    "* Check if the churn variable needs any preparation"
   ],
   "metadata": {
    "collapsed": false
   }
  },
  {
   "cell_type": "code",
   "execution_count": 2,
   "outputs": [],
   "source": [
    "df = pd.read_csv('data.csv')\n"
   ],
   "metadata": {
    "collapsed": false
   }
  },
  {
   "cell_type": "code",
   "execution_count": 3,
   "outputs": [
    {
     "data": {
      "text/plain": "   customerID  gender  SeniorCitizen Partner Dependents  tenure PhoneService  \\\n0  7590-VHVEG  Female              0     Yes         No       1           No   \n1  5575-GNVDE    Male              0      No         No      34          Yes   \n2  3668-QPYBK    Male              0      No         No       2          Yes   \n3  7795-CFOCW    Male              0      No         No      45           No   \n4  9237-HQITU  Female              0      No         No       2          Yes   \n\n      MultipleLines InternetService OnlineSecurity  ... DeviceProtection  \\\n0  No phone service             DSL             No  ...               No   \n1                No             DSL            Yes  ...              Yes   \n2                No             DSL            Yes  ...               No   \n3  No phone service             DSL            Yes  ...              Yes   \n4                No     Fiber optic             No  ...               No   \n\n  TechSupport StreamingTV StreamingMovies        Contract PaperlessBilling  \\\n0          No          No              No  Month-to-month              Yes   \n1          No          No              No        One year               No   \n2          No          No              No  Month-to-month              Yes   \n3         Yes          No              No        One year               No   \n4          No          No              No  Month-to-month              Yes   \n\n               PaymentMethod MonthlyCharges  TotalCharges Churn  \n0           Electronic check          29.85         29.85    No  \n1               Mailed check          56.95        1889.5    No  \n2               Mailed check          53.85        108.15   Yes  \n3  Bank transfer (automatic)          42.30       1840.75    No  \n4           Electronic check          70.70        151.65   Yes  \n\n[5 rows x 21 columns]",
      "text/html": "<div>\n<style scoped>\n    .dataframe tbody tr th:only-of-type {\n        vertical-align: middle;\n    }\n\n    .dataframe tbody tr th {\n        vertical-align: top;\n    }\n\n    .dataframe thead th {\n        text-align: right;\n    }\n</style>\n<table border=\"1\" class=\"dataframe\">\n  <thead>\n    <tr style=\"text-align: right;\">\n      <th></th>\n      <th>customerID</th>\n      <th>gender</th>\n      <th>SeniorCitizen</th>\n      <th>Partner</th>\n      <th>Dependents</th>\n      <th>tenure</th>\n      <th>PhoneService</th>\n      <th>MultipleLines</th>\n      <th>InternetService</th>\n      <th>OnlineSecurity</th>\n      <th>...</th>\n      <th>DeviceProtection</th>\n      <th>TechSupport</th>\n      <th>StreamingTV</th>\n      <th>StreamingMovies</th>\n      <th>Contract</th>\n      <th>PaperlessBilling</th>\n      <th>PaymentMethod</th>\n      <th>MonthlyCharges</th>\n      <th>TotalCharges</th>\n      <th>Churn</th>\n    </tr>\n  </thead>\n  <tbody>\n    <tr>\n      <th>0</th>\n      <td>7590-VHVEG</td>\n      <td>Female</td>\n      <td>0</td>\n      <td>Yes</td>\n      <td>No</td>\n      <td>1</td>\n      <td>No</td>\n      <td>No phone service</td>\n      <td>DSL</td>\n      <td>No</td>\n      <td>...</td>\n      <td>No</td>\n      <td>No</td>\n      <td>No</td>\n      <td>No</td>\n      <td>Month-to-month</td>\n      <td>Yes</td>\n      <td>Electronic check</td>\n      <td>29.85</td>\n      <td>29.85</td>\n      <td>No</td>\n    </tr>\n    <tr>\n      <th>1</th>\n      <td>5575-GNVDE</td>\n      <td>Male</td>\n      <td>0</td>\n      <td>No</td>\n      <td>No</td>\n      <td>34</td>\n      <td>Yes</td>\n      <td>No</td>\n      <td>DSL</td>\n      <td>Yes</td>\n      <td>...</td>\n      <td>Yes</td>\n      <td>No</td>\n      <td>No</td>\n      <td>No</td>\n      <td>One year</td>\n      <td>No</td>\n      <td>Mailed check</td>\n      <td>56.95</td>\n      <td>1889.5</td>\n      <td>No</td>\n    </tr>\n    <tr>\n      <th>2</th>\n      <td>3668-QPYBK</td>\n      <td>Male</td>\n      <td>0</td>\n      <td>No</td>\n      <td>No</td>\n      <td>2</td>\n      <td>Yes</td>\n      <td>No</td>\n      <td>DSL</td>\n      <td>Yes</td>\n      <td>...</td>\n      <td>No</td>\n      <td>No</td>\n      <td>No</td>\n      <td>No</td>\n      <td>Month-to-month</td>\n      <td>Yes</td>\n      <td>Mailed check</td>\n      <td>53.85</td>\n      <td>108.15</td>\n      <td>Yes</td>\n    </tr>\n    <tr>\n      <th>3</th>\n      <td>7795-CFOCW</td>\n      <td>Male</td>\n      <td>0</td>\n      <td>No</td>\n      <td>No</td>\n      <td>45</td>\n      <td>No</td>\n      <td>No phone service</td>\n      <td>DSL</td>\n      <td>Yes</td>\n      <td>...</td>\n      <td>Yes</td>\n      <td>Yes</td>\n      <td>No</td>\n      <td>No</td>\n      <td>One year</td>\n      <td>No</td>\n      <td>Bank transfer (automatic)</td>\n      <td>42.30</td>\n      <td>1840.75</td>\n      <td>No</td>\n    </tr>\n    <tr>\n      <th>4</th>\n      <td>9237-HQITU</td>\n      <td>Female</td>\n      <td>0</td>\n      <td>No</td>\n      <td>No</td>\n      <td>2</td>\n      <td>Yes</td>\n      <td>No</td>\n      <td>Fiber optic</td>\n      <td>No</td>\n      <td>...</td>\n      <td>No</td>\n      <td>No</td>\n      <td>No</td>\n      <td>No</td>\n      <td>Month-to-month</td>\n      <td>Yes</td>\n      <td>Electronic check</td>\n      <td>70.70</td>\n      <td>151.65</td>\n      <td>Yes</td>\n    </tr>\n  </tbody>\n</table>\n<p>5 rows × 21 columns</p>\n</div>"
     },
     "execution_count": 3,
     "metadata": {},
     "output_type": "execute_result"
    }
   ],
   "source": [
    "df.head()\n"
   ],
   "metadata": {
    "collapsed": false
   }
  },
  {
   "cell_type": "code",
   "execution_count": 4,
   "outputs": [
    {
     "data": {
      "text/plain": "      customerid  gender  seniorcitizen partner dependents  tenure  \\\n0     7590-vhveg  female              0     yes         no       1   \n1     5575-gnvde    male              0      no         no      34   \n2     3668-qpybk    male              0      no         no       2   \n3     7795-cfocw    male              0      no         no      45   \n4     9237-hqitu  female              0      no         no       2   \n...          ...     ...            ...     ...        ...     ...   \n7038  6840-resvb    male              0     yes        yes      24   \n7039  2234-xaduh  female              0     yes        yes      72   \n7040  4801-jzazl  female              0     yes        yes      11   \n7041  8361-ltmkd    male              1     yes         no       4   \n7042  3186-ajiek    male              0      no         no      66   \n\n     phoneservice     multiplelines internetservice onlinesecurity  ...  \\\n0              no  no_phone_service             dsl             no  ...   \n1             yes                no             dsl            yes  ...   \n2             yes                no             dsl            yes  ...   \n3              no  no_phone_service             dsl            yes  ...   \n4             yes                no     fiber_optic             no  ...   \n...           ...               ...             ...            ...  ...   \n7038          yes               yes             dsl            yes  ...   \n7039          yes               yes     fiber_optic             no  ...   \n7040           no  no_phone_service             dsl            yes  ...   \n7041          yes               yes     fiber_optic             no  ...   \n7042          yes                no     fiber_optic            yes  ...   \n\n     deviceprotection techsupport streamingtv streamingmovies        contract  \\\n0                  no          no          no              no  month-to-month   \n1                 yes          no          no              no        one_year   \n2                  no          no          no              no  month-to-month   \n3                 yes         yes          no              no        one_year   \n4                  no          no          no              no  month-to-month   \n...               ...         ...         ...             ...             ...   \n7038              yes         yes         yes             yes        one_year   \n7039              yes          no         yes             yes        one_year   \n7040               no          no          no              no  month-to-month   \n7041               no          no          no              no  month-to-month   \n7042              yes         yes         yes             yes        two_year   \n\n     paperlessbilling              paymentmethod monthlycharges  totalcharges  \\\n0                 yes           electronic_check          29.85         29.85   \n1                  no               mailed_check          56.95        1889.5   \n2                 yes               mailed_check          53.85        108.15   \n3                  no  bank_transfer_(automatic)          42.30       1840.75   \n4                 yes           electronic_check          70.70        151.65   \n...               ...                        ...            ...           ...   \n7038              yes               mailed_check          84.80        1990.5   \n7039              yes    credit_card_(automatic)         103.20        7362.9   \n7040              yes           electronic_check          29.60        346.45   \n7041              yes               mailed_check          74.40         306.6   \n7042              yes  bank_transfer_(automatic)         105.65        6844.5   \n\n     churn  \n0       no  \n1       no  \n2      yes  \n3       no  \n4      yes  \n...    ...  \n7038    no  \n7039    no  \n7040    no  \n7041   yes  \n7042    no  \n\n[7043 rows x 21 columns]",
      "text/html": "<div>\n<style scoped>\n    .dataframe tbody tr th:only-of-type {\n        vertical-align: middle;\n    }\n\n    .dataframe tbody tr th {\n        vertical-align: top;\n    }\n\n    .dataframe thead th {\n        text-align: right;\n    }\n</style>\n<table border=\"1\" class=\"dataframe\">\n  <thead>\n    <tr style=\"text-align: right;\">\n      <th></th>\n      <th>customerid</th>\n      <th>gender</th>\n      <th>seniorcitizen</th>\n      <th>partner</th>\n      <th>dependents</th>\n      <th>tenure</th>\n      <th>phoneservice</th>\n      <th>multiplelines</th>\n      <th>internetservice</th>\n      <th>onlinesecurity</th>\n      <th>...</th>\n      <th>deviceprotection</th>\n      <th>techsupport</th>\n      <th>streamingtv</th>\n      <th>streamingmovies</th>\n      <th>contract</th>\n      <th>paperlessbilling</th>\n      <th>paymentmethod</th>\n      <th>monthlycharges</th>\n      <th>totalcharges</th>\n      <th>churn</th>\n    </tr>\n  </thead>\n  <tbody>\n    <tr>\n      <th>0</th>\n      <td>7590-vhveg</td>\n      <td>female</td>\n      <td>0</td>\n      <td>yes</td>\n      <td>no</td>\n      <td>1</td>\n      <td>no</td>\n      <td>no_phone_service</td>\n      <td>dsl</td>\n      <td>no</td>\n      <td>...</td>\n      <td>no</td>\n      <td>no</td>\n      <td>no</td>\n      <td>no</td>\n      <td>month-to-month</td>\n      <td>yes</td>\n      <td>electronic_check</td>\n      <td>29.85</td>\n      <td>29.85</td>\n      <td>no</td>\n    </tr>\n    <tr>\n      <th>1</th>\n      <td>5575-gnvde</td>\n      <td>male</td>\n      <td>0</td>\n      <td>no</td>\n      <td>no</td>\n      <td>34</td>\n      <td>yes</td>\n      <td>no</td>\n      <td>dsl</td>\n      <td>yes</td>\n      <td>...</td>\n      <td>yes</td>\n      <td>no</td>\n      <td>no</td>\n      <td>no</td>\n      <td>one_year</td>\n      <td>no</td>\n      <td>mailed_check</td>\n      <td>56.95</td>\n      <td>1889.5</td>\n      <td>no</td>\n    </tr>\n    <tr>\n      <th>2</th>\n      <td>3668-qpybk</td>\n      <td>male</td>\n      <td>0</td>\n      <td>no</td>\n      <td>no</td>\n      <td>2</td>\n      <td>yes</td>\n      <td>no</td>\n      <td>dsl</td>\n      <td>yes</td>\n      <td>...</td>\n      <td>no</td>\n      <td>no</td>\n      <td>no</td>\n      <td>no</td>\n      <td>month-to-month</td>\n      <td>yes</td>\n      <td>mailed_check</td>\n      <td>53.85</td>\n      <td>108.15</td>\n      <td>yes</td>\n    </tr>\n    <tr>\n      <th>3</th>\n      <td>7795-cfocw</td>\n      <td>male</td>\n      <td>0</td>\n      <td>no</td>\n      <td>no</td>\n      <td>45</td>\n      <td>no</td>\n      <td>no_phone_service</td>\n      <td>dsl</td>\n      <td>yes</td>\n      <td>...</td>\n      <td>yes</td>\n      <td>yes</td>\n      <td>no</td>\n      <td>no</td>\n      <td>one_year</td>\n      <td>no</td>\n      <td>bank_transfer_(automatic)</td>\n      <td>42.30</td>\n      <td>1840.75</td>\n      <td>no</td>\n    </tr>\n    <tr>\n      <th>4</th>\n      <td>9237-hqitu</td>\n      <td>female</td>\n      <td>0</td>\n      <td>no</td>\n      <td>no</td>\n      <td>2</td>\n      <td>yes</td>\n      <td>no</td>\n      <td>fiber_optic</td>\n      <td>no</td>\n      <td>...</td>\n      <td>no</td>\n      <td>no</td>\n      <td>no</td>\n      <td>no</td>\n      <td>month-to-month</td>\n      <td>yes</td>\n      <td>electronic_check</td>\n      <td>70.70</td>\n      <td>151.65</td>\n      <td>yes</td>\n    </tr>\n    <tr>\n      <th>...</th>\n      <td>...</td>\n      <td>...</td>\n      <td>...</td>\n      <td>...</td>\n      <td>...</td>\n      <td>...</td>\n      <td>...</td>\n      <td>...</td>\n      <td>...</td>\n      <td>...</td>\n      <td>...</td>\n      <td>...</td>\n      <td>...</td>\n      <td>...</td>\n      <td>...</td>\n      <td>...</td>\n      <td>...</td>\n      <td>...</td>\n      <td>...</td>\n      <td>...</td>\n      <td>...</td>\n    </tr>\n    <tr>\n      <th>7038</th>\n      <td>6840-resvb</td>\n      <td>male</td>\n      <td>0</td>\n      <td>yes</td>\n      <td>yes</td>\n      <td>24</td>\n      <td>yes</td>\n      <td>yes</td>\n      <td>dsl</td>\n      <td>yes</td>\n      <td>...</td>\n      <td>yes</td>\n      <td>yes</td>\n      <td>yes</td>\n      <td>yes</td>\n      <td>one_year</td>\n      <td>yes</td>\n      <td>mailed_check</td>\n      <td>84.80</td>\n      <td>1990.5</td>\n      <td>no</td>\n    </tr>\n    <tr>\n      <th>7039</th>\n      <td>2234-xaduh</td>\n      <td>female</td>\n      <td>0</td>\n      <td>yes</td>\n      <td>yes</td>\n      <td>72</td>\n      <td>yes</td>\n      <td>yes</td>\n      <td>fiber_optic</td>\n      <td>no</td>\n      <td>...</td>\n      <td>yes</td>\n      <td>no</td>\n      <td>yes</td>\n      <td>yes</td>\n      <td>one_year</td>\n      <td>yes</td>\n      <td>credit_card_(automatic)</td>\n      <td>103.20</td>\n      <td>7362.9</td>\n      <td>no</td>\n    </tr>\n    <tr>\n      <th>7040</th>\n      <td>4801-jzazl</td>\n      <td>female</td>\n      <td>0</td>\n      <td>yes</td>\n      <td>yes</td>\n      <td>11</td>\n      <td>no</td>\n      <td>no_phone_service</td>\n      <td>dsl</td>\n      <td>yes</td>\n      <td>...</td>\n      <td>no</td>\n      <td>no</td>\n      <td>no</td>\n      <td>no</td>\n      <td>month-to-month</td>\n      <td>yes</td>\n      <td>electronic_check</td>\n      <td>29.60</td>\n      <td>346.45</td>\n      <td>no</td>\n    </tr>\n    <tr>\n      <th>7041</th>\n      <td>8361-ltmkd</td>\n      <td>male</td>\n      <td>1</td>\n      <td>yes</td>\n      <td>no</td>\n      <td>4</td>\n      <td>yes</td>\n      <td>yes</td>\n      <td>fiber_optic</td>\n      <td>no</td>\n      <td>...</td>\n      <td>no</td>\n      <td>no</td>\n      <td>no</td>\n      <td>no</td>\n      <td>month-to-month</td>\n      <td>yes</td>\n      <td>mailed_check</td>\n      <td>74.40</td>\n      <td>306.6</td>\n      <td>yes</td>\n    </tr>\n    <tr>\n      <th>7042</th>\n      <td>3186-ajiek</td>\n      <td>male</td>\n      <td>0</td>\n      <td>no</td>\n      <td>no</td>\n      <td>66</td>\n      <td>yes</td>\n      <td>no</td>\n      <td>fiber_optic</td>\n      <td>yes</td>\n      <td>...</td>\n      <td>yes</td>\n      <td>yes</td>\n      <td>yes</td>\n      <td>yes</td>\n      <td>two_year</td>\n      <td>yes</td>\n      <td>bank_transfer_(automatic)</td>\n      <td>105.65</td>\n      <td>6844.5</td>\n      <td>no</td>\n    </tr>\n  </tbody>\n</table>\n<p>7043 rows × 21 columns</p>\n</div>"
     },
     "execution_count": 4,
     "metadata": {},
     "output_type": "execute_result"
    }
   ],
   "source": [
    "df.columns = df.columns.str.lower().str.replace(' ','_')\n",
    "\n",
    "categorical_columns = list(df.dtypes[df.dtypes == 'object'].index)\n",
    "\n",
    "for col in categorical_columns:\n",
    "    df[col] = df[col].str.lower().str.replace(' ', '_')\n",
    "\n",
    "df\n"
   ],
   "metadata": {
    "collapsed": false
   }
  },
  {
   "cell_type": "code",
   "execution_count": 5,
   "outputs": [],
   "source": [
    "df.totalcharges = pd.to_numeric(df.totalcharges, errors='coerce')\n",
    "df.totalcharges = df.totalcharges.fillna(0)"
   ],
   "metadata": {
    "collapsed": false
   }
  },
  {
   "cell_type": "code",
   "execution_count": 6,
   "outputs": [
    {
     "data": {
      "text/plain": "      customerid  gender  seniorcitizen partner dependents  tenure  \\\n0     7590-vhveg  female              0     yes         no       1   \n1     5575-gnvde    male              0      no         no      34   \n2     3668-qpybk    male              0      no         no       2   \n3     7795-cfocw    male              0      no         no      45   \n4     9237-hqitu  female              0      no         no       2   \n...          ...     ...            ...     ...        ...     ...   \n7038  6840-resvb    male              0     yes        yes      24   \n7039  2234-xaduh  female              0     yes        yes      72   \n7040  4801-jzazl  female              0     yes        yes      11   \n7041  8361-ltmkd    male              1     yes         no       4   \n7042  3186-ajiek    male              0      no         no      66   \n\n     phoneservice     multiplelines internetservice onlinesecurity  ...  \\\n0              no  no_phone_service             dsl             no  ...   \n1             yes                no             dsl            yes  ...   \n2             yes                no             dsl            yes  ...   \n3              no  no_phone_service             dsl            yes  ...   \n4             yes                no     fiber_optic             no  ...   \n...           ...               ...             ...            ...  ...   \n7038          yes               yes             dsl            yes  ...   \n7039          yes               yes     fiber_optic             no  ...   \n7040           no  no_phone_service             dsl            yes  ...   \n7041          yes               yes     fiber_optic             no  ...   \n7042          yes                no     fiber_optic            yes  ...   \n\n     deviceprotection techsupport streamingtv streamingmovies        contract  \\\n0                  no          no          no              no  month-to-month   \n1                 yes          no          no              no        one_year   \n2                  no          no          no              no  month-to-month   \n3                 yes         yes          no              no        one_year   \n4                  no          no          no              no  month-to-month   \n...               ...         ...         ...             ...             ...   \n7038              yes         yes         yes             yes        one_year   \n7039              yes          no         yes             yes        one_year   \n7040               no          no          no              no  month-to-month   \n7041               no          no          no              no  month-to-month   \n7042              yes         yes         yes             yes        two_year   \n\n     paperlessbilling              paymentmethod monthlycharges  totalcharges  \\\n0                 yes           electronic_check          29.85         29.85   \n1                  no               mailed_check          56.95       1889.50   \n2                 yes               mailed_check          53.85        108.15   \n3                  no  bank_transfer_(automatic)          42.30       1840.75   \n4                 yes           electronic_check          70.70        151.65   \n...               ...                        ...            ...           ...   \n7038              yes               mailed_check          84.80       1990.50   \n7039              yes    credit_card_(automatic)         103.20       7362.90   \n7040              yes           electronic_check          29.60        346.45   \n7041              yes               mailed_check          74.40        306.60   \n7042              yes  bank_transfer_(automatic)         105.65       6844.50   \n\n      churn  \n0         0  \n1         0  \n2         1  \n3         0  \n4         1  \n...     ...  \n7038      0  \n7039      0  \n7040      0  \n7041      1  \n7042      0  \n\n[7043 rows x 21 columns]",
      "text/html": "<div>\n<style scoped>\n    .dataframe tbody tr th:only-of-type {\n        vertical-align: middle;\n    }\n\n    .dataframe tbody tr th {\n        vertical-align: top;\n    }\n\n    .dataframe thead th {\n        text-align: right;\n    }\n</style>\n<table border=\"1\" class=\"dataframe\">\n  <thead>\n    <tr style=\"text-align: right;\">\n      <th></th>\n      <th>customerid</th>\n      <th>gender</th>\n      <th>seniorcitizen</th>\n      <th>partner</th>\n      <th>dependents</th>\n      <th>tenure</th>\n      <th>phoneservice</th>\n      <th>multiplelines</th>\n      <th>internetservice</th>\n      <th>onlinesecurity</th>\n      <th>...</th>\n      <th>deviceprotection</th>\n      <th>techsupport</th>\n      <th>streamingtv</th>\n      <th>streamingmovies</th>\n      <th>contract</th>\n      <th>paperlessbilling</th>\n      <th>paymentmethod</th>\n      <th>monthlycharges</th>\n      <th>totalcharges</th>\n      <th>churn</th>\n    </tr>\n  </thead>\n  <tbody>\n    <tr>\n      <th>0</th>\n      <td>7590-vhveg</td>\n      <td>female</td>\n      <td>0</td>\n      <td>yes</td>\n      <td>no</td>\n      <td>1</td>\n      <td>no</td>\n      <td>no_phone_service</td>\n      <td>dsl</td>\n      <td>no</td>\n      <td>...</td>\n      <td>no</td>\n      <td>no</td>\n      <td>no</td>\n      <td>no</td>\n      <td>month-to-month</td>\n      <td>yes</td>\n      <td>electronic_check</td>\n      <td>29.85</td>\n      <td>29.85</td>\n      <td>0</td>\n    </tr>\n    <tr>\n      <th>1</th>\n      <td>5575-gnvde</td>\n      <td>male</td>\n      <td>0</td>\n      <td>no</td>\n      <td>no</td>\n      <td>34</td>\n      <td>yes</td>\n      <td>no</td>\n      <td>dsl</td>\n      <td>yes</td>\n      <td>...</td>\n      <td>yes</td>\n      <td>no</td>\n      <td>no</td>\n      <td>no</td>\n      <td>one_year</td>\n      <td>no</td>\n      <td>mailed_check</td>\n      <td>56.95</td>\n      <td>1889.50</td>\n      <td>0</td>\n    </tr>\n    <tr>\n      <th>2</th>\n      <td>3668-qpybk</td>\n      <td>male</td>\n      <td>0</td>\n      <td>no</td>\n      <td>no</td>\n      <td>2</td>\n      <td>yes</td>\n      <td>no</td>\n      <td>dsl</td>\n      <td>yes</td>\n      <td>...</td>\n      <td>no</td>\n      <td>no</td>\n      <td>no</td>\n      <td>no</td>\n      <td>month-to-month</td>\n      <td>yes</td>\n      <td>mailed_check</td>\n      <td>53.85</td>\n      <td>108.15</td>\n      <td>1</td>\n    </tr>\n    <tr>\n      <th>3</th>\n      <td>7795-cfocw</td>\n      <td>male</td>\n      <td>0</td>\n      <td>no</td>\n      <td>no</td>\n      <td>45</td>\n      <td>no</td>\n      <td>no_phone_service</td>\n      <td>dsl</td>\n      <td>yes</td>\n      <td>...</td>\n      <td>yes</td>\n      <td>yes</td>\n      <td>no</td>\n      <td>no</td>\n      <td>one_year</td>\n      <td>no</td>\n      <td>bank_transfer_(automatic)</td>\n      <td>42.30</td>\n      <td>1840.75</td>\n      <td>0</td>\n    </tr>\n    <tr>\n      <th>4</th>\n      <td>9237-hqitu</td>\n      <td>female</td>\n      <td>0</td>\n      <td>no</td>\n      <td>no</td>\n      <td>2</td>\n      <td>yes</td>\n      <td>no</td>\n      <td>fiber_optic</td>\n      <td>no</td>\n      <td>...</td>\n      <td>no</td>\n      <td>no</td>\n      <td>no</td>\n      <td>no</td>\n      <td>month-to-month</td>\n      <td>yes</td>\n      <td>electronic_check</td>\n      <td>70.70</td>\n      <td>151.65</td>\n      <td>1</td>\n    </tr>\n    <tr>\n      <th>...</th>\n      <td>...</td>\n      <td>...</td>\n      <td>...</td>\n      <td>...</td>\n      <td>...</td>\n      <td>...</td>\n      <td>...</td>\n      <td>...</td>\n      <td>...</td>\n      <td>...</td>\n      <td>...</td>\n      <td>...</td>\n      <td>...</td>\n      <td>...</td>\n      <td>...</td>\n      <td>...</td>\n      <td>...</td>\n      <td>...</td>\n      <td>...</td>\n      <td>...</td>\n      <td>...</td>\n    </tr>\n    <tr>\n      <th>7038</th>\n      <td>6840-resvb</td>\n      <td>male</td>\n      <td>0</td>\n      <td>yes</td>\n      <td>yes</td>\n      <td>24</td>\n      <td>yes</td>\n      <td>yes</td>\n      <td>dsl</td>\n      <td>yes</td>\n      <td>...</td>\n      <td>yes</td>\n      <td>yes</td>\n      <td>yes</td>\n      <td>yes</td>\n      <td>one_year</td>\n      <td>yes</td>\n      <td>mailed_check</td>\n      <td>84.80</td>\n      <td>1990.50</td>\n      <td>0</td>\n    </tr>\n    <tr>\n      <th>7039</th>\n      <td>2234-xaduh</td>\n      <td>female</td>\n      <td>0</td>\n      <td>yes</td>\n      <td>yes</td>\n      <td>72</td>\n      <td>yes</td>\n      <td>yes</td>\n      <td>fiber_optic</td>\n      <td>no</td>\n      <td>...</td>\n      <td>yes</td>\n      <td>no</td>\n      <td>yes</td>\n      <td>yes</td>\n      <td>one_year</td>\n      <td>yes</td>\n      <td>credit_card_(automatic)</td>\n      <td>103.20</td>\n      <td>7362.90</td>\n      <td>0</td>\n    </tr>\n    <tr>\n      <th>7040</th>\n      <td>4801-jzazl</td>\n      <td>female</td>\n      <td>0</td>\n      <td>yes</td>\n      <td>yes</td>\n      <td>11</td>\n      <td>no</td>\n      <td>no_phone_service</td>\n      <td>dsl</td>\n      <td>yes</td>\n      <td>...</td>\n      <td>no</td>\n      <td>no</td>\n      <td>no</td>\n      <td>no</td>\n      <td>month-to-month</td>\n      <td>yes</td>\n      <td>electronic_check</td>\n      <td>29.60</td>\n      <td>346.45</td>\n      <td>0</td>\n    </tr>\n    <tr>\n      <th>7041</th>\n      <td>8361-ltmkd</td>\n      <td>male</td>\n      <td>1</td>\n      <td>yes</td>\n      <td>no</td>\n      <td>4</td>\n      <td>yes</td>\n      <td>yes</td>\n      <td>fiber_optic</td>\n      <td>no</td>\n      <td>...</td>\n      <td>no</td>\n      <td>no</td>\n      <td>no</td>\n      <td>no</td>\n      <td>month-to-month</td>\n      <td>yes</td>\n      <td>mailed_check</td>\n      <td>74.40</td>\n      <td>306.60</td>\n      <td>1</td>\n    </tr>\n    <tr>\n      <th>7042</th>\n      <td>3186-ajiek</td>\n      <td>male</td>\n      <td>0</td>\n      <td>no</td>\n      <td>no</td>\n      <td>66</td>\n      <td>yes</td>\n      <td>no</td>\n      <td>fiber_optic</td>\n      <td>yes</td>\n      <td>...</td>\n      <td>yes</td>\n      <td>yes</td>\n      <td>yes</td>\n      <td>yes</td>\n      <td>two_year</td>\n      <td>yes</td>\n      <td>bank_transfer_(automatic)</td>\n      <td>105.65</td>\n      <td>6844.50</td>\n      <td>0</td>\n    </tr>\n  </tbody>\n</table>\n<p>7043 rows × 21 columns</p>\n</div>"
     },
     "execution_count": 6,
     "metadata": {},
     "output_type": "execute_result"
    }
   ],
   "source": [
    "df.churn = (df.churn == 'yes').astype('int')\n",
    "df\n"
   ],
   "metadata": {
    "collapsed": false
   }
  },
  {
   "cell_type": "markdown",
   "source": [
    "# 3.3 Setting up the validation framework\n",
    "* Perform the train/validation/test split with Scikit-Learn\n"
   ],
   "metadata": {
    "collapsed": false
   }
  },
  {
   "cell_type": "code",
   "execution_count": 7,
   "outputs": [],
   "source": [
    "from sklearn.model_selection import train_test_split\n"
   ],
   "metadata": {
    "collapsed": false
   }
  },
  {
   "cell_type": "code",
   "execution_count": 8,
   "outputs": [
    {
     "data": {
      "text/plain": "(4225, 1409, 1409)"
     },
     "execution_count": 8,
     "metadata": {},
     "output_type": "execute_result"
    }
   ],
   "source": [
    "df_full_train, df_test = train_test_split(df, test_size=0.2, random_state=1)\n",
    "df_train, df_val = train_test_split(df_full_train, test_size=0.25, random_state=1)\n",
    "len(df_train), len(df_test), len(df_val)"
   ],
   "metadata": {
    "collapsed": false
   }
  },
  {
   "cell_type": "code",
   "execution_count": 9,
   "outputs": [
    {
     "data": {
      "text/plain": "      customerid  gender  seniorcitizen partner dependents  tenure  \\\n0     8879-zkjof  female              0      no         no      41   \n1     0201-mibol  female              1      no         no      66   \n2     1600-dilpe  female              0      no         no      12   \n3     8601-qacrs  female              0      no         no       5   \n4     7919-zodzz  female              0     yes        yes      10   \n...          ...     ...            ...     ...        ...     ...   \n1404  5130-iekqt    male              1      no         no      25   \n1405  4452-rohmo  female              0      no         no      15   \n1406  6164-haqtx    male              0      no         no      71   \n1407  3982-dqlus    male              1     yes        yes      65   \n1408  9874-qlclh  female              0     yes        yes      17   \n\n     phoneservice     multiplelines internetservice       onlinesecurity  ...  \\\n0             yes                no             dsl                  yes  ...   \n1             yes               yes     fiber_optic                  yes  ...   \n2             yes                no             dsl                   no  ...   \n3             yes               yes             dsl                   no  ...   \n4             yes                no             dsl                   no  ...   \n...           ...               ...             ...                  ...  ...   \n1404          yes               yes     fiber_optic                   no  ...   \n1405          yes                no              no  no_internet_service  ...   \n1406           no  no_phone_service             dsl                  yes  ...   \n1407          yes               yes     fiber_optic                  yes  ...   \n1408          yes               yes     fiber_optic                  yes  ...   \n\n         deviceprotection          techsupport          streamingtv  \\\n0                     yes                  yes                  yes   \n1                      no                   no                  yes   \n2                      no                   no                   no   \n3                      no                   no                   no   \n4                     yes                   no                   no   \n...                   ...                  ...                  ...   \n1404                  yes                   no                  yes   \n1405  no_internet_service  no_internet_service  no_internet_service   \n1406                  yes                  yes                  yes   \n1407                   no                   no                   no   \n1408                  yes                   no                  yes   \n\n          streamingmovies        contract paperlessbilling  \\\n0                     yes        one_year              yes   \n1                     yes        two_year              yes   \n2                      no  month-to-month              yes   \n3                      no  month-to-month              yes   \n4                     yes        one_year              yes   \n...                   ...             ...              ...   \n1404                  yes  month-to-month               no   \n1405  no_internet_service        two_year               no   \n1406                   no        two_year               no   \n1407                   no  month-to-month              yes   \n1408                  yes  month-to-month              yes   \n\n                  paymentmethod monthlycharges  totalcharges  churn  \n0     bank_transfer_(automatic)          79.85       3320.75      0  \n1     bank_transfer_(automatic)         102.40       6471.85      0  \n2     bank_transfer_(automatic)          45.00        524.35      0  \n3                  mailed_check          50.60        249.95      1  \n4                  mailed_check          65.90        660.05      0  \n...                         ...            ...           ...    ...  \n1404               mailed_check         105.95       2655.25      1  \n1405               mailed_check          19.60        331.60      0  \n1406  bank_transfer_(automatic)          53.95       3888.65      0  \n1407           electronic_check          85.75       5688.45      0  \n1408           electronic_check         104.20       1743.50      1  \n\n[1409 rows x 21 columns]",
      "text/html": "<div>\n<style scoped>\n    .dataframe tbody tr th:only-of-type {\n        vertical-align: middle;\n    }\n\n    .dataframe tbody tr th {\n        vertical-align: top;\n    }\n\n    .dataframe thead th {\n        text-align: right;\n    }\n</style>\n<table border=\"1\" class=\"dataframe\">\n  <thead>\n    <tr style=\"text-align: right;\">\n      <th></th>\n      <th>customerid</th>\n      <th>gender</th>\n      <th>seniorcitizen</th>\n      <th>partner</th>\n      <th>dependents</th>\n      <th>tenure</th>\n      <th>phoneservice</th>\n      <th>multiplelines</th>\n      <th>internetservice</th>\n      <th>onlinesecurity</th>\n      <th>...</th>\n      <th>deviceprotection</th>\n      <th>techsupport</th>\n      <th>streamingtv</th>\n      <th>streamingmovies</th>\n      <th>contract</th>\n      <th>paperlessbilling</th>\n      <th>paymentmethod</th>\n      <th>monthlycharges</th>\n      <th>totalcharges</th>\n      <th>churn</th>\n    </tr>\n  </thead>\n  <tbody>\n    <tr>\n      <th>0</th>\n      <td>8879-zkjof</td>\n      <td>female</td>\n      <td>0</td>\n      <td>no</td>\n      <td>no</td>\n      <td>41</td>\n      <td>yes</td>\n      <td>no</td>\n      <td>dsl</td>\n      <td>yes</td>\n      <td>...</td>\n      <td>yes</td>\n      <td>yes</td>\n      <td>yes</td>\n      <td>yes</td>\n      <td>one_year</td>\n      <td>yes</td>\n      <td>bank_transfer_(automatic)</td>\n      <td>79.85</td>\n      <td>3320.75</td>\n      <td>0</td>\n    </tr>\n    <tr>\n      <th>1</th>\n      <td>0201-mibol</td>\n      <td>female</td>\n      <td>1</td>\n      <td>no</td>\n      <td>no</td>\n      <td>66</td>\n      <td>yes</td>\n      <td>yes</td>\n      <td>fiber_optic</td>\n      <td>yes</td>\n      <td>...</td>\n      <td>no</td>\n      <td>no</td>\n      <td>yes</td>\n      <td>yes</td>\n      <td>two_year</td>\n      <td>yes</td>\n      <td>bank_transfer_(automatic)</td>\n      <td>102.40</td>\n      <td>6471.85</td>\n      <td>0</td>\n    </tr>\n    <tr>\n      <th>2</th>\n      <td>1600-dilpe</td>\n      <td>female</td>\n      <td>0</td>\n      <td>no</td>\n      <td>no</td>\n      <td>12</td>\n      <td>yes</td>\n      <td>no</td>\n      <td>dsl</td>\n      <td>no</td>\n      <td>...</td>\n      <td>no</td>\n      <td>no</td>\n      <td>no</td>\n      <td>no</td>\n      <td>month-to-month</td>\n      <td>yes</td>\n      <td>bank_transfer_(automatic)</td>\n      <td>45.00</td>\n      <td>524.35</td>\n      <td>0</td>\n    </tr>\n    <tr>\n      <th>3</th>\n      <td>8601-qacrs</td>\n      <td>female</td>\n      <td>0</td>\n      <td>no</td>\n      <td>no</td>\n      <td>5</td>\n      <td>yes</td>\n      <td>yes</td>\n      <td>dsl</td>\n      <td>no</td>\n      <td>...</td>\n      <td>no</td>\n      <td>no</td>\n      <td>no</td>\n      <td>no</td>\n      <td>month-to-month</td>\n      <td>yes</td>\n      <td>mailed_check</td>\n      <td>50.60</td>\n      <td>249.95</td>\n      <td>1</td>\n    </tr>\n    <tr>\n      <th>4</th>\n      <td>7919-zodzz</td>\n      <td>female</td>\n      <td>0</td>\n      <td>yes</td>\n      <td>yes</td>\n      <td>10</td>\n      <td>yes</td>\n      <td>no</td>\n      <td>dsl</td>\n      <td>no</td>\n      <td>...</td>\n      <td>yes</td>\n      <td>no</td>\n      <td>no</td>\n      <td>yes</td>\n      <td>one_year</td>\n      <td>yes</td>\n      <td>mailed_check</td>\n      <td>65.90</td>\n      <td>660.05</td>\n      <td>0</td>\n    </tr>\n    <tr>\n      <th>...</th>\n      <td>...</td>\n      <td>...</td>\n      <td>...</td>\n      <td>...</td>\n      <td>...</td>\n      <td>...</td>\n      <td>...</td>\n      <td>...</td>\n      <td>...</td>\n      <td>...</td>\n      <td>...</td>\n      <td>...</td>\n      <td>...</td>\n      <td>...</td>\n      <td>...</td>\n      <td>...</td>\n      <td>...</td>\n      <td>...</td>\n      <td>...</td>\n      <td>...</td>\n      <td>...</td>\n    </tr>\n    <tr>\n      <th>1404</th>\n      <td>5130-iekqt</td>\n      <td>male</td>\n      <td>1</td>\n      <td>no</td>\n      <td>no</td>\n      <td>25</td>\n      <td>yes</td>\n      <td>yes</td>\n      <td>fiber_optic</td>\n      <td>no</td>\n      <td>...</td>\n      <td>yes</td>\n      <td>no</td>\n      <td>yes</td>\n      <td>yes</td>\n      <td>month-to-month</td>\n      <td>no</td>\n      <td>mailed_check</td>\n      <td>105.95</td>\n      <td>2655.25</td>\n      <td>1</td>\n    </tr>\n    <tr>\n      <th>1405</th>\n      <td>4452-rohmo</td>\n      <td>female</td>\n      <td>0</td>\n      <td>no</td>\n      <td>no</td>\n      <td>15</td>\n      <td>yes</td>\n      <td>no</td>\n      <td>no</td>\n      <td>no_internet_service</td>\n      <td>...</td>\n      <td>no_internet_service</td>\n      <td>no_internet_service</td>\n      <td>no_internet_service</td>\n      <td>no_internet_service</td>\n      <td>two_year</td>\n      <td>no</td>\n      <td>mailed_check</td>\n      <td>19.60</td>\n      <td>331.60</td>\n      <td>0</td>\n    </tr>\n    <tr>\n      <th>1406</th>\n      <td>6164-haqtx</td>\n      <td>male</td>\n      <td>0</td>\n      <td>no</td>\n      <td>no</td>\n      <td>71</td>\n      <td>no</td>\n      <td>no_phone_service</td>\n      <td>dsl</td>\n      <td>yes</td>\n      <td>...</td>\n      <td>yes</td>\n      <td>yes</td>\n      <td>yes</td>\n      <td>no</td>\n      <td>two_year</td>\n      <td>no</td>\n      <td>bank_transfer_(automatic)</td>\n      <td>53.95</td>\n      <td>3888.65</td>\n      <td>0</td>\n    </tr>\n    <tr>\n      <th>1407</th>\n      <td>3982-dqlus</td>\n      <td>male</td>\n      <td>1</td>\n      <td>yes</td>\n      <td>yes</td>\n      <td>65</td>\n      <td>yes</td>\n      <td>yes</td>\n      <td>fiber_optic</td>\n      <td>yes</td>\n      <td>...</td>\n      <td>no</td>\n      <td>no</td>\n      <td>no</td>\n      <td>no</td>\n      <td>month-to-month</td>\n      <td>yes</td>\n      <td>electronic_check</td>\n      <td>85.75</td>\n      <td>5688.45</td>\n      <td>0</td>\n    </tr>\n    <tr>\n      <th>1408</th>\n      <td>9874-qlclh</td>\n      <td>female</td>\n      <td>0</td>\n      <td>yes</td>\n      <td>yes</td>\n      <td>17</td>\n      <td>yes</td>\n      <td>yes</td>\n      <td>fiber_optic</td>\n      <td>yes</td>\n      <td>...</td>\n      <td>yes</td>\n      <td>no</td>\n      <td>yes</td>\n      <td>yes</td>\n      <td>month-to-month</td>\n      <td>yes</td>\n      <td>electronic_check</td>\n      <td>104.20</td>\n      <td>1743.50</td>\n      <td>1</td>\n    </tr>\n  </tbody>\n</table>\n<p>1409 rows × 21 columns</p>\n</div>"
     },
     "execution_count": 9,
     "metadata": {},
     "output_type": "execute_result"
    }
   ],
   "source": [
    "df_train.reset_index(drop=True)\n",
    "df_val.reset_index(drop=True)\n",
    "df_test.reset_index(drop=True)\n"
   ],
   "metadata": {
    "collapsed": false
   }
  },
  {
   "cell_type": "code",
   "execution_count": 10,
   "outputs": [],
   "source": [
    "y_train = df_train.churn.values\n",
    "y_test = df_test.churn.values\n",
    "y_val = df_val.churn.values"
   ],
   "metadata": {
    "collapsed": false
   }
  },
  {
   "cell_type": "code",
   "execution_count": 11,
   "outputs": [],
   "source": [
    "del df_train['churn']\n",
    "del df_test['churn']\n",
    "del df_val['churn']\n"
   ],
   "metadata": {
    "collapsed": false
   }
  },
  {
   "cell_type": "markdown",
   "source": [
    "# 3.4 EDA\n",
    "* Check missing values\n",
    "* Look at the target variable (churn)\n",
    "* Look at numerical and categorical variables\n"
   ],
   "metadata": {
    "collapsed": false
   }
  },
  {
   "cell_type": "code",
   "execution_count": 12,
   "outputs": [],
   "source": [
    "df_full_train = df_full_train.reset_index(drop=True)\n"
   ],
   "metadata": {
    "collapsed": false
   }
  },
  {
   "cell_type": "code",
   "execution_count": 13,
   "outputs": [
    {
     "data": {
      "text/plain": "customerid          0\ngender              0\nseniorcitizen       0\npartner             0\ndependents          0\ntenure              0\nphoneservice        0\nmultiplelines       0\ninternetservice     0\nonlinesecurity      0\nonlinebackup        0\ndeviceprotection    0\ntechsupport         0\nstreamingtv         0\nstreamingmovies     0\ncontract            0\npaperlessbilling    0\npaymentmethod       0\nmonthlycharges      0\ntotalcharges        0\nchurn               0\ndtype: int64"
     },
     "execution_count": 13,
     "metadata": {},
     "output_type": "execute_result"
    }
   ],
   "source": [
    "df_full_train.isnull().sum()\n"
   ],
   "metadata": {
    "collapsed": false
   }
  },
  {
   "cell_type": "code",
   "execution_count": 14,
   "outputs": [
    {
     "data": {
      "text/plain": "0    0.730032\n1    0.269968\nName: churn, dtype: float64"
     },
     "execution_count": 14,
     "metadata": {},
     "output_type": "execute_result"
    }
   ],
   "source": [
    "df_full_train.churn.value_counts(normalize=True)\n"
   ],
   "metadata": {
    "collapsed": false
   }
  },
  {
   "cell_type": "code",
   "execution_count": 15,
   "outputs": [
    {
     "data": {
      "text/plain": "0.26996805111821087"
     },
     "execution_count": 15,
     "metadata": {},
     "output_type": "execute_result"
    }
   ],
   "source": [
    "global_churn_rate = df_full_train.churn.mean()\n",
    "global_churn_rate\n"
   ],
   "metadata": {
    "collapsed": false
   }
  },
  {
   "cell_type": "code",
   "execution_count": 16,
   "outputs": [],
   "source": [
    "df_full_train.dtypes\n",
    "numerical = ['tenure', 'monthlycharges', 'totalcharges']\n",
    "categorical = ['seniorcitizen','gender','partner','dependents','phoneservice','multiplelines','internetservice','onlinesecurity','onlinebackup','deviceprotection','techsupport','streamingtv','streamingmovies','contract','paperlessbilling','paymentmethod']\n"
   ],
   "metadata": {
    "collapsed": false
   }
  },
  {
   "cell_type": "code",
   "execution_count": 17,
   "outputs": [
    {
     "data": {
      "text/plain": "seniorcitizen       2\ngender              2\npartner             2\ndependents          2\nphoneservice        2\nmultiplelines       3\ninternetservice     3\nonlinesecurity      3\nonlinebackup        3\ndeviceprotection    3\ntechsupport         3\nstreamingtv         3\nstreamingmovies     3\ncontract            3\npaperlessbilling    2\npaymentmethod       4\ndtype: int64"
     },
     "execution_count": 17,
     "metadata": {},
     "output_type": "execute_result"
    }
   ],
   "source": [
    "df_full_train[categorical].nunique()\n"
   ],
   "metadata": {
    "collapsed": false
   }
  },
  {
   "cell_type": "markdown",
   "source": [
    "# 3.5 Feature importance: Churn rate and risk ratio\n",
    "Feature importance analysis (part of EDA) - identifying which features affect our target variable\n",
    "\n",
    "* Churn rate\n",
    "* Risk ratio\n",
    "* Mutual information - later\n"
   ],
   "metadata": {
    "collapsed": false
   }
  },
  {
   "cell_type": "code",
   "execution_count": 18,
   "outputs": [
    {
     "data": {
      "text/plain": "(0.27682403433476394, 0.2632135306553911, 0.013610503679372832)"
     },
     "execution_count": 18,
     "metadata": {},
     "output_type": "execute_result"
    }
   ],
   "source": [
    "churn_male = df_full_train[df_full_train.gender == 'male'].churn.mean()\n",
    "churn_female = df_full_train[df_full_train.gender == 'female'].churn.mean()\n",
    "churn_female, churn_male, churn_female - churn_male\n"
   ],
   "metadata": {
    "collapsed": false
   }
  },
  {
   "cell_type": "code",
   "execution_count": 19,
   "outputs": [
    {
     "data": {
      "text/plain": "(0.20503330866025166, 0.3298090040927694, -0.12477569543251776)"
     },
     "execution_count": 19,
     "metadata": {},
     "output_type": "execute_result"
    }
   ],
   "source": [
    "churn_partner = df_full_train[df_full_train.partner == 'yes'].churn.mean()\n",
    "churn_no_partner = df_full_train[df_full_train.partner == 'no'].churn.mean()\n",
    "churn_partner, churn_no_partner, churn_partner - churn_no_partner\n"
   ],
   "metadata": {
    "collapsed": false
   }
  },
  {
   "cell_type": "code",
   "execution_count": 20,
   "outputs": [
    {
     "data": {
      "text/plain": "0.06493474245795922"
     },
     "execution_count": 20,
     "metadata": {},
     "output_type": "execute_result"
    }
   ],
   "source": [
    "# Calculating the difference with global churn\n",
    "# Less likely to churn\n",
    "global_churn_rate - churn_partner"
   ],
   "metadata": {
    "collapsed": false
   }
  },
  {
   "cell_type": "code",
   "execution_count": 21,
   "outputs": [
    {
     "data": {
      "text/plain": "-0.05984095297455855"
     },
     "execution_count": 21,
     "metadata": {},
     "output_type": "execute_result"
    }
   ],
   "source": [
    "# More likely to churn\n",
    "global_churn_rate - churn_no_partner"
   ],
   "metadata": {
    "collapsed": false
   }
  },
  {
   "cell_type": "markdown",
   "source": [
    "## Risk ratio"
   ],
   "metadata": {
    "collapsed": false
   }
  },
  {
   "cell_type": "code",
   "execution_count": 22,
   "outputs": [
    {
     "data": {
      "text/plain": "1.2216593879412643"
     },
     "execution_count": 22,
     "metadata": {},
     "output_type": "execute_result"
    }
   ],
   "source": [
    "# Calculating the ratio\n",
    "# More likely to churn\n",
    "churn_no_partner / global_churn_rate"
   ],
   "metadata": {
    "collapsed": false
   }
  },
  {
   "cell_type": "code",
   "execution_count": 23,
   "outputs": [
    {
     "data": {
      "text/plain": "0.7594724924338315"
     },
     "execution_count": 23,
     "metadata": {},
     "output_type": "execute_result"
    }
   ],
   "source": [
    "# Less likely to churn\n",
    "churn_partner / global_churn_rate"
   ],
   "metadata": {
    "collapsed": false
   }
  },
  {
   "cell_type": "code",
   "execution_count": 24,
   "outputs": [],
   "source": [
    "from IPython.display import display"
   ],
   "metadata": {
    "collapsed": false
   }
  },
  {
   "cell_type": "code",
   "execution_count": 25,
   "outputs": [
    {
     "data": {
      "text/plain": "                   mean  count      diff      risk\nseniorcitizen                                     \n0              0.242270   4722 -0.027698  0.897403\n1              0.413377    912  0.143409  1.531208",
      "text/html": "<div>\n<style scoped>\n    .dataframe tbody tr th:only-of-type {\n        vertical-align: middle;\n    }\n\n    .dataframe tbody tr th {\n        vertical-align: top;\n    }\n\n    .dataframe thead th {\n        text-align: right;\n    }\n</style>\n<table border=\"1\" class=\"dataframe\">\n  <thead>\n    <tr style=\"text-align: right;\">\n      <th></th>\n      <th>mean</th>\n      <th>count</th>\n      <th>diff</th>\n      <th>risk</th>\n    </tr>\n    <tr>\n      <th>seniorcitizen</th>\n      <th></th>\n      <th></th>\n      <th></th>\n      <th></th>\n    </tr>\n  </thead>\n  <tbody>\n    <tr>\n      <th>0</th>\n      <td>0.242270</td>\n      <td>4722</td>\n      <td>-0.027698</td>\n      <td>0.897403</td>\n    </tr>\n    <tr>\n      <th>1</th>\n      <td>0.413377</td>\n      <td>912</td>\n      <td>0.143409</td>\n      <td>1.531208</td>\n    </tr>\n  </tbody>\n</table>\n</div>"
     },
     "metadata": {},
     "output_type": "display_data"
    },
    {
     "name": "stdout",
     "output_type": "stream",
     "text": [
      "\n"
     ]
    },
    {
     "data": {
      "text/plain": "            mean  count      diff      risk\ngender                                     \nfemale  0.276824   2796  0.006856  1.025396\nmale    0.263214   2838 -0.006755  0.974980",
      "text/html": "<div>\n<style scoped>\n    .dataframe tbody tr th:only-of-type {\n        vertical-align: middle;\n    }\n\n    .dataframe tbody tr th {\n        vertical-align: top;\n    }\n\n    .dataframe thead th {\n        text-align: right;\n    }\n</style>\n<table border=\"1\" class=\"dataframe\">\n  <thead>\n    <tr style=\"text-align: right;\">\n      <th></th>\n      <th>mean</th>\n      <th>count</th>\n      <th>diff</th>\n      <th>risk</th>\n    </tr>\n    <tr>\n      <th>gender</th>\n      <th></th>\n      <th></th>\n      <th></th>\n      <th></th>\n    </tr>\n  </thead>\n  <tbody>\n    <tr>\n      <th>female</th>\n      <td>0.276824</td>\n      <td>2796</td>\n      <td>0.006856</td>\n      <td>1.025396</td>\n    </tr>\n    <tr>\n      <th>male</th>\n      <td>0.263214</td>\n      <td>2838</td>\n      <td>-0.006755</td>\n      <td>0.974980</td>\n    </tr>\n  </tbody>\n</table>\n</div>"
     },
     "metadata": {},
     "output_type": "display_data"
    },
    {
     "name": "stdout",
     "output_type": "stream",
     "text": [
      "\n"
     ]
    },
    {
     "data": {
      "text/plain": "             mean  count      diff      risk\npartner                                     \nno       0.329809   2932  0.059841  1.221659\nyes      0.205033   2702 -0.064935  0.759472",
      "text/html": "<div>\n<style scoped>\n    .dataframe tbody tr th:only-of-type {\n        vertical-align: middle;\n    }\n\n    .dataframe tbody tr th {\n        vertical-align: top;\n    }\n\n    .dataframe thead th {\n        text-align: right;\n    }\n</style>\n<table border=\"1\" class=\"dataframe\">\n  <thead>\n    <tr style=\"text-align: right;\">\n      <th></th>\n      <th>mean</th>\n      <th>count</th>\n      <th>diff</th>\n      <th>risk</th>\n    </tr>\n    <tr>\n      <th>partner</th>\n      <th></th>\n      <th></th>\n      <th></th>\n      <th></th>\n    </tr>\n  </thead>\n  <tbody>\n    <tr>\n      <th>no</th>\n      <td>0.329809</td>\n      <td>2932</td>\n      <td>0.059841</td>\n      <td>1.221659</td>\n    </tr>\n    <tr>\n      <th>yes</th>\n      <td>0.205033</td>\n      <td>2702</td>\n      <td>-0.064935</td>\n      <td>0.759472</td>\n    </tr>\n  </tbody>\n</table>\n</div>"
     },
     "metadata": {},
     "output_type": "display_data"
    },
    {
     "name": "stdout",
     "output_type": "stream",
     "text": [
      "\n"
     ]
    },
    {
     "data": {
      "text/plain": "                mean  count      diff      risk\ndependents                                     \nno          0.313760   3968  0.043792  1.162212\nyes         0.165666   1666 -0.104302  0.613651",
      "text/html": "<div>\n<style scoped>\n    .dataframe tbody tr th:only-of-type {\n        vertical-align: middle;\n    }\n\n    .dataframe tbody tr th {\n        vertical-align: top;\n    }\n\n    .dataframe thead th {\n        text-align: right;\n    }\n</style>\n<table border=\"1\" class=\"dataframe\">\n  <thead>\n    <tr style=\"text-align: right;\">\n      <th></th>\n      <th>mean</th>\n      <th>count</th>\n      <th>diff</th>\n      <th>risk</th>\n    </tr>\n    <tr>\n      <th>dependents</th>\n      <th></th>\n      <th></th>\n      <th></th>\n      <th></th>\n    </tr>\n  </thead>\n  <tbody>\n    <tr>\n      <th>no</th>\n      <td>0.313760</td>\n      <td>3968</td>\n      <td>0.043792</td>\n      <td>1.162212</td>\n    </tr>\n    <tr>\n      <th>yes</th>\n      <td>0.165666</td>\n      <td>1666</td>\n      <td>-0.104302</td>\n      <td>0.613651</td>\n    </tr>\n  </tbody>\n</table>\n</div>"
     },
     "metadata": {},
     "output_type": "display_data"
    },
    {
     "name": "stdout",
     "output_type": "stream",
     "text": [
      "\n"
     ]
    },
    {
     "data": {
      "text/plain": "                  mean  count      diff      risk\nphoneservice                                     \nno            0.241316    547 -0.028652  0.893870\nyes           0.273049   5087  0.003081  1.011412",
      "text/html": "<div>\n<style scoped>\n    .dataframe tbody tr th:only-of-type {\n        vertical-align: middle;\n    }\n\n    .dataframe tbody tr th {\n        vertical-align: top;\n    }\n\n    .dataframe thead th {\n        text-align: right;\n    }\n</style>\n<table border=\"1\" class=\"dataframe\">\n  <thead>\n    <tr style=\"text-align: right;\">\n      <th></th>\n      <th>mean</th>\n      <th>count</th>\n      <th>diff</th>\n      <th>risk</th>\n    </tr>\n    <tr>\n      <th>phoneservice</th>\n      <th></th>\n      <th></th>\n      <th></th>\n      <th></th>\n    </tr>\n  </thead>\n  <tbody>\n    <tr>\n      <th>no</th>\n      <td>0.241316</td>\n      <td>547</td>\n      <td>-0.028652</td>\n      <td>0.893870</td>\n    </tr>\n    <tr>\n      <th>yes</th>\n      <td>0.273049</td>\n      <td>5087</td>\n      <td>0.003081</td>\n      <td>1.011412</td>\n    </tr>\n  </tbody>\n</table>\n</div>"
     },
     "metadata": {},
     "output_type": "display_data"
    },
    {
     "name": "stdout",
     "output_type": "stream",
     "text": [
      "\n"
     ]
    },
    {
     "data": {
      "text/plain": "                      mean  count      diff      risk\nmultiplelines                                        \nno                0.257407   2700 -0.012561  0.953474\nno_phone_service  0.241316    547 -0.028652  0.893870\nyes               0.290742   2387  0.020773  1.076948",
      "text/html": "<div>\n<style scoped>\n    .dataframe tbody tr th:only-of-type {\n        vertical-align: middle;\n    }\n\n    .dataframe tbody tr th {\n        vertical-align: top;\n    }\n\n    .dataframe thead th {\n        text-align: right;\n    }\n</style>\n<table border=\"1\" class=\"dataframe\">\n  <thead>\n    <tr style=\"text-align: right;\">\n      <th></th>\n      <th>mean</th>\n      <th>count</th>\n      <th>diff</th>\n      <th>risk</th>\n    </tr>\n    <tr>\n      <th>multiplelines</th>\n      <th></th>\n      <th></th>\n      <th></th>\n      <th></th>\n    </tr>\n  </thead>\n  <tbody>\n    <tr>\n      <th>no</th>\n      <td>0.257407</td>\n      <td>2700</td>\n      <td>-0.012561</td>\n      <td>0.953474</td>\n    </tr>\n    <tr>\n      <th>no_phone_service</th>\n      <td>0.241316</td>\n      <td>547</td>\n      <td>-0.028652</td>\n      <td>0.893870</td>\n    </tr>\n    <tr>\n      <th>yes</th>\n      <td>0.290742</td>\n      <td>2387</td>\n      <td>0.020773</td>\n      <td>1.076948</td>\n    </tr>\n  </tbody>\n</table>\n</div>"
     },
     "metadata": {},
     "output_type": "display_data"
    },
    {
     "name": "stdout",
     "output_type": "stream",
     "text": [
      "\n"
     ]
    },
    {
     "data": {
      "text/plain": "                     mean  count      diff      risk\ninternetservice                                     \ndsl              0.192347   1934 -0.077621  0.712482\nfiber_optic      0.425171   2479  0.155203  1.574895\nno               0.077805   1221 -0.192163  0.288201",
      "text/html": "<div>\n<style scoped>\n    .dataframe tbody tr th:only-of-type {\n        vertical-align: middle;\n    }\n\n    .dataframe tbody tr th {\n        vertical-align: top;\n    }\n\n    .dataframe thead th {\n        text-align: right;\n    }\n</style>\n<table border=\"1\" class=\"dataframe\">\n  <thead>\n    <tr style=\"text-align: right;\">\n      <th></th>\n      <th>mean</th>\n      <th>count</th>\n      <th>diff</th>\n      <th>risk</th>\n    </tr>\n    <tr>\n      <th>internetservice</th>\n      <th></th>\n      <th></th>\n      <th></th>\n      <th></th>\n    </tr>\n  </thead>\n  <tbody>\n    <tr>\n      <th>dsl</th>\n      <td>0.192347</td>\n      <td>1934</td>\n      <td>-0.077621</td>\n      <td>0.712482</td>\n    </tr>\n    <tr>\n      <th>fiber_optic</th>\n      <td>0.425171</td>\n      <td>2479</td>\n      <td>0.155203</td>\n      <td>1.574895</td>\n    </tr>\n    <tr>\n      <th>no</th>\n      <td>0.077805</td>\n      <td>1221</td>\n      <td>-0.192163</td>\n      <td>0.288201</td>\n    </tr>\n  </tbody>\n</table>\n</div>"
     },
     "metadata": {},
     "output_type": "display_data"
    },
    {
     "name": "stdout",
     "output_type": "stream",
     "text": [
      "\n"
     ]
    },
    {
     "data": {
      "text/plain": "                         mean  count      diff      risk\nonlinesecurity                                          \nno                   0.420921   2801  0.150953  1.559152\nno_internet_service  0.077805   1221 -0.192163  0.288201\nyes                  0.153226   1612 -0.116742  0.567570",
      "text/html": "<div>\n<style scoped>\n    .dataframe tbody tr th:only-of-type {\n        vertical-align: middle;\n    }\n\n    .dataframe tbody tr th {\n        vertical-align: top;\n    }\n\n    .dataframe thead th {\n        text-align: right;\n    }\n</style>\n<table border=\"1\" class=\"dataframe\">\n  <thead>\n    <tr style=\"text-align: right;\">\n      <th></th>\n      <th>mean</th>\n      <th>count</th>\n      <th>diff</th>\n      <th>risk</th>\n    </tr>\n    <tr>\n      <th>onlinesecurity</th>\n      <th></th>\n      <th></th>\n      <th></th>\n      <th></th>\n    </tr>\n  </thead>\n  <tbody>\n    <tr>\n      <th>no</th>\n      <td>0.420921</td>\n      <td>2801</td>\n      <td>0.150953</td>\n      <td>1.559152</td>\n    </tr>\n    <tr>\n      <th>no_internet_service</th>\n      <td>0.077805</td>\n      <td>1221</td>\n      <td>-0.192163</td>\n      <td>0.288201</td>\n    </tr>\n    <tr>\n      <th>yes</th>\n      <td>0.153226</td>\n      <td>1612</td>\n      <td>-0.116742</td>\n      <td>0.567570</td>\n    </tr>\n  </tbody>\n</table>\n</div>"
     },
     "metadata": {},
     "output_type": "display_data"
    },
    {
     "name": "stdout",
     "output_type": "stream",
     "text": [
      "\n"
     ]
    },
    {
     "data": {
      "text/plain": "                         mean  count      diff      risk\nonlinebackup                                            \nno                   0.404323   2498  0.134355  1.497672\nno_internet_service  0.077805   1221 -0.192163  0.288201\nyes                  0.217232   1915 -0.052736  0.804660",
      "text/html": "<div>\n<style scoped>\n    .dataframe tbody tr th:only-of-type {\n        vertical-align: middle;\n    }\n\n    .dataframe tbody tr th {\n        vertical-align: top;\n    }\n\n    .dataframe thead th {\n        text-align: right;\n    }\n</style>\n<table border=\"1\" class=\"dataframe\">\n  <thead>\n    <tr style=\"text-align: right;\">\n      <th></th>\n      <th>mean</th>\n      <th>count</th>\n      <th>diff</th>\n      <th>risk</th>\n    </tr>\n    <tr>\n      <th>onlinebackup</th>\n      <th></th>\n      <th></th>\n      <th></th>\n      <th></th>\n    </tr>\n  </thead>\n  <tbody>\n    <tr>\n      <th>no</th>\n      <td>0.404323</td>\n      <td>2498</td>\n      <td>0.134355</td>\n      <td>1.497672</td>\n    </tr>\n    <tr>\n      <th>no_internet_service</th>\n      <td>0.077805</td>\n      <td>1221</td>\n      <td>-0.192163</td>\n      <td>0.288201</td>\n    </tr>\n    <tr>\n      <th>yes</th>\n      <td>0.217232</td>\n      <td>1915</td>\n      <td>-0.052736</td>\n      <td>0.804660</td>\n    </tr>\n  </tbody>\n</table>\n</div>"
     },
     "metadata": {},
     "output_type": "display_data"
    },
    {
     "name": "stdout",
     "output_type": "stream",
     "text": [
      "\n"
     ]
    },
    {
     "data": {
      "text/plain": "                         mean  count      diff      risk\ndeviceprotection                                        \nno                   0.395875   2473  0.125907  1.466379\nno_internet_service  0.077805   1221 -0.192163  0.288201\nyes                  0.230412   1940 -0.039556  0.853480",
      "text/html": "<div>\n<style scoped>\n    .dataframe tbody tr th:only-of-type {\n        vertical-align: middle;\n    }\n\n    .dataframe tbody tr th {\n        vertical-align: top;\n    }\n\n    .dataframe thead th {\n        text-align: right;\n    }\n</style>\n<table border=\"1\" class=\"dataframe\">\n  <thead>\n    <tr style=\"text-align: right;\">\n      <th></th>\n      <th>mean</th>\n      <th>count</th>\n      <th>diff</th>\n      <th>risk</th>\n    </tr>\n    <tr>\n      <th>deviceprotection</th>\n      <th></th>\n      <th></th>\n      <th></th>\n      <th></th>\n    </tr>\n  </thead>\n  <tbody>\n    <tr>\n      <th>no</th>\n      <td>0.395875</td>\n      <td>2473</td>\n      <td>0.125907</td>\n      <td>1.466379</td>\n    </tr>\n    <tr>\n      <th>no_internet_service</th>\n      <td>0.077805</td>\n      <td>1221</td>\n      <td>-0.192163</td>\n      <td>0.288201</td>\n    </tr>\n    <tr>\n      <th>yes</th>\n      <td>0.230412</td>\n      <td>1940</td>\n      <td>-0.039556</td>\n      <td>0.853480</td>\n    </tr>\n  </tbody>\n</table>\n</div>"
     },
     "metadata": {},
     "output_type": "display_data"
    },
    {
     "name": "stdout",
     "output_type": "stream",
     "text": [
      "\n"
     ]
    },
    {
     "data": {
      "text/plain": "                         mean  count      diff      risk\ntechsupport                                             \nno                   0.418914   2781  0.148946  1.551717\nno_internet_service  0.077805   1221 -0.192163  0.288201\nyes                  0.159926   1632 -0.110042  0.592390",
      "text/html": "<div>\n<style scoped>\n    .dataframe tbody tr th:only-of-type {\n        vertical-align: middle;\n    }\n\n    .dataframe tbody tr th {\n        vertical-align: top;\n    }\n\n    .dataframe thead th {\n        text-align: right;\n    }\n</style>\n<table border=\"1\" class=\"dataframe\">\n  <thead>\n    <tr style=\"text-align: right;\">\n      <th></th>\n      <th>mean</th>\n      <th>count</th>\n      <th>diff</th>\n      <th>risk</th>\n    </tr>\n    <tr>\n      <th>techsupport</th>\n      <th></th>\n      <th></th>\n      <th></th>\n      <th></th>\n    </tr>\n  </thead>\n  <tbody>\n    <tr>\n      <th>no</th>\n      <td>0.418914</td>\n      <td>2781</td>\n      <td>0.148946</td>\n      <td>1.551717</td>\n    </tr>\n    <tr>\n      <th>no_internet_service</th>\n      <td>0.077805</td>\n      <td>1221</td>\n      <td>-0.192163</td>\n      <td>0.288201</td>\n    </tr>\n    <tr>\n      <th>yes</th>\n      <td>0.159926</td>\n      <td>1632</td>\n      <td>-0.110042</td>\n      <td>0.592390</td>\n    </tr>\n  </tbody>\n</table>\n</div>"
     },
     "metadata": {},
     "output_type": "display_data"
    },
    {
     "name": "stdout",
     "output_type": "stream",
     "text": [
      "\n"
     ]
    },
    {
     "data": {
      "text/plain": "                         mean  count      diff      risk\nstreamingtv                                             \nno                   0.342832   2246  0.072864  1.269897\nno_internet_service  0.077805   1221 -0.192163  0.288201\nyes                  0.302723   2167  0.032755  1.121328",
      "text/html": "<div>\n<style scoped>\n    .dataframe tbody tr th:only-of-type {\n        vertical-align: middle;\n    }\n\n    .dataframe tbody tr th {\n        vertical-align: top;\n    }\n\n    .dataframe thead th {\n        text-align: right;\n    }\n</style>\n<table border=\"1\" class=\"dataframe\">\n  <thead>\n    <tr style=\"text-align: right;\">\n      <th></th>\n      <th>mean</th>\n      <th>count</th>\n      <th>diff</th>\n      <th>risk</th>\n    </tr>\n    <tr>\n      <th>streamingtv</th>\n      <th></th>\n      <th></th>\n      <th></th>\n      <th></th>\n    </tr>\n  </thead>\n  <tbody>\n    <tr>\n      <th>no</th>\n      <td>0.342832</td>\n      <td>2246</td>\n      <td>0.072864</td>\n      <td>1.269897</td>\n    </tr>\n    <tr>\n      <th>no_internet_service</th>\n      <td>0.077805</td>\n      <td>1221</td>\n      <td>-0.192163</td>\n      <td>0.288201</td>\n    </tr>\n    <tr>\n      <th>yes</th>\n      <td>0.302723</td>\n      <td>2167</td>\n      <td>0.032755</td>\n      <td>1.121328</td>\n    </tr>\n  </tbody>\n</table>\n</div>"
     },
     "metadata": {},
     "output_type": "display_data"
    },
    {
     "name": "stdout",
     "output_type": "stream",
     "text": [
      "\n"
     ]
    },
    {
     "data": {
      "text/plain": "                         mean  count      diff      risk\nstreamingmovies                                         \nno                   0.338906   2213  0.068938  1.255358\nno_internet_service  0.077805   1221 -0.192163  0.288201\nyes                  0.307273   2200  0.037305  1.138182",
      "text/html": "<div>\n<style scoped>\n    .dataframe tbody tr th:only-of-type {\n        vertical-align: middle;\n    }\n\n    .dataframe tbody tr th {\n        vertical-align: top;\n    }\n\n    .dataframe thead th {\n        text-align: right;\n    }\n</style>\n<table border=\"1\" class=\"dataframe\">\n  <thead>\n    <tr style=\"text-align: right;\">\n      <th></th>\n      <th>mean</th>\n      <th>count</th>\n      <th>diff</th>\n      <th>risk</th>\n    </tr>\n    <tr>\n      <th>streamingmovies</th>\n      <th></th>\n      <th></th>\n      <th></th>\n      <th></th>\n    </tr>\n  </thead>\n  <tbody>\n    <tr>\n      <th>no</th>\n      <td>0.338906</td>\n      <td>2213</td>\n      <td>0.068938</td>\n      <td>1.255358</td>\n    </tr>\n    <tr>\n      <th>no_internet_service</th>\n      <td>0.077805</td>\n      <td>1221</td>\n      <td>-0.192163</td>\n      <td>0.288201</td>\n    </tr>\n    <tr>\n      <th>yes</th>\n      <td>0.307273</td>\n      <td>2200</td>\n      <td>0.037305</td>\n      <td>1.138182</td>\n    </tr>\n  </tbody>\n</table>\n</div>"
     },
     "metadata": {},
     "output_type": "display_data"
    },
    {
     "name": "stdout",
     "output_type": "stream",
     "text": [
      "\n"
     ]
    },
    {
     "data": {
      "text/plain": "                    mean  count      diff      risk\ncontract                                           \nmonth-to-month  0.431701   3104  0.161733  1.599082\none_year        0.120573   1186 -0.149395  0.446621\ntwo_year        0.028274   1344 -0.241694  0.104730",
      "text/html": "<div>\n<style scoped>\n    .dataframe tbody tr th:only-of-type {\n        vertical-align: middle;\n    }\n\n    .dataframe tbody tr th {\n        vertical-align: top;\n    }\n\n    .dataframe thead th {\n        text-align: right;\n    }\n</style>\n<table border=\"1\" class=\"dataframe\">\n  <thead>\n    <tr style=\"text-align: right;\">\n      <th></th>\n      <th>mean</th>\n      <th>count</th>\n      <th>diff</th>\n      <th>risk</th>\n    </tr>\n    <tr>\n      <th>contract</th>\n      <th></th>\n      <th></th>\n      <th></th>\n      <th></th>\n    </tr>\n  </thead>\n  <tbody>\n    <tr>\n      <th>month-to-month</th>\n      <td>0.431701</td>\n      <td>3104</td>\n      <td>0.161733</td>\n      <td>1.599082</td>\n    </tr>\n    <tr>\n      <th>one_year</th>\n      <td>0.120573</td>\n      <td>1186</td>\n      <td>-0.149395</td>\n      <td>0.446621</td>\n    </tr>\n    <tr>\n      <th>two_year</th>\n      <td>0.028274</td>\n      <td>1344</td>\n      <td>-0.241694</td>\n      <td>0.104730</td>\n    </tr>\n  </tbody>\n</table>\n</div>"
     },
     "metadata": {},
     "output_type": "display_data"
    },
    {
     "name": "stdout",
     "output_type": "stream",
     "text": [
      "\n"
     ]
    },
    {
     "data": {
      "text/plain": "                      mean  count      diff      risk\npaperlessbilling                                     \nno                0.172071   2313 -0.097897  0.637375\nyes               0.338151   3321  0.068183  1.252560",
      "text/html": "<div>\n<style scoped>\n    .dataframe tbody tr th:only-of-type {\n        vertical-align: middle;\n    }\n\n    .dataframe tbody tr th {\n        vertical-align: top;\n    }\n\n    .dataframe thead th {\n        text-align: right;\n    }\n</style>\n<table border=\"1\" class=\"dataframe\">\n  <thead>\n    <tr style=\"text-align: right;\">\n      <th></th>\n      <th>mean</th>\n      <th>count</th>\n      <th>diff</th>\n      <th>risk</th>\n    </tr>\n    <tr>\n      <th>paperlessbilling</th>\n      <th></th>\n      <th></th>\n      <th></th>\n      <th></th>\n    </tr>\n  </thead>\n  <tbody>\n    <tr>\n      <th>no</th>\n      <td>0.172071</td>\n      <td>2313</td>\n      <td>-0.097897</td>\n      <td>0.637375</td>\n    </tr>\n    <tr>\n      <th>yes</th>\n      <td>0.338151</td>\n      <td>3321</td>\n      <td>0.068183</td>\n      <td>1.252560</td>\n    </tr>\n  </tbody>\n</table>\n</div>"
     },
     "metadata": {},
     "output_type": "display_data"
    },
    {
     "name": "stdout",
     "output_type": "stream",
     "text": [
      "\n"
     ]
    },
    {
     "data": {
      "text/plain": "                               mean  count      diff      risk\npaymentmethod                                                 \nbank_transfer_(automatic)  0.168171   1219 -0.101797  0.622928\ncredit_card_(automatic)    0.164339   1217 -0.105630  0.608733\nelectronic_check           0.455890   1893  0.185922  1.688682\nmailed_check               0.193870   1305 -0.076098  0.718121",
      "text/html": "<div>\n<style scoped>\n    .dataframe tbody tr th:only-of-type {\n        vertical-align: middle;\n    }\n\n    .dataframe tbody tr th {\n        vertical-align: top;\n    }\n\n    .dataframe thead th {\n        text-align: right;\n    }\n</style>\n<table border=\"1\" class=\"dataframe\">\n  <thead>\n    <tr style=\"text-align: right;\">\n      <th></th>\n      <th>mean</th>\n      <th>count</th>\n      <th>diff</th>\n      <th>risk</th>\n    </tr>\n    <tr>\n      <th>paymentmethod</th>\n      <th></th>\n      <th></th>\n      <th></th>\n      <th></th>\n    </tr>\n  </thead>\n  <tbody>\n    <tr>\n      <th>bank_transfer_(automatic)</th>\n      <td>0.168171</td>\n      <td>1219</td>\n      <td>-0.101797</td>\n      <td>0.622928</td>\n    </tr>\n    <tr>\n      <th>credit_card_(automatic)</th>\n      <td>0.164339</td>\n      <td>1217</td>\n      <td>-0.105630</td>\n      <td>0.608733</td>\n    </tr>\n    <tr>\n      <th>electronic_check</th>\n      <td>0.455890</td>\n      <td>1893</td>\n      <td>0.185922</td>\n      <td>1.688682</td>\n    </tr>\n    <tr>\n      <th>mailed_check</th>\n      <td>0.193870</td>\n      <td>1305</td>\n      <td>-0.076098</td>\n      <td>0.718121</td>\n    </tr>\n  </tbody>\n</table>\n</div>"
     },
     "metadata": {},
     "output_type": "display_data"
    },
    {
     "name": "stdout",
     "output_type": "stream",
     "text": [
      "\n"
     ]
    }
   ],
   "source": [
    "for c in categorical:\n",
    "    df_group = df_full_train.groupby(c).churn.agg(['mean', 'count'])\n",
    "    df_group['diff'] = df_group['mean'] - global_churn_rate\n",
    "    df_group['risk'] = df_group['mean'] / global_churn_rate\n",
    "    display(df_group)\n",
    "    print()\n"
   ],
   "metadata": {
    "collapsed": false
   }
  },
  {
   "cell_type": "markdown",
   "source": [
    "# 3.6 Feature importance: Mutual information\n",
    "Mutual information - concept from information theory, it tells us how much we can learn about one variable if we know the value of another\n",
    "\n",
    "* https://en.wikipedia.org/wiki/Mutual_information\n"
   ],
   "metadata": {
    "collapsed": false
   }
  },
  {
   "cell_type": "code",
   "execution_count": 26,
   "outputs": [],
   "source": [
    "from sklearn.metrics import mutual_info_score"
   ],
   "metadata": {
    "collapsed": false
   }
  },
  {
   "cell_type": "code",
   "execution_count": 27,
   "outputs": [
    {
     "data": {
      "text/plain": "0.0983203874041556"
     },
     "execution_count": 27,
     "metadata": {},
     "output_type": "execute_result"
    }
   ],
   "source": [
    "mutual_info_score(df_full_train.churn, df_full_train.contract)\n"
   ],
   "metadata": {
    "collapsed": false
   }
  },
  {
   "cell_type": "code",
   "execution_count": 28,
   "outputs": [
    {
     "data": {
      "text/plain": "0.0001174846211139946"
     },
     "execution_count": 28,
     "metadata": {},
     "output_type": "execute_result"
    }
   ],
   "source": [
    "mutual_info_score(df_full_train.churn, df_full_train.gender)\n"
   ],
   "metadata": {
    "collapsed": false
   }
  },
  {
   "cell_type": "code",
   "execution_count": 29,
   "outputs": [
    {
     "data": {
      "text/plain": "contract            0.098320\nonlinesecurity      0.063085\ntechsupport         0.061032\ninternetservice     0.055868\nonlinebackup        0.046923\ndeviceprotection    0.043453\npaymentmethod       0.043210\nstreamingtv         0.031853\nstreamingmovies     0.031581\npaperlessbilling    0.017589\ndependents          0.012346\npartner             0.009968\nseniorcitizen       0.009410\nmultiplelines       0.000857\nphoneservice        0.000229\ngender              0.000117\ndtype: float64"
     },
     "execution_count": 29,
     "metadata": {},
     "output_type": "execute_result"
    }
   ],
   "source": [
    "def mutual_info_churn_score(series):\n",
    "    return mutual_info_score(series, df_full_train.churn)\n",
    "\n",
    "mi = df_full_train[categorical].apply(mutual_info_churn_score)\n",
    "mi.sort_values(ascending=False)\n"
   ],
   "metadata": {
    "collapsed": false
   }
  },
  {
   "cell_type": "markdown",
   "source": [
    "# 3.7 Feature importance: Correlation\n",
    "How about numerical columns?\n",
    "\n",
    "* Correlation coefficient - https://en.wikipedia.org/wiki/Pearson_correlation_coefficient"
   ],
   "metadata": {
    "collapsed": false
   }
  },
  {
   "cell_type": "code",
   "execution_count": 30,
   "outputs": [
    {
     "data": {
      "text/plain": "tenure           -0.351885\nmonthlycharges    0.196805\ntotalcharges     -0.196353\ndtype: float64"
     },
     "execution_count": 30,
     "metadata": {},
     "output_type": "execute_result"
    }
   ],
   "source": [
    "df_full_train[numerical].corrwith(df_full_train.churn)\n"
   ],
   "metadata": {
    "collapsed": false
   }
  },
  {
   "cell_type": "code",
   "execution_count": 31,
   "outputs": [
    {
     "data": {
      "text/plain": "(0.5953420669577875, 0.3994413407821229, 0.17634908339788277)"
     },
     "execution_count": 31,
     "metadata": {},
     "output_type": "execute_result"
    }
   ],
   "source": [
    "short_stay_churn = df_full_train[df_full_train.tenure <= 2].churn.mean()\n",
    "mid_stay_churn = df_full_train[(df_full_train.tenure > 2) & (df_full_train.tenure <= 12)].churn.mean()\n",
    "long_stay_churn = df_full_train[df_full_train.tenure > 12].churn.mean()\n",
    "short_stay_churn, mid_stay_churn, long_stay_churn\n"
   ],
   "metadata": {
    "collapsed": false
   }
  },
  {
   "cell_type": "code",
   "execution_count": 32,
   "outputs": [
    {
     "data": {
      "text/plain": "(0.08795411089866156, 0.18340943683409436, 0.32499341585462205)"
     },
     "execution_count": 32,
     "metadata": {},
     "output_type": "execute_result"
    }
   ],
   "source": [
    "low_monthly_charges_churn = df_full_train[df_full_train.monthlycharges <= 20].churn.mean()\n",
    "mid_monthly_charges_churn = df_full_train[(df_full_train.monthlycharges > 20) & (df_full_train.monthlycharges <= 50)].churn.mean()\n",
    "high_monthly_charges_churn = df_full_train[df_full_train.monthlycharges > 50].churn.mean()\n",
    "low_monthly_charges_churn, mid_monthly_charges_churn, high_monthly_charges_churn\n"
   ],
   "metadata": {
    "collapsed": false
   }
  },
  {
   "cell_type": "markdown",
   "source": [
    "# 3.8 One-hot encoding\n",
    "* Use Scikit-Learn to encode categorical features"
   ],
   "metadata": {
    "collapsed": false
   }
  },
  {
   "cell_type": "code",
   "execution_count": 33,
   "outputs": [],
   "source": [
    "from sklearn.feature_extraction import DictVectorizer"
   ],
   "metadata": {
    "collapsed": false
   }
  },
  {
   "cell_type": "code",
   "execution_count": 34,
   "outputs": [],
   "source": [
    "train_dicts = df_train[categorical + numerical].to_dict(orient='records')"
   ],
   "metadata": {
    "collapsed": false
   }
  },
  {
   "cell_type": "code",
   "execution_count": 35,
   "outputs": [],
   "source": [
    "dv = DictVectorizer(sparse=False)"
   ],
   "metadata": {
    "collapsed": false
   }
  },
  {
   "cell_type": "code",
   "execution_count": 36,
   "outputs": [],
   "source": [
    "X_train = dv.fit_transform(train_dicts)"
   ],
   "metadata": {
    "collapsed": false
   }
  },
  {
   "cell_type": "code",
   "execution_count": 37,
   "outputs": [],
   "source": [
    "val_dicts = df_val[categorical + numerical].to_dict(orient='records')"
   ],
   "metadata": {
    "collapsed": false
   }
  },
  {
   "cell_type": "code",
   "execution_count": 38,
   "outputs": [],
   "source": [
    "X_val = dv.transform(val_dicts)\n"
   ],
   "metadata": {
    "collapsed": false
   }
  },
  {
   "cell_type": "markdown",
   "source": [
    "# 3.9 Logistic regression\n",
    "* Binary classification\n",
    "* Linear vs logistic regression"
   ],
   "metadata": {
    "collapsed": false
   }
  },
  {
   "cell_type": "code",
   "execution_count": 39,
   "outputs": [],
   "source": [
    "# Converts any number to a value between 0 and 1. We need to convert score to probability.\n",
    "def sigmoid(z):\n",
    "    return 1 / (1 + np.exp(-z))"
   ],
   "metadata": {
    "collapsed": false
   }
  },
  {
   "cell_type": "code",
   "execution_count": 40,
   "outputs": [
    {
     "data": {
      "text/plain": "array([-7.0000000e+00, -6.7200000e+00, -6.4400000e+00, -6.1600000e+00,\n       -5.8800000e+00, -5.6000000e+00, -5.3200000e+00, -5.0400000e+00,\n       -4.7600000e+00, -4.4800000e+00, -4.2000000e+00, -3.9200000e+00,\n       -3.6400000e+00, -3.3600000e+00, -3.0800000e+00, -2.8000000e+00,\n       -2.5200000e+00, -2.2400000e+00, -1.9600000e+00, -1.6800000e+00,\n       -1.4000000e+00, -1.1200000e+00, -8.4000000e-01, -5.6000000e-01,\n       -2.8000000e-01,  8.8817842e-16,  2.8000000e-01,  5.6000000e-01,\n        8.4000000e-01,  1.1200000e+00,  1.4000000e+00,  1.6800000e+00,\n        1.9600000e+00,  2.2400000e+00,  2.5200000e+00,  2.8000000e+00,\n        3.0800000e+00,  3.3600000e+00,  3.6400000e+00,  3.9200000e+00,\n        4.2000000e+00,  4.4800000e+00,  4.7600000e+00,  5.0400000e+00,\n        5.3200000e+00,  5.6000000e+00,  5.8800000e+00,  6.1600000e+00,\n        6.4400000e+00,  6.7200000e+00,  7.0000000e+00])"
     },
     "execution_count": 40,
     "metadata": {},
     "output_type": "execute_result"
    }
   ],
   "source": [
    "z = np.linspace(-7,7,51)\n",
    "z"
   ],
   "metadata": {
    "collapsed": false
   }
  },
  {
   "cell_type": "code",
   "execution_count": 41,
   "outputs": [
    {
     "data": {
      "text/plain": "[<matplotlib.lines.Line2D at 0x28de7d060>]"
     },
     "execution_count": 41,
     "metadata": {},
     "output_type": "execute_result"
    },
    {
     "data": {
      "text/plain": "<Figure size 640x480 with 1 Axes>",
      "image/png": "[encoded data removed]"
     },
     "metadata": {},
     "output_type": "display_data"
    }
   ],
   "source": [
    "plt.plot(z, sigmoid(z))"
   ],
   "metadata": {
    "collapsed": false
   }
  },
  {
   "cell_type": "code",
   "execution_count": 42,
   "outputs": [],
   "source": [
    "def linear_regression(xi):\n",
    "    result = w0\n",
    "\n",
    "    for j in range(len(w)):\n",
    "        result = result + xi[j] * w[j]\n",
    "\n",
    "    return result\n",
    "\n",
    "def logistic_regression(xi):\n",
    "    score = w0\n",
    "\n",
    "    for j in range(len(w)):\n",
    "        score = score + xi[j] * w[j]\n",
    "\n",
    "    return sigmoid(score)\n"
   ],
   "metadata": {
    "collapsed": false
   }
  },
  {
   "cell_type": "markdown",
   "source": [
    "# 3.10 Training logistic regression with Scikit-Learn\n",
    "* Train a model with Scikit-Learn\n",
    "* Apply it to the validation dataset\n",
    "* Calculate the accuracy"
   ],
   "metadata": {
    "collapsed": false
   }
  },
  {
   "cell_type": "code",
   "execution_count": 43,
   "outputs": [],
   "source": [
    "from sklearn.linear_model import LogisticRegression"
   ],
   "metadata": {
    "collapsed": false
   }
  },
  {
   "cell_type": "code",
   "execution_count": 44,
   "outputs": [
    {
     "data": {
      "text/plain": "LogisticRegression()",
      "text/html": "<style>#sk-container-id-1 {color: black;background-color: white;}#sk-container-id-1 pre{padding: 0;}#sk-container-id-1 div.sk-toggleable {background-color: white;}#sk-container-id-1 label.sk-toggleable__label {cursor: pointer;display: block;width: 100%;margin-bottom: 0;padding: 0.3em;box-sizing: border-box;text-align: center;}#sk-container-id-1 label.sk-toggleable__label-arrow:before {content: \"▸\";float: left;margin-right: 0.25em;color: #696969;}#sk-container-id-1 label.sk-toggleable__label-arrow:hover:before {color: black;}#sk-container-id-1 div.sk-estimator:hover label.sk-toggleable__label-arrow:before {color: black;}#sk-container-id-1 div.sk-toggleable__content {max-height: 0;max-width: 0;overflow: hidden;text-align: left;background-color: #f0f8ff;}#sk-container-id-1 div.sk-toggleable__content pre {margin: 0.2em;color: black;border-radius: 0.25em;background-color: #f0f8ff;}#sk-container-id-1 input.sk-toggleable__control:checked~div.sk-toggleable__content {max-height: 200px;max-width: 100%;overflow: auto;}#sk-container-id-1 input.sk-toggleable__control:checked~label.sk-toggleable__label-arrow:before {content: \"▾\";}#sk-container-id-1 div.sk-estimator input.sk-toggleable__control:checked~label.sk-toggleable__label {background-color: #d4ebff;}#sk-container-id-1 div.sk-label input.sk-toggleable__control:checked~label.sk-toggleable__label {background-color: #d4ebff;}#sk-container-id-1 input.sk-hidden--visually {border: 0;clip: rect(1px 1px 1px 1px);clip: rect(1px, 1px, 1px, 1px);height: 1px;margin: -1px;overflow: hidden;padding: 0;position: absolute;width: 1px;}#sk-container-id-1 div.sk-estimator {font-family: monospace;background-color: #f0f8ff;border: 1px dotted black;border-radius: 0.25em;box-sizing: border-box;margin-bottom: 0.5em;}#sk-container-id-1 div.sk-estimator:hover {background-color: #d4ebff;}#sk-container-id-1 div.sk-parallel-item::after {content: \"\";width: 100%;border-bottom: 1px solid gray;flex-grow: 1;}#sk-container-id-1 div.sk-label:hover label.sk-toggleable__label {background-color: #d4ebff;}#sk-container-id-1 div.sk-serial::before {content: \"\";position: absolute;border-left: 1px solid gray;box-sizing: border-box;top: 0;bottom: 0;left: 50%;z-index: 0;}#sk-container-id-1 div.sk-serial {display: flex;flex-direction: column;align-items: center;background-color: white;padding-right: 0.2em;padding-left: 0.2em;position: relative;}#sk-container-id-1 div.sk-item {position: relative;z-index: 1;}#sk-container-id-1 div.sk-parallel {display: flex;align-items: stretch;justify-content: center;background-color: white;position: relative;}#sk-container-id-1 div.sk-item::before, #sk-container-id-1 div.sk-parallel-item::before {content: \"\";position: absolute;border-left: 1px solid gray;box-sizing: border-box;top: 0;bottom: 0;left: 50%;z-index: -1;}#sk-container-id-1 div.sk-parallel-item {display: flex;flex-direction: column;z-index: 1;position: relative;background-color: white;}#sk-container-id-1 div.sk-parallel-item:first-child::after {align-self: flex-end;width: 50%;}#sk-container-id-1 div.sk-parallel-item:last-child::after {align-self: flex-start;width: 50%;}#sk-container-id-1 div.sk-parallel-item:only-child::after {width: 0;}#sk-container-id-1 div.sk-dashed-wrapped {border: 1px dashed gray;margin: 0 0.4em 0.5em 0.4em;box-sizing: border-box;padding-bottom: 0.4em;background-color: white;}#sk-container-id-1 div.sk-label label {font-family: monospace;font-weight: bold;display: inline-block;line-height: 1.2em;}#sk-container-id-1 div.sk-label-container {text-align: center;}#sk-container-id-1 div.sk-container {/* jupyter's `normalize.less` sets `[hidden] { display: none; }` but bootstrap.min.css set `[hidden] { display: none !important; }` so we also need the `!important` here to be able to override the default hidden behavior on the sphinx rendered scikit-learn.org. See: https://github.com/scikit-learn/scikit-learn/issues/21755 */display: inline-block !important;position: relative;}#sk-container-id-1 div.sk-text-repr-fallback {display: none;}</style><div id=\"sk-container-id-1\" class=\"sk-top-container\"><div class=\"sk-text-repr-fallback\"><pre>LogisticRegression()</pre><b>In a Jupyter environment, please rerun this cell to show the HTML representation or trust the notebook. <br />On GitHub, the HTML representation is unable to render, please try loading this page with nbviewer.org.</b></div><div class=\"sk-container\" hidden><div class=\"sk-item\"><div class=\"sk-estimator sk-toggleable\"><input class=\"sk-toggleable__control sk-hidden--visually\" id=\"sk-estimator-id-1\" type=\"checkbox\" checked><label for=\"sk-estimator-id-1\" class=\"sk-toggleable__label sk-toggleable__label-arrow\">LogisticRegression</label><div class=\"sk-toggleable__content\"><pre>LogisticRegression()</pre></div></div></div></div></div>"
     },
     "execution_count": 44,
     "metadata": {},
     "output_type": "execute_result"
    }
   ],
   "source": [
    "model = LogisticRegression()\n",
    "model.fit(X_train, y_train)"
   ],
   "metadata": {
    "collapsed": false
   }
  },
  {
   "cell_type": "code",
   "execution_count": 45,
   "outputs": [
    {
     "data": {
      "text/plain": "-0.10903521054753158"
     },
     "execution_count": 45,
     "metadata": {},
     "output_type": "execute_result"
    }
   ],
   "source": [
    "# Intercept / Bias\n",
    "model.intercept_[0]"
   ],
   "metadata": {
    "collapsed": false
   }
  },
  {
   "cell_type": "code",
   "execution_count": 46,
   "outputs": [
    {
     "data": {
      "text/plain": "array([ 0.475, -0.175, -0.408, -0.03 , -0.078,  0.063, -0.089, -0.081,\n       -0.034, -0.073, -0.335,  0.316, -0.089,  0.004, -0.258,  0.141,\n        0.009,  0.063, -0.089, -0.081,  0.266, -0.089, -0.284, -0.231,\n        0.124, -0.166,  0.058, -0.087, -0.032,  0.07 , -0.059,  0.141,\n       -0.249,  0.215, -0.12 , -0.089,  0.102, -0.071, -0.089,  0.052,\n        0.213, -0.089, -0.232, -0.07 ,  0.   ])"
     },
     "execution_count": 46,
     "metadata": {},
     "output_type": "execute_result"
    }
   ],
   "source": [
    "# Coeff / Weights\n",
    "model.coef_[0].round(3)\n"
   ],
   "metadata": {
    "collapsed": false
   }
  },
  {
   "cell_type": "code",
   "execution_count": 47,
   "outputs": [],
   "source": [
    "y_pred = model.predict_proba(X_val)[:, 1]\n"
   ],
   "metadata": {
    "collapsed": false
   }
  },
  {
   "cell_type": "code",
   "execution_count": 48,
   "outputs": [],
   "source": [
    "churn_decision = (y_pred >= 0.5)\n"
   ],
   "metadata": {
    "collapsed": false
   }
  },
  {
   "cell_type": "code",
   "execution_count": 49,
   "outputs": [
    {
     "data": {
      "text/plain": "0.8034066713981547"
     },
     "execution_count": 49,
     "metadata": {},
     "output_type": "execute_result"
    }
   ],
   "source": [
    "(y_val == churn_decision).mean()\n"
   ],
   "metadata": {
    "collapsed": false
   }
  },
  {
   "cell_type": "code",
   "execution_count": 50,
   "outputs": [
    {
     "data": {
      "text/plain": "      probability  prediction  actual\n0        0.008997           0       0\n1        0.204519           0       0\n2        0.212217           0       0\n3        0.543044           1       1\n4        0.213780           0       0\n...           ...         ...     ...\n1404     0.313678           0       0\n1405     0.039360           0       1\n1406     0.136391           0       0\n1407     0.799766           1       1\n1408     0.837403           1       1\n\n[1409 rows x 3 columns]",
      "text/html": "<div>\n<style scoped>\n    .dataframe tbody tr th:only-of-type {\n        vertical-align: middle;\n    }\n\n    .dataframe tbody tr th {\n        vertical-align: top;\n    }\n\n    .dataframe thead th {\n        text-align: right;\n    }\n</style>\n<table border=\"1\" class=\"dataframe\">\n  <thead>\n    <tr style=\"text-align: right;\">\n      <th></th>\n      <th>probability</th>\n      <th>prediction</th>\n      <th>actual</th>\n    </tr>\n  </thead>\n  <tbody>\n    <tr>\n      <th>0</th>\n      <td>0.008997</td>\n      <td>0</td>\n      <td>0</td>\n    </tr>\n    <tr>\n      <th>1</th>\n      <td>0.204519</td>\n      <td>0</td>\n      <td>0</td>\n    </tr>\n    <tr>\n      <th>2</th>\n      <td>0.212217</td>\n      <td>0</td>\n      <td>0</td>\n    </tr>\n    <tr>\n      <th>3</th>\n      <td>0.543044</td>\n      <td>1</td>\n      <td>1</td>\n    </tr>\n    <tr>\n      <th>4</th>\n      <td>0.213780</td>\n      <td>0</td>\n      <td>0</td>\n    </tr>\n    <tr>\n      <th>...</th>\n      <td>...</td>\n      <td>...</td>\n      <td>...</td>\n    </tr>\n    <tr>\n      <th>1404</th>\n      <td>0.313678</td>\n      <td>0</td>\n      <td>0</td>\n    </tr>\n    <tr>\n      <th>1405</th>\n      <td>0.039360</td>\n      <td>0</td>\n      <td>1</td>\n    </tr>\n    <tr>\n      <th>1406</th>\n      <td>0.136391</td>\n      <td>0</td>\n      <td>0</td>\n    </tr>\n    <tr>\n      <th>1407</th>\n      <td>0.799766</td>\n      <td>1</td>\n      <td>1</td>\n    </tr>\n    <tr>\n      <th>1408</th>\n      <td>0.837403</td>\n      <td>1</td>\n      <td>1</td>\n    </tr>\n  </tbody>\n</table>\n<p>1409 rows × 3 columns</p>\n</div>"
     },
     "execution_count": 50,
     "metadata": {},
     "output_type": "execute_result"
    }
   ],
   "source": [
    "df_pred = pd.DataFrame()\n",
    "df_pred['probability'] = y_pred\n",
    "df_pred['prediction'] = churn_decision.astype('int')\n",
    "df_pred['actual'] = y_val\n",
    "df_pred\n"
   ],
   "metadata": {
    "collapsed": false
   }
  },
  {
   "cell_type": "code",
   "execution_count": 51,
   "outputs": [
    {
     "data": {
      "text/plain": "0.8034066713981547"
     },
     "execution_count": 51,
     "metadata": {},
     "output_type": "execute_result"
    }
   ],
   "source": [
    "df_pred['correct'] = df_pred['prediction'] == df_pred['actual']\n",
    "df_pred.correct.mean()\n"
   ],
   "metadata": {
    "collapsed": false
   }
  },
  {
   "cell_type": "markdown",
   "source": [
    "# 3.11 Model interpretation\n",
    "* Look at the coefficients\n",
    "* Train a smaller model with fewer features"
   ],
   "metadata": {
    "collapsed": false
   }
  },
  {
   "cell_type": "code",
   "execution_count": 52,
   "outputs": [
    {
     "data": {
      "text/plain": "{'contract=month-to-month': 0.475,\n 'contract=one_year': -0.175,\n 'contract=two_year': -0.408,\n 'dependents=no': -0.03,\n 'dependents=yes': -0.078,\n 'deviceprotection=no': 0.063,\n 'deviceprotection=no_internet_service': -0.089,\n 'deviceprotection=yes': -0.081,\n 'gender=female': -0.034,\n 'gender=male': -0.073,\n 'internetservice=dsl': -0.335,\n 'internetservice=fiber_optic': 0.316,\n 'internetservice=no': -0.089,\n 'monthlycharges': 0.004,\n 'multiplelines=no': -0.258,\n 'multiplelines=no_phone_service': 0.141,\n 'multiplelines=yes': 0.009,\n 'onlinebackup=no': 0.063,\n 'onlinebackup=no_internet_service': -0.089,\n 'onlinebackup=yes': -0.081,\n 'onlinesecurity=no': 0.266,\n 'onlinesecurity=no_internet_service': -0.089,\n 'onlinesecurity=yes': -0.284,\n 'paperlessbilling=no': -0.231,\n 'paperlessbilling=yes': 0.124,\n 'partner=no': -0.166,\n 'partner=yes': 0.058,\n 'paymentmethod=bank_transfer_(automatic)': -0.087,\n 'paymentmethod=credit_card_(automatic)': -0.032,\n 'paymentmethod=electronic_check': 0.07,\n 'paymentmethod=mailed_check': -0.059,\n 'phoneservice=no': 0.141,\n 'phoneservice=yes': -0.249,\n 'seniorcitizen': 0.215,\n 'streamingmovies=no': -0.12,\n 'streamingmovies=no_internet_service': -0.089,\n 'streamingmovies=yes': 0.102,\n 'streamingtv=no': -0.071,\n 'streamingtv=no_internet_service': -0.089,\n 'streamingtv=yes': 0.052,\n 'techsupport=no': 0.213,\n 'techsupport=no_internet_service': -0.089,\n 'techsupport=yes': -0.232,\n 'tenure': -0.07,\n 'totalcharges': 0.0}"
     },
     "execution_count": 52,
     "metadata": {},
     "output_type": "execute_result"
    }
   ],
   "source": [
    "dict(zip(dv.get_feature_names_out(), model.coef_[0].round(3)))\n"
   ],
   "metadata": {
    "collapsed": false
   }
  },
  {
   "cell_type": "code",
   "execution_count": 53,
   "outputs": [],
   "source": [
    "small = ['contract', 'tenure', 'monthlycharges']"
   ],
   "metadata": {
    "collapsed": false
   }
  },
  {
   "cell_type": "code",
   "execution_count": 54,
   "outputs": [],
   "source": [
    "dicts_train_small = df_train[small].to_dict(orient='records')\n",
    "dicts_val_small = df_val[small].to_dict(orient='records')\n"
   ],
   "metadata": {
    "collapsed": false
   }
  },
  {
   "cell_type": "code",
   "execution_count": 55,
   "outputs": [
    {
     "data": {
      "text/plain": "DictVectorizer(sparse=False)",
      "text/html": "<style>#sk-container-id-2 {color: black;background-color: white;}#sk-container-id-2 pre{padding: 0;}#sk-container-id-2 div.sk-toggleable {background-color: white;}#sk-container-id-2 label.sk-toggleable__label {cursor: pointer;display: block;width: 100%;margin-bottom: 0;padding: 0.3em;box-sizing: border-box;text-align: center;}#sk-container-id-2 label.sk-toggleable__label-arrow:before {content: \"▸\";float: left;margin-right: 0.25em;color: #696969;}#sk-container-id-2 label.sk-toggleable__label-arrow:hover:before {color: black;}#sk-container-id-2 div.sk-estimator:hover label.sk-toggleable__label-arrow:before {color: black;}#sk-container-id-2 div.sk-toggleable__content {max-height: 0;max-width: 0;overflow: hidden;text-align: left;background-color: #f0f8ff;}#sk-container-id-2 div.sk-toggleable__content pre {margin: 0.2em;color: black;border-radius: 0.25em;background-color: #f0f8ff;}#sk-container-id-2 input.sk-toggleable__control:checked~div.sk-toggleable__content {max-height: 200px;max-width: 100%;overflow: auto;}#sk-container-id-2 input.sk-toggleable__control:checked~label.sk-toggleable__label-arrow:before {content: \"▾\";}#sk-container-id-2 div.sk-estimator input.sk-toggleable__control:checked~label.sk-toggleable__label {background-color: #d4ebff;}#sk-container-id-2 div.sk-label input.sk-toggleable__control:checked~label.sk-toggleable__label {background-color: #d4ebff;}#sk-container-id-2 input.sk-hidden--visually {border: 0;clip: rect(1px 1px 1px 1px);clip: rect(1px, 1px, 1px, 1px);height: 1px;margin: -1px;overflow: hidden;padding: 0;position: absolute;width: 1px;}#sk-container-id-2 div.sk-estimator {font-family: monospace;background-color: #f0f8ff;border: 1px dotted black;border-radius: 0.25em;box-sizing: border-box;margin-bottom: 0.5em;}#sk-container-id-2 div.sk-estimator:hover {background-color: #d4ebff;}#sk-container-id-2 div.sk-parallel-item::after {content: \"\";width: 100%;border-bottom: 1px solid gray;flex-grow: 1;}#sk-container-id-2 div.sk-label:hover label.sk-toggleable__label {background-color: #d4ebff;}#sk-container-id-2 div.sk-serial::before {content: \"\";position: absolute;border-left: 1px solid gray;box-sizing: border-box;top: 0;bottom: 0;left: 50%;z-index: 0;}#sk-container-id-2 div.sk-serial {display: flex;flex-direction: column;align-items: center;background-color: white;padding-right: 0.2em;padding-left: 0.2em;position: relative;}#sk-container-id-2 div.sk-item {position: relative;z-index: 1;}#sk-container-id-2 div.sk-parallel {display: flex;align-items: stretch;justify-content: center;background-color: white;position: relative;}#sk-container-id-2 div.sk-item::before, #sk-container-id-2 div.sk-parallel-item::before {content: \"\";position: absolute;border-left: 1px solid gray;box-sizing: border-box;top: 0;bottom: 0;left: 50%;z-index: -1;}#sk-container-id-2 div.sk-parallel-item {display: flex;flex-direction: column;z-index: 1;position: relative;background-color: white;}#sk-container-id-2 div.sk-parallel-item:first-child::after {align-self: flex-end;width: 50%;}#sk-container-id-2 div.sk-parallel-item:last-child::after {align-self: flex-start;width: 50%;}#sk-container-id-2 div.sk-parallel-item:only-child::after {width: 0;}#sk-container-id-2 div.sk-dashed-wrapped {border: 1px dashed gray;margin: 0 0.4em 0.5em 0.4em;box-sizing: border-box;padding-bottom: 0.4em;background-color: white;}#sk-container-id-2 div.sk-label label {font-family: monospace;font-weight: bold;display: inline-block;line-height: 1.2em;}#sk-container-id-2 div.sk-label-container {text-align: center;}#sk-container-id-2 div.sk-container {/* jupyter's `normalize.less` sets `[hidden] { display: none; }` but bootstrap.min.css set `[hidden] { display: none !important; }` so we also need the `!important` here to be able to override the default hidden behavior on the sphinx rendered scikit-learn.org. See: https://github.com/scikit-learn/scikit-learn/issues/21755 */display: inline-block !important;position: relative;}#sk-container-id-2 div.sk-text-repr-fallback {display: none;}</style><div id=\"sk-container-id-2\" class=\"sk-top-container\"><div class=\"sk-text-repr-fallback\"><pre>DictVectorizer(sparse=False)</pre><b>In a Jupyter environment, please rerun this cell to show the HTML representation or trust the notebook. <br />On GitHub, the HTML representation is unable to render, please try loading this page with nbviewer.org.</b></div><div class=\"sk-container\" hidden><div class=\"sk-item\"><div class=\"sk-estimator sk-toggleable\"><input class=\"sk-toggleable__control sk-hidden--visually\" id=\"sk-estimator-id-2\" type=\"checkbox\" checked><label for=\"sk-estimator-id-2\" class=\"sk-toggleable__label sk-toggleable__label-arrow\">DictVectorizer</label><div class=\"sk-toggleable__content\"><pre>DictVectorizer(sparse=False)</pre></div></div></div></div></div>"
     },
     "execution_count": 55,
     "metadata": {},
     "output_type": "execute_result"
    }
   ],
   "source": [
    "dv_small = DictVectorizer(sparse=False)\n",
    "dv_small.fit(dicts_train_small)"
   ],
   "metadata": {
    "collapsed": false
   }
  },
  {
   "cell_type": "code",
   "execution_count": 56,
   "outputs": [
    {
     "data": {
      "text/plain": "array(['contract=month-to-month', 'contract=one_year',\n       'contract=two_year', 'monthlycharges', 'tenure'], dtype=object)"
     },
     "execution_count": 56,
     "metadata": {},
     "output_type": "execute_result"
    }
   ],
   "source": [
    "dv_small.get_feature_names_out()\n"
   ],
   "metadata": {
    "collapsed": false
   }
  },
  {
   "cell_type": "code",
   "execution_count": 57,
   "outputs": [],
   "source": [
    "X_train_small = dv_small.transform(dicts_train_small)\n"
   ],
   "metadata": {
    "collapsed": false
   }
  },
  {
   "cell_type": "code",
   "execution_count": 58,
   "outputs": [
    {
     "data": {
      "text/plain": "LogisticRegression()",
      "text/html": "<style>#sk-container-id-3 {color: black;background-color: white;}#sk-container-id-3 pre{padding: 0;}#sk-container-id-3 div.sk-toggleable {background-color: white;}#sk-container-id-3 label.sk-toggleable__label {cursor: pointer;display: block;width: 100%;margin-bottom: 0;padding: 0.3em;box-sizing: border-box;text-align: center;}#sk-container-id-3 label.sk-toggleable__label-arrow:before {content: \"▸\";float: left;margin-right: 0.25em;color: #696969;}#sk-container-id-3 label.sk-toggleable__label-arrow:hover:before {color: black;}#sk-container-id-3 div.sk-estimator:hover label.sk-toggleable__label-arrow:before {color: black;}#sk-container-id-3 div.sk-toggleable__content {max-height: 0;max-width: 0;overflow: hidden;text-align: left;background-color: #f0f8ff;}#sk-container-id-3 div.sk-toggleable__content pre {margin: 0.2em;color: black;border-radius: 0.25em;background-color: #f0f8ff;}#sk-container-id-3 input.sk-toggleable__control:checked~div.sk-toggleable__content {max-height: 200px;max-width: 100%;overflow: auto;}#sk-container-id-3 input.sk-toggleable__control:checked~label.sk-toggleable__label-arrow:before {content: \"▾\";}#sk-container-id-3 div.sk-estimator input.sk-toggleable__control:checked~label.sk-toggleable__label {background-color: #d4ebff;}#sk-container-id-3 div.sk-label input.sk-toggleable__control:checked~label.sk-toggleable__label {background-color: #d4ebff;}#sk-container-id-3 input.sk-hidden--visually {border: 0;clip: rect(1px 1px 1px 1px);clip: rect(1px, 1px, 1px, 1px);height: 1px;margin: -1px;overflow: hidden;padding: 0;position: absolute;width: 1px;}#sk-container-id-3 div.sk-estimator {font-family: monospace;background-color: #f0f8ff;border: 1px dotted black;border-radius: 0.25em;box-sizing: border-box;margin-bottom: 0.5em;}#sk-container-id-3 div.sk-estimator:hover {background-color: #d4ebff;}#sk-container-id-3 div.sk-parallel-item::after {content: \"\";width: 100%;border-bottom: 1px solid gray;flex-grow: 1;}#sk-container-id-3 div.sk-label:hover label.sk-toggleable__label {background-color: #d4ebff;}#sk-container-id-3 div.sk-serial::before {content: \"\";position: absolute;border-left: 1px solid gray;box-sizing: border-box;top: 0;bottom: 0;left: 50%;z-index: 0;}#sk-container-id-3 div.sk-serial {display: flex;flex-direction: column;align-items: center;background-color: white;padding-right: 0.2em;padding-left: 0.2em;position: relative;}#sk-container-id-3 div.sk-item {position: relative;z-index: 1;}#sk-container-id-3 div.sk-parallel {display: flex;align-items: stretch;justify-content: center;background-color: white;position: relative;}#sk-container-id-3 div.sk-item::before, #sk-container-id-3 div.sk-parallel-item::before {content: \"\";position: absolute;border-left: 1px solid gray;box-sizing: border-box;top: 0;bottom: 0;left: 50%;z-index: -1;}#sk-container-id-3 div.sk-parallel-item {display: flex;flex-direction: column;z-index: 1;position: relative;background-color: white;}#sk-container-id-3 div.sk-parallel-item:first-child::after {align-self: flex-end;width: 50%;}#sk-container-id-3 div.sk-parallel-item:last-child::after {align-self: flex-start;width: 50%;}#sk-container-id-3 div.sk-parallel-item:only-child::after {width: 0;}#sk-container-id-3 div.sk-dashed-wrapped {border: 1px dashed gray;margin: 0 0.4em 0.5em 0.4em;box-sizing: border-box;padding-bottom: 0.4em;background-color: white;}#sk-container-id-3 div.sk-label label {font-family: monospace;font-weight: bold;display: inline-block;line-height: 1.2em;}#sk-container-id-3 div.sk-label-container {text-align: center;}#sk-container-id-3 div.sk-container {/* jupyter's `normalize.less` sets `[hidden] { display: none; }` but bootstrap.min.css set `[hidden] { display: none !important; }` so we also need the `!important` here to be able to override the default hidden behavior on the sphinx rendered scikit-learn.org. See: https://github.com/scikit-learn/scikit-learn/issues/21755 */display: inline-block !important;position: relative;}#sk-container-id-3 div.sk-text-repr-fallback {display: none;}</style><div id=\"sk-container-id-3\" class=\"sk-top-container\"><div class=\"sk-text-repr-fallback\"><pre>LogisticRegression()</pre><b>In a Jupyter environment, please rerun this cell to show the HTML representation or trust the notebook. <br />On GitHub, the HTML representation is unable to render, please try loading this page with nbviewer.org.</b></div><div class=\"sk-container\" hidden><div class=\"sk-item\"><div class=\"sk-estimator sk-toggleable\"><input class=\"sk-toggleable__control sk-hidden--visually\" id=\"sk-estimator-id-3\" type=\"checkbox\" checked><label for=\"sk-estimator-id-3\" class=\"sk-toggleable__label sk-toggleable__label-arrow\">LogisticRegression</label><div class=\"sk-toggleable__content\"><pre>LogisticRegression()</pre></div></div></div></div></div>"
     },
     "execution_count": 58,
     "metadata": {},
     "output_type": "execute_result"
    }
   ],
   "source": [
    "model_small = LogisticRegression()\n",
    "model_small.fit(X_train_small, y_train)\n"
   ],
   "metadata": {
    "collapsed": false
   }
  },
  {
   "cell_type": "code",
   "execution_count": 59,
   "outputs": [
    {
     "data": {
      "text/plain": "-2.476775660276911"
     },
     "execution_count": 59,
     "metadata": {},
     "output_type": "execute_result"
    }
   ],
   "source": [
    "w0 = model_small.intercept_[0]\n",
    "w0"
   ],
   "metadata": {
    "collapsed": false
   }
  },
  {
   "cell_type": "code",
   "execution_count": 60,
   "outputs": [
    {
     "data": {
      "text/plain": "array([ 0.97 , -0.025, -0.949,  0.027, -0.036])"
     },
     "execution_count": 60,
     "metadata": {},
     "output_type": "execute_result"
    }
   ],
   "source": [
    "w = model_small.coef_[0]\n",
    "w.round(3)\n"
   ],
   "metadata": {
    "collapsed": false
   }
  },
  {
   "cell_type": "code",
   "execution_count": 61,
   "outputs": [
    {
     "data": {
      "text/plain": "{'contract=month-to-month': 0.97,\n 'contract=one_year': -0.025,\n 'contract=two_year': -0.949,\n 'monthlycharges': 0.027,\n 'tenure': -0.036}"
     },
     "execution_count": 61,
     "metadata": {},
     "output_type": "execute_result"
    }
   ],
   "source": [
    "dict(zip(dv_small.get_feature_names_out(), w.round(3)))\n"
   ],
   "metadata": {
    "collapsed": false
   }
  },
  {
   "cell_type": "code",
   "execution_count": 62,
   "outputs": [
    {
     "data": {
      "text/plain": "(-0.3300000000000001, 0.41824062315816374)"
     },
     "execution_count": 62,
     "metadata": {},
     "output_type": "execute_result"
    }
   ],
   "source": [
    "# A client with a monthly contract that pays 50 and has been a client for the last 5 months\n",
    "score_1 = -2.47 + 0.97 + 50 * 0.027 + 5 * (-0.036)\n",
    "score_1, sigmoid(score_1)\n",
    "# 0.41 -> not churning"
   ],
   "metadata": {
    "collapsed": false
   }
  },
  {
   "cell_type": "code",
   "execution_count": 63,
   "outputs": [
    {
     "data": {
      "text/plain": "(0.08399999999999966, 0.5209876607065322)"
     },
     "execution_count": 63,
     "metadata": {},
     "output_type": "execute_result"
    }
   ],
   "source": [
    "# A client with a monthly contract that pays 60 and has been a client for the last month\n",
    "score_2 = -2.47 + 0.97 + 60 * 0.027 + 1 * (-0.036)\n",
    "score_2, sigmoid(score_2)\n",
    "# 0.52 -> churning\n"
   ],
   "metadata": {
    "collapsed": false
   }
  },
  {
   "cell_type": "markdown",
   "source": [
    "# 3.12 Using the model"
   ],
   "metadata": {
    "collapsed": false
   }
  },
  {
   "cell_type": "code",
   "execution_count": 64,
   "outputs": [],
   "source": [
    "dicts_full_train = df_full_train[categorical + numerical].to_dict(orient='records')\n"
   ],
   "metadata": {
    "collapsed": false
   }
  },
  {
   "cell_type": "code",
   "execution_count": 65,
   "outputs": [],
   "source": [
    "dv = DictVectorizer(sparse=False)\n",
    "X_full_train = dv.fit_transform(dicts_full_train)\n"
   ],
   "metadata": {
    "collapsed": false
   }
  },
  {
   "cell_type": "code",
   "execution_count": 66,
   "outputs": [],
   "source": [
    "y_full_train = df_full_train.churn.values\n"
   ],
   "metadata": {
    "collapsed": false
   }
  },
  {
   "cell_type": "code",
   "execution_count": 67,
   "outputs": [
    {
     "data": {
      "text/plain": "LogisticRegression()",
      "text/html": "<style>#sk-container-id-4 {color: black;background-color: white;}#sk-container-id-4 pre{padding: 0;}#sk-container-id-4 div.sk-toggleable {background-color: white;}#sk-container-id-4 label.sk-toggleable__label {cursor: pointer;display: block;width: 100%;margin-bottom: 0;padding: 0.3em;box-sizing: border-box;text-align: center;}#sk-container-id-4 label.sk-toggleable__label-arrow:before {content: \"▸\";float: left;margin-right: 0.25em;color: #696969;}#sk-container-id-4 label.sk-toggleable__label-arrow:hover:before {color: black;}#sk-container-id-4 div.sk-estimator:hover label.sk-toggleable__label-arrow:before {color: black;}#sk-container-id-4 div.sk-toggleable__content {max-height: 0;max-width: 0;overflow: hidden;text-align: left;background-color: #f0f8ff;}#sk-container-id-4 div.sk-toggleable__content pre {margin: 0.2em;color: black;border-radius: 0.25em;background-color: #f0f8ff;}#sk-container-id-4 input.sk-toggleable__control:checked~div.sk-toggleable__content {max-height: 200px;max-width: 100%;overflow: auto;}#sk-container-id-4 input.sk-toggleable__control:checked~label.sk-toggleable__label-arrow:before {content: \"▾\";}#sk-container-id-4 div.sk-estimator input.sk-toggleable__control:checked~label.sk-toggleable__label {background-color: #d4ebff;}#sk-container-id-4 div.sk-label input.sk-toggleable__control:checked~label.sk-toggleable__label {background-color: #d4ebff;}#sk-container-id-4 input.sk-hidden--visually {border: 0;clip: rect(1px 1px 1px 1px);clip: rect(1px, 1px, 1px, 1px);height: 1px;margin: -1px;overflow: hidden;padding: 0;position: absolute;width: 1px;}#sk-container-id-4 div.sk-estimator {font-family: monospace;background-color: #f0f8ff;border: 1px dotted black;border-radius: 0.25em;box-sizing: border-box;margin-bottom: 0.5em;}#sk-container-id-4 div.sk-estimator:hover {background-color: #d4ebff;}#sk-container-id-4 div.sk-parallel-item::after {content: \"\";width: 100%;border-bottom: 1px solid gray;flex-grow: 1;}#sk-container-id-4 div.sk-label:hover label.sk-toggleable__label {background-color: #d4ebff;}#sk-container-id-4 div.sk-serial::before {content: \"\";position: absolute;border-left: 1px solid gray;box-sizing: border-box;top: 0;bottom: 0;left: 50%;z-index: 0;}#sk-container-id-4 div.sk-serial {display: flex;flex-direction: column;align-items: center;background-color: white;padding-right: 0.2em;padding-left: 0.2em;position: relative;}#sk-container-id-4 div.sk-item {position: relative;z-index: 1;}#sk-container-id-4 div.sk-parallel {display: flex;align-items: stretch;justify-content: center;background-color: white;position: relative;}#sk-container-id-4 div.sk-item::before, #sk-container-id-4 div.sk-parallel-item::before {content: \"\";position: absolute;border-left: 1px solid gray;box-sizing: border-box;top: 0;bottom: 0;left: 50%;z-index: -1;}#sk-container-id-4 div.sk-parallel-item {display: flex;flex-direction: column;z-index: 1;position: relative;background-color: white;}#sk-container-id-4 div.sk-parallel-item:first-child::after {align-self: flex-end;width: 50%;}#sk-container-id-4 div.sk-parallel-item:last-child::after {align-self: flex-start;width: 50%;}#sk-container-id-4 div.sk-parallel-item:only-child::after {width: 0;}#sk-container-id-4 div.sk-dashed-wrapped {border: 1px dashed gray;margin: 0 0.4em 0.5em 0.4em;box-sizing: border-box;padding-bottom: 0.4em;background-color: white;}#sk-container-id-4 div.sk-label label {font-family: monospace;font-weight: bold;display: inline-block;line-height: 1.2em;}#sk-container-id-4 div.sk-label-container {text-align: center;}#sk-container-id-4 div.sk-container {/* jupyter's `normalize.less` sets `[hidden] { display: none; }` but bootstrap.min.css set `[hidden] { display: none !important; }` so we also need the `!important` here to be able to override the default hidden behavior on the sphinx rendered scikit-learn.org. See: https://github.com/scikit-learn/scikit-learn/issues/21755 */display: inline-block !important;position: relative;}#sk-container-id-4 div.sk-text-repr-fallback {display: none;}</style><div id=\"sk-container-id-4\" class=\"sk-top-container\"><div class=\"sk-text-repr-fallback\"><pre>LogisticRegression()</pre><b>In a Jupyter environment, please rerun this cell to show the HTML representation or trust the notebook. <br />On GitHub, the HTML representation is unable to render, please try loading this page with nbviewer.org.</b></div><div class=\"sk-container\" hidden><div class=\"sk-item\"><div class=\"sk-estimator sk-toggleable\"><input class=\"sk-toggleable__control sk-hidden--visually\" id=\"sk-estimator-id-4\" type=\"checkbox\" checked><label for=\"sk-estimator-id-4\" class=\"sk-toggleable__label sk-toggleable__label-arrow\">LogisticRegression</label><div class=\"sk-toggleable__content\"><pre>LogisticRegression()</pre></div></div></div></div></div>"
     },
     "execution_count": 67,
     "metadata": {},
     "output_type": "execute_result"
    }
   ],
   "source": [
    "model = LogisticRegression()\n",
    "model.fit(X_full_train, y_full_train)\n"
   ],
   "metadata": {
    "collapsed": false
   }
  },
  {
   "cell_type": "code",
   "execution_count": 68,
   "outputs": [],
   "source": [
    "dicts_test = df_test[categorical + numerical].to_dict(orient='records')\n"
   ],
   "metadata": {
    "collapsed": false
   }
  },
  {
   "cell_type": "code",
   "execution_count": 69,
   "outputs": [],
   "source": [
    "X_test = dv.transform(dicts_test)\n"
   ],
   "metadata": {
    "collapsed": false
   }
  },
  {
   "cell_type": "code",
   "execution_count": 70,
   "outputs": [],
   "source": [
    "y_pred = model.predict_proba(X_test)[:,1]\n"
   ],
   "metadata": {
    "collapsed": false
   }
  },
  {
   "cell_type": "code",
   "execution_count": 71,
   "outputs": [],
   "source": [
    "churn_decision = (y_pred >= 0.5)\n"
   ],
   "metadata": {
    "collapsed": false
   }
  },
  {
   "cell_type": "code",
   "execution_count": 72,
   "outputs": [
    {
     "data": {
      "text/plain": "0.815471965933286"
     },
     "execution_count": 72,
     "metadata": {},
     "output_type": "execute_result"
    }
   ],
   "source": [
    "(churn_decision == y_test).mean()\n"
   ],
   "metadata": {
    "collapsed": false
   }
  },
  {
   "cell_type": "code",
   "execution_count": 73,
   "outputs": [
    {
     "data": {
      "text/plain": "{'seniorcitizen': 1,\n 'gender': 'male',\n 'partner': 'yes',\n 'dependents': 'yes',\n 'phoneservice': 'yes',\n 'multiplelines': 'no',\n 'internetservice': 'fiber_optic',\n 'onlinesecurity': 'no',\n 'onlinebackup': 'yes',\n 'deviceprotection': 'no',\n 'techsupport': 'no',\n 'streamingtv': 'yes',\n 'streamingmovies': 'yes',\n 'contract': 'month-to-month',\n 'paperlessbilling': 'yes',\n 'paymentmethod': 'mailed_check',\n 'tenure': 32,\n 'monthlycharges': 93.95,\n 'totalcharges': 2861.45}"
     },
     "execution_count": 73,
     "metadata": {},
     "output_type": "execute_result"
    }
   ],
   "source": [
    "customer_10 = dicts_test[10]\n",
    "customer_10\n"
   ],
   "metadata": {
    "collapsed": false
   }
  },
  {
   "cell_type": "code",
   "execution_count": 74,
   "outputs": [],
   "source": [
    "X_customer_10 = dv.transform([customer_10])\n"
   ],
   "metadata": {
    "collapsed": false
   }
  },
  {
   "cell_type": "code",
   "execution_count": 75,
   "outputs": [
    {
     "data": {
      "text/plain": "0.4056810977922081"
     },
     "execution_count": 75,
     "metadata": {},
     "output_type": "execute_result"
    }
   ],
   "source": [
    "model.predict_proba(X_customer_10)[0,1]\n"
   ],
   "metadata": {
    "collapsed": false
   }
  },
  {
   "cell_type": "code",
   "execution_count": 76,
   "outputs": [
    {
     "data": {
      "text/plain": "0"
     },
     "execution_count": 76,
     "metadata": {},
     "output_type": "execute_result"
    }
   ],
   "source": [
    "y_test[10]"
   ],
   "metadata": {
    "collapsed": false
   }
  },
  {
   "cell_type": "code",
   "execution_count": 77,
   "outputs": [
    {
     "data": {
      "text/plain": "{'seniorcitizen': 0,\n 'gender': 'female',\n 'partner': 'yes',\n 'dependents': 'yes',\n 'phoneservice': 'yes',\n 'multiplelines': 'yes',\n 'internetservice': 'fiber_optic',\n 'onlinesecurity': 'yes',\n 'onlinebackup': 'no',\n 'deviceprotection': 'yes',\n 'techsupport': 'no',\n 'streamingtv': 'yes',\n 'streamingmovies': 'yes',\n 'contract': 'month-to-month',\n 'paperlessbilling': 'yes',\n 'paymentmethod': 'electronic_check',\n 'tenure': 17,\n 'monthlycharges': 104.2,\n 'totalcharges': 1743.5}"
     },
     "execution_count": 77,
     "metadata": {},
     "output_type": "execute_result"
    }
   ],
   "source": [
    "last_customer = dicts_test[-1]\n",
    "last_customer\n"
   ],
   "metadata": {
    "collapsed": false
   }
  },
  {
   "cell_type": "code",
   "execution_count": 78,
   "outputs": [
    {
     "data": {
      "text/plain": "0.5968852088326024"
     },
     "execution_count": 78,
     "metadata": {},
     "output_type": "execute_result"
    }
   ],
   "source": [
    "X_last_customer = dv.transform([last_customer])\n",
    "model.predict_proba(X_last_customer)[0,1]\n"
   ],
   "metadata": {
    "collapsed": false
   }
  },
  {
   "cell_type": "code",
   "execution_count": 79,
   "outputs": [
    {
     "data": {
      "text/plain": "1"
     },
     "execution_count": 79,
     "metadata": {},
     "output_type": "execute_result"
    }
   ],
   "source": [
    "y_test[-1]\n"
   ],
   "metadata": {
    "collapsed": false
   }
  }
 ],
 "metadata": {
  "kernelspec": {
   "display_name": "Python 3",
   "language": "python",
   "name": "python3"
  },
  "language_info": {
   "codemirror_mode": {
    "name": "ipython",
    "version": 2
   },
   "file_extension": ".py",
   "mimetype": "text/x-python",
   "name": "python",
   "nbconvert_exporter": "python",
   "pygments_lexer": "ipython2",
   "version": "2.7.6"
  }
 },
 "nbformat": 4,
 "nbformat_minor": 0
}
