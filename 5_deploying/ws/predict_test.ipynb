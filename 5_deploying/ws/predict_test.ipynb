{
 "cells": [
  {
   "cell_type": "code",
   "execution_count": 3,
   "metadata": {
    "collapsed": true
   },
   "outputs": [],
   "source": [
    "import requests\n"
   ]
  },
  {
   "cell_type": "code",
   "execution_count": 4,
   "outputs": [],
   "source": [
    "customer = {'customerid': '5868-ytyks',\n",
    "            'gender': 'male',\n",
    "            'seniorcitizen': 0,\n",
    "            'partner': 'no',\n",
    "            'dependents': 'yes',\n",
    "            'tenure': 10,\n",
    "            'phoneservice': 'yes',\n",
    "            'multiplelines': 'no',\n",
    "            'internetservice': 'no',\n",
    "            'onlinesecurity': 'no_internet_service',\n",
    "            'onlinebackup': 'no_internet_service',\n",
    "            'deviceprotection': 'no_internet_service',\n",
    "            'techsupport': 'no_internet_service',\n",
    "            'streamingtv': 'no_internet_service',\n",
    "            'streamingmovies': 'no_internet_service',\n",
    "            'contract': 'month-to-month',\n",
    "            'paperlessbilling': 'yes',\n",
    "            'paymentmethod': 'mailed_check',\n",
    "            'monthlycharges': 20.25,\n",
    "            'totalcharges': 20.25}"
   ],
   "metadata": {
    "collapsed": false
   }
  },
  {
   "cell_type": "code",
   "execution_count": 19,
   "outputs": [
    {
     "data": {
      "text/plain": "{'churn': False, 'churn_probability': 0.16256747842348462}"
     },
     "execution_count": 19,
     "metadata": {},
     "output_type": "execute_result"
    }
   ],
   "source": [
    "response = requests.post('http://0.0.0.0:9696/predict', json=customer)\n",
    "response.json()\n"
   ],
   "metadata": {
    "collapsed": false
   }
  }
 ],
 "metadata": {
  "kernelspec": {
   "display_name": "Python 3",
   "language": "python",
   "name": "python3"
  },
  "language_info": {
   "codemirror_mode": {
    "name": "ipython",
    "version": 2
   },
   "file_extension": ".py",
   "mimetype": "text/x-python",
   "name": "python",
   "nbconvert_exporter": "python",
   "pygments_lexer": "ipython2",
   "version": "2.7.6"
  }
 },
 "nbformat": 4,
 "nbformat_minor": 0
}
